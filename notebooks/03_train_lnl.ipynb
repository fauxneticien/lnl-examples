{
  "nbformat": 4,
  "nbformat_minor": 0,
  "metadata": {
    "colab": {
      "provenance": [],
      "toc_visible": true,
      "authorship_tag": "ABX9TyM+1CXY0cKAZ71HXWEvTvWU",
      "include_colab_link": true
    },
    "kernelspec": {
      "name": "python3",
      "display_name": "Python 3"
    },
    "language_info": {
      "name": "python"
    }
  },
  "cells": [
    {
      "cell_type": "markdown",
      "metadata": {
        "id": "view-in-github",
        "colab_type": "text"
      },
      "source": [
        "<a href=\"https://colab.research.google.com/github/fauxneticien/lnl-examples/blob/main/notebooks/03_train_lnl.ipynb\" target=\"_parent\"><img src=\"https://colab.research.google.com/assets/colab-badge.svg\" alt=\"Open In Colab\"/></a>"
      ]
    },
    {
      "cell_type": "markdown",
      "source": [
        "# Using PyTorch Lightning and Lhotse for speech processing research\n",
        "\n",
        "<p align=\"center\"><img width=\"500\" src=\"https://user-images.githubusercontent.com/9938298/244146091-1e3cf317-910a-4fcf-a0e2-6e755a4935c0.png\"></p>\n",
        "\n",
        "This tutorial is a brief overview of how `train_lnl.py` works. We'll keep things relatively brief compared to the other two tutorials because most of what is implemented here is probably very specific to my use case/preferences in terms of how various components are modularized and configured.\n"
      ],
      "metadata": {
        "id": "iGo-9cLu7_6K"
      }
    },
    {
      "cell_type": "markdown",
      "source": [
        "## Setup\n",
        "\n",
        "### Install dependencies\n",
        "\n",
        "As before, we'll assume the latest versions of `torch(audio)`, `lightning`, and `lhotse` as of early June 2023."
      ],
      "metadata": {
        "id": "2kopjTJk9Ach"
      }
    },
    {
      "cell_type": "code",
      "source": [
        "%%capture\n",
        "\n",
        "!pip install --quiet torch==2.0.1 torchaudio==2.0.2 lightning==2.0.2 lhotse==1.14.0 hydra-core"
      ],
      "metadata": {
        "id": "ujbBY70t8Bl5"
      },
      "execution_count": null,
      "outputs": []
    },
    {
      "cell_type": "markdown",
      "source": [
        "## Configuration management with Hydra\n",
        "\n",
        "The main motivation for using Hydra (and Lightning) in this toy/pedagogical environment is also to help us navigate many other codebases that use both Hydra and Lightning, for example:\n",
        "- https://github.com/NVIDIA/NeMo\n",
        "- https://github.com/openspeech-team/openspeech\n",
        "\n",
        "Recall from previous tutorials that a typical Lightning script might look like:\n",
        "\n",
        "```python\n",
        "import lightning.pytorch as pl\n",
        "\n",
        "from models import SomeModel\n",
        "from datamodule import SomeDataModule\n",
        "\n",
        "# Instantiate/configure model, datamodule, and trainer\n",
        "model = SomeModel(MODEL_CONFIG)\n",
        "datamodule = SomeDataModule(DATAMODULE_CONFIG)\n",
        "trainer = pl.Trainer(TRAINER_CONFIG)\n",
        "\n",
        "trainer.fit(model, datamodule)\n",
        "```\n",
        "\n",
        "Essentially, Hydra let's us setup and store the instantiation/configuration using a collection of YAML files containing various key-value pairs that are over-ridable. Let's see what that actually entails..."
      ],
      "metadata": {
        "id": "unAPDNzM9JT9"
      }
    },
    {
      "cell_type": "markdown",
      "source": [
        "### Class instantiation in Python\n",
        "\n",
        "Let's have a look at a toy example below. In Python we can define a class `MyAbstractClass`, which takes a parameter `my_variable` and sets its attribute (`self.my_variable`) to the value when it is instantiated. We also have a method `print_my_var` that we can call to see what this value is later."
      ],
      "metadata": {
        "id": "GsvCUHEG_zrV"
      }
    },
    {
      "cell_type": "code",
      "source": [
        "class MyAbstractClass:\n",
        "  def __init__(self, my_variable):\n",
        "    self.my_variable = my_variable\n",
        "\n",
        "  def print_my_var(self):\n",
        "    print(self.my_variable)\n",
        "\n",
        "my_instantiated_object = MyAbstractClass('hello!')\n",
        "\n",
        "my_instantiated_object.print_my_var()"
      ],
      "metadata": {
        "colab": {
          "base_uri": "https://localhost:8080/"
        },
        "id": "D45wwgC39PCF",
        "outputId": "31e87e20-9ee3-435b-c66a-e02541abe122"
      },
      "execution_count": null,
      "outputs": [
        {
          "output_type": "stream",
          "name": "stdout",
          "text": [
            "hello!\n"
          ]
        }
      ]
    },
    {
      "cell_type": "markdown",
      "source": [
        "#### Import from file\n",
        "\n",
        "We can also store `MyAbstractClass` in some file/folder and import this class when we want to use it."
      ],
      "metadata": {
        "id": "G4aROtRvCoVP"
      }
    },
    {
      "cell_type": "code",
      "source": [
        "%%bash\n",
        "# my_abstract_class.py\n",
        "cat << EOF > my_abstract_class.py\n",
        "\n",
        "class MyAbstractClass:\n",
        "  def __init__(self, my_variable):\n",
        "    self.my_variable = my_variable\n",
        "\n",
        "  def print_my_var(self):\n",
        "    print(self.my_variable)\n",
        "\n",
        "EOF"
      ],
      "metadata": {
        "id": "5o0LZjHfAXUY"
      },
      "execution_count": null,
      "outputs": []
    },
    {
      "cell_type": "code",
      "source": [
        "from my_abstract_class import MyAbstractClass\n",
        "\n",
        "my_instantiated_object = MyAbstractClass('hello, from a file!')\n",
        "\n",
        "my_instantiated_object.print_my_var()"
      ],
      "metadata": {
        "colab": {
          "base_uri": "https://localhost:8080/"
        },
        "id": "wtFDGNShBmaq",
        "outputId": "830bbc7b-b172-4570-87fc-5cc58469dd23"
      },
      "execution_count": null,
      "outputs": [
        {
          "output_type": "stream",
          "name": "stdout",
          "text": [
            "hello, from a file!\n"
          ]
        }
      ]
    },
    {
      "cell_type": "markdown",
      "source": [
        "#### Import/instantiate using Hydra\n",
        "\n",
        "Hydra let's us store the path to the class (as `_target_`) and the instantiation parameters (as key-value pairs) and store it in a YAML format:"
      ],
      "metadata": {
        "id": "9Uim7wk5F42Y"
      }
    },
    {
      "cell_type": "code",
      "source": [
        "%%bash\n",
        "# my_config.yaml\n",
        "cat << EOF > my_config.yaml\n",
        "\n",
        "my_instantiated_object:\n",
        "  _target_: my_abstract_class.MyAbstractClass\n",
        "  my_variable: \"hello, from a yaml file!\"\n",
        "\n",
        "EOF"
      ],
      "metadata": {
        "id": "4K2kjaZ1Bt5_"
      },
      "execution_count": null,
      "outputs": []
    },
    {
      "cell_type": "code",
      "source": [
        "from hydra import initialize, compose\n",
        "\n",
        "with initialize(version_base=\"1.3\", config_path='.'):\n",
        "    config = compose(config_name=\"my_config.yaml\")\n",
        "\n",
        "config"
      ],
      "metadata": {
        "colab": {
          "base_uri": "https://localhost:8080/"
        },
        "id": "W5i3DblEGW_d",
        "outputId": "f680f433-288f-4459-bdc1-c588e57c14f7"
      },
      "execution_count": null,
      "outputs": [
        {
          "output_type": "execute_result",
          "data": {
            "text/plain": [
              "{'my_instantiated_object': {'_target_': 'my_abstract_class.MyAbstractClass', 'my_variable': 'hello, from a yaml file!'}}"
            ]
          },
          "metadata": {},
          "execution_count": 32
        }
      ]
    },
    {
      "cell_type": "code",
      "source": [
        "from hydra.utils import instantiate\n",
        "\n",
        "my_instantiated_object = instantiate(config.my_instantiated_object)\n",
        "\n",
        "my_instantiated_object.print_my_var()"
      ],
      "metadata": {
        "colab": {
          "base_uri": "https://localhost:8080/"
        },
        "id": "EjkEvjp8GfBe",
        "outputId": "fd7bb10d-6ea8-460d-9060-85cabf74a26d"
      },
      "execution_count": null,
      "outputs": [
        {
          "output_type": "stream",
          "name": "stdout",
          "text": [
            "hello, from a yaml file!\n"
          ]
        }
      ]
    },
    {
      "cell_type": "markdown",
      "source": [
        "### Hydra for ML workflows\n",
        "\n",
        "The nice thing about Hydra is that it allows us to mix and match models, datasets, and trainer configurations. For example, given the (pseudo)code in `config.yaml` and `train.py`:\n",
        "\n",
        "```yaml\n",
        "# config.yaml\n",
        "model:\n",
        "  _target_: models.DeepSpeech.DeepSpeechLightningModule\n",
        "  n_feature: 80\n",
        "\n",
        "  val_decoder:\n",
        "    _target_: models._utils.GreedyCTCDecoder\n",
        "```\n",
        "\n",
        "```python\n",
        "# train.py\n",
        "import hydra\n",
        "\n",
        "@hydra.main(version_base=\"1.3\", config_path=\".\", config_name=\"config.yaml\")\n",
        "def train(cfg) -> None:\n",
        "  model = hydra.utils.instantiate(cfg.model)\n",
        "  datamodule = hydra.utils.instantiate(cfg.datamodule)\n",
        "  trainer = hydra.utils.instantiate(cfg.trainer)\n",
        "\n",
        "  trainer.fit(model, datamodule)\n",
        "\n",
        "if __name__ == \"__main__\":\n",
        "    train()\n",
        "```\n",
        "\n",
        "You can run the following:\n",
        "- Run training with default config:\n",
        "  ```\n",
        "  python train.py\n",
        "  ```\n",
        "\n",
        "- Over-ride parameters in the YAML using the CLI:\n",
        "  ```\n",
        "  python train.py model.n_feature=128\n",
        "  ```\n",
        "\n",
        "- Over-ride parameters not in the YAML but accepted by the class's `__init__`:\n",
        "  ```\n",
        "  python train.py trainer.accelerator=gpu trainer.devices=4\n",
        "  ```"
      ],
      "metadata": {
        "id": "0ZpugSGZHQNn"
      }
    },
    {
      "cell_type": "markdown",
      "source": [
        "### Further reading\n",
        "- Hydra docs: https://hydra.cc/docs/1.3/intro/\n",
        "- Lightning + Hydra template: https://github.com/ashleve/lightning-hydra-template"
      ],
      "metadata": {
        "id": "fO1YfU8RJ6bR"
      }
    },
    {
      "cell_type": "code",
      "source": [],
      "metadata": {
        "id": "TDrm20tZJ77x"
      },
      "execution_count": null,
      "outputs": []
    }
  ]
}