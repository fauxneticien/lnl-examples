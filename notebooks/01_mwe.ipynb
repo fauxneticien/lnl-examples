{
  "nbformat": 4,
  "nbformat_minor": 0,
  "metadata": {
    "colab": {
      "provenance": [],
      "toc_visible": true,
      "authorship_tag": "ABX9TyOAigjxb4ji1gJtVYdpq7Zd",
      "include_colab_link": true
    },
    "kernelspec": {
      "name": "python3",
      "display_name": "Python 3"
    },
    "language_info": {
      "name": "python"
    },
    "widgets": {
      "application/vnd.jupyter.widget-state+json": {
        "1e9487e411224dd39bccb6f68a2d4020": {
          "model_module": "@jupyter-widgets/controls",
          "model_name": "HBoxModel",
          "model_module_version": "1.5.0",
          "state": {
            "_dom_classes": [],
            "_model_module": "@jupyter-widgets/controls",
            "_model_module_version": "1.5.0",
            "_model_name": "HBoxModel",
            "_view_count": null,
            "_view_module": "@jupyter-widgets/controls",
            "_view_module_version": "1.5.0",
            "_view_name": "HBoxView",
            "box_style": "",
            "children": [
              "IPY_MODEL_f2fb726973e64e90bbca30f1ea009079",
              "IPY_MODEL_2e50ca98a3844f6bb2c1202a64706072",
              "IPY_MODEL_c888a41442064e10984e90163cc10be0"
            ],
            "layout": "IPY_MODEL_3156adaee3ca466e9c92724c000ea52e"
          }
        },
        "f2fb726973e64e90bbca30f1ea009079": {
          "model_module": "@jupyter-widgets/controls",
          "model_name": "HTMLModel",
          "model_module_version": "1.5.0",
          "state": {
            "_dom_classes": [],
            "_model_module": "@jupyter-widgets/controls",
            "_model_module_version": "1.5.0",
            "_model_name": "HTMLModel",
            "_view_count": null,
            "_view_module": "@jupyter-widgets/controls",
            "_view_module_version": "1.5.0",
            "_view_name": "HTMLView",
            "description": "",
            "description_tooltip": null,
            "layout": "IPY_MODEL_6d7209b7a7534d2783e24e979aa843c4",
            "placeholder": "​",
            "style": "IPY_MODEL_b4088b7873074867820b1ec921ea8710",
            "value": "Downloading LibriSpeech parts: 100%"
          }
        },
        "2e50ca98a3844f6bb2c1202a64706072": {
          "model_module": "@jupyter-widgets/controls",
          "model_name": "FloatProgressModel",
          "model_module_version": "1.5.0",
          "state": {
            "_dom_classes": [],
            "_model_module": "@jupyter-widgets/controls",
            "_model_module_version": "1.5.0",
            "_model_name": "FloatProgressModel",
            "_view_count": null,
            "_view_module": "@jupyter-widgets/controls",
            "_view_module_version": "1.5.0",
            "_view_name": "ProgressView",
            "bar_style": "success",
            "description": "",
            "description_tooltip": null,
            "layout": "IPY_MODEL_1de3755ac2004b06a9488d55122c93f3",
            "max": 2,
            "min": 0,
            "orientation": "horizontal",
            "style": "IPY_MODEL_e91e239523cb4110bb5a303c3531fda3",
            "value": 2
          }
        },
        "c888a41442064e10984e90163cc10be0": {
          "model_module": "@jupyter-widgets/controls",
          "model_name": "HTMLModel",
          "model_module_version": "1.5.0",
          "state": {
            "_dom_classes": [],
            "_model_module": "@jupyter-widgets/controls",
            "_model_module_version": "1.5.0",
            "_model_name": "HTMLModel",
            "_view_count": null,
            "_view_module": "@jupyter-widgets/controls",
            "_view_module_version": "1.5.0",
            "_view_name": "HTMLView",
            "description": "",
            "description_tooltip": null,
            "layout": "IPY_MODEL_f0373d3dbd0f4db08c47e9bcd8d81f11",
            "placeholder": "​",
            "style": "IPY_MODEL_5b580070d2744a32a46a7f8fe01ba134",
            "value": " 2/2 [00:31&lt;00:00, 16.36s/it]"
          }
        },
        "3156adaee3ca466e9c92724c000ea52e": {
          "model_module": "@jupyter-widgets/base",
          "model_name": "LayoutModel",
          "model_module_version": "1.2.0",
          "state": {
            "_model_module": "@jupyter-widgets/base",
            "_model_module_version": "1.2.0",
            "_model_name": "LayoutModel",
            "_view_count": null,
            "_view_module": "@jupyter-widgets/base",
            "_view_module_version": "1.2.0",
            "_view_name": "LayoutView",
            "align_content": null,
            "align_items": null,
            "align_self": null,
            "border": null,
            "bottom": null,
            "display": null,
            "flex": null,
            "flex_flow": null,
            "grid_area": null,
            "grid_auto_columns": null,
            "grid_auto_flow": null,
            "grid_auto_rows": null,
            "grid_column": null,
            "grid_gap": null,
            "grid_row": null,
            "grid_template_areas": null,
            "grid_template_columns": null,
            "grid_template_rows": null,
            "height": null,
            "justify_content": null,
            "justify_items": null,
            "left": null,
            "margin": null,
            "max_height": null,
            "max_width": null,
            "min_height": null,
            "min_width": null,
            "object_fit": null,
            "object_position": null,
            "order": null,
            "overflow": null,
            "overflow_x": null,
            "overflow_y": null,
            "padding": null,
            "right": null,
            "top": null,
            "visibility": null,
            "width": null
          }
        },
        "6d7209b7a7534d2783e24e979aa843c4": {
          "model_module": "@jupyter-widgets/base",
          "model_name": "LayoutModel",
          "model_module_version": "1.2.0",
          "state": {
            "_model_module": "@jupyter-widgets/base",
            "_model_module_version": "1.2.0",
            "_model_name": "LayoutModel",
            "_view_count": null,
            "_view_module": "@jupyter-widgets/base",
            "_view_module_version": "1.2.0",
            "_view_name": "LayoutView",
            "align_content": null,
            "align_items": null,
            "align_self": null,
            "border": null,
            "bottom": null,
            "display": null,
            "flex": null,
            "flex_flow": null,
            "grid_area": null,
            "grid_auto_columns": null,
            "grid_auto_flow": null,
            "grid_auto_rows": null,
            "grid_column": null,
            "grid_gap": null,
            "grid_row": null,
            "grid_template_areas": null,
            "grid_template_columns": null,
            "grid_template_rows": null,
            "height": null,
            "justify_content": null,
            "justify_items": null,
            "left": null,
            "margin": null,
            "max_height": null,
            "max_width": null,
            "min_height": null,
            "min_width": null,
            "object_fit": null,
            "object_position": null,
            "order": null,
            "overflow": null,
            "overflow_x": null,
            "overflow_y": null,
            "padding": null,
            "right": null,
            "top": null,
            "visibility": null,
            "width": null
          }
        },
        "b4088b7873074867820b1ec921ea8710": {
          "model_module": "@jupyter-widgets/controls",
          "model_name": "DescriptionStyleModel",
          "model_module_version": "1.5.0",
          "state": {
            "_model_module": "@jupyter-widgets/controls",
            "_model_module_version": "1.5.0",
            "_model_name": "DescriptionStyleModel",
            "_view_count": null,
            "_view_module": "@jupyter-widgets/base",
            "_view_module_version": "1.2.0",
            "_view_name": "StyleView",
            "description_width": ""
          }
        },
        "1de3755ac2004b06a9488d55122c93f3": {
          "model_module": "@jupyter-widgets/base",
          "model_name": "LayoutModel",
          "model_module_version": "1.2.0",
          "state": {
            "_model_module": "@jupyter-widgets/base",
            "_model_module_version": "1.2.0",
            "_model_name": "LayoutModel",
            "_view_count": null,
            "_view_module": "@jupyter-widgets/base",
            "_view_module_version": "1.2.0",
            "_view_name": "LayoutView",
            "align_content": null,
            "align_items": null,
            "align_self": null,
            "border": null,
            "bottom": null,
            "display": null,
            "flex": null,
            "flex_flow": null,
            "grid_area": null,
            "grid_auto_columns": null,
            "grid_auto_flow": null,
            "grid_auto_rows": null,
            "grid_column": null,
            "grid_gap": null,
            "grid_row": null,
            "grid_template_areas": null,
            "grid_template_columns": null,
            "grid_template_rows": null,
            "height": null,
            "justify_content": null,
            "justify_items": null,
            "left": null,
            "margin": null,
            "max_height": null,
            "max_width": null,
            "min_height": null,
            "min_width": null,
            "object_fit": null,
            "object_position": null,
            "order": null,
            "overflow": null,
            "overflow_x": null,
            "overflow_y": null,
            "padding": null,
            "right": null,
            "top": null,
            "visibility": null,
            "width": null
          }
        },
        "e91e239523cb4110bb5a303c3531fda3": {
          "model_module": "@jupyter-widgets/controls",
          "model_name": "ProgressStyleModel",
          "model_module_version": "1.5.0",
          "state": {
            "_model_module": "@jupyter-widgets/controls",
            "_model_module_version": "1.5.0",
            "_model_name": "ProgressStyleModel",
            "_view_count": null,
            "_view_module": "@jupyter-widgets/base",
            "_view_module_version": "1.2.0",
            "_view_name": "StyleView",
            "bar_color": null,
            "description_width": ""
          }
        },
        "f0373d3dbd0f4db08c47e9bcd8d81f11": {
          "model_module": "@jupyter-widgets/base",
          "model_name": "LayoutModel",
          "model_module_version": "1.2.0",
          "state": {
            "_model_module": "@jupyter-widgets/base",
            "_model_module_version": "1.2.0",
            "_model_name": "LayoutModel",
            "_view_count": null,
            "_view_module": "@jupyter-widgets/base",
            "_view_module_version": "1.2.0",
            "_view_name": "LayoutView",
            "align_content": null,
            "align_items": null,
            "align_self": null,
            "border": null,
            "bottom": null,
            "display": null,
            "flex": null,
            "flex_flow": null,
            "grid_area": null,
            "grid_auto_columns": null,
            "grid_auto_flow": null,
            "grid_auto_rows": null,
            "grid_column": null,
            "grid_gap": null,
            "grid_row": null,
            "grid_template_areas": null,
            "grid_template_columns": null,
            "grid_template_rows": null,
            "height": null,
            "justify_content": null,
            "justify_items": null,
            "left": null,
            "margin": null,
            "max_height": null,
            "max_width": null,
            "min_height": null,
            "min_width": null,
            "object_fit": null,
            "object_position": null,
            "order": null,
            "overflow": null,
            "overflow_x": null,
            "overflow_y": null,
            "padding": null,
            "right": null,
            "top": null,
            "visibility": null,
            "width": null
          }
        },
        "5b580070d2744a32a46a7f8fe01ba134": {
          "model_module": "@jupyter-widgets/controls",
          "model_name": "DescriptionStyleModel",
          "model_module_version": "1.5.0",
          "state": {
            "_model_module": "@jupyter-widgets/controls",
            "_model_module_version": "1.5.0",
            "_model_name": "DescriptionStyleModel",
            "_view_count": null,
            "_view_module": "@jupyter-widgets/base",
            "_view_module_version": "1.2.0",
            "_view_name": "StyleView",
            "description_width": ""
          }
        },
        "0e17cc6666e44ee98ab2dc2146eb0d47": {
          "model_module": "@jupyter-widgets/controls",
          "model_name": "HBoxModel",
          "model_module_version": "1.5.0",
          "state": {
            "_dom_classes": [],
            "_model_module": "@jupyter-widgets/controls",
            "_model_module_version": "1.5.0",
            "_model_name": "HBoxModel",
            "_view_count": null,
            "_view_module": "@jupyter-widgets/controls",
            "_view_module_version": "1.5.0",
            "_view_name": "HBoxView",
            "box_style": "",
            "children": [
              "IPY_MODEL_93b4f0cf5cb24bcfb88a8dc1af5d2731",
              "IPY_MODEL_4d31090f4f444e82822f718c1c6b220c",
              "IPY_MODEL_2c9f63484a7644ea89644129e9a024a0"
            ],
            "layout": "IPY_MODEL_bc3b03ec7ffc4db19a6ceb8d1406697b"
          }
        },
        "93b4f0cf5cb24bcfb88a8dc1af5d2731": {
          "model_module": "@jupyter-widgets/controls",
          "model_name": "HTMLModel",
          "model_module_version": "1.5.0",
          "state": {
            "_dom_classes": [],
            "_model_module": "@jupyter-widgets/controls",
            "_model_module_version": "1.5.0",
            "_model_name": "HTMLModel",
            "_view_count": null,
            "_view_module": "@jupyter-widgets/controls",
            "_view_module_version": "1.5.0",
            "_view_name": "HTMLView",
            "description": "",
            "description_tooltip": null,
            "layout": "IPY_MODEL_11510c7d634c4e2aba02293195f5f5ad",
            "placeholder": "​",
            "style": "IPY_MODEL_0fdc1ea5cb4c4c619f0e210a2c0bcb81",
            "value": "Downloading dev-clean-2.tar.gz: "
          }
        },
        "4d31090f4f444e82822f718c1c6b220c": {
          "model_module": "@jupyter-widgets/controls",
          "model_name": "FloatProgressModel",
          "model_module_version": "1.5.0",
          "state": {
            "_dom_classes": [],
            "_model_module": "@jupyter-widgets/controls",
            "_model_module_version": "1.5.0",
            "_model_name": "FloatProgressModel",
            "_view_count": null,
            "_view_module": "@jupyter-widgets/controls",
            "_view_module_version": "1.5.0",
            "_view_name": "ProgressView",
            "bar_style": "success",
            "description": "",
            "description_tooltip": null,
            "layout": "IPY_MODEL_0cf54993e6344426a1248ce951055fea",
            "max": 1,
            "min": 0,
            "orientation": "horizontal",
            "style": "IPY_MODEL_45e81a49c2e0486f8d08fbc18d8e32b3",
            "value": 1
          }
        },
        "2c9f63484a7644ea89644129e9a024a0": {
          "model_module": "@jupyter-widgets/controls",
          "model_name": "HTMLModel",
          "model_module_version": "1.5.0",
          "state": {
            "_dom_classes": [],
            "_model_module": "@jupyter-widgets/controls",
            "_model_module_version": "1.5.0",
            "_model_name": "HTMLModel",
            "_view_count": null,
            "_view_module": "@jupyter-widgets/controls",
            "_view_module_version": "1.5.0",
            "_view_name": "HTMLView",
            "description": "",
            "description_tooltip": null,
            "layout": "IPY_MODEL_81a0d1f6692549118cb8fb7ab5b2679f",
            "placeholder": "​",
            "style": "IPY_MODEL_4768e2df6e2845669540f32a74be3256",
            "value": " 120M/? [00:10&lt;00:00, 16.3MB/s]"
          }
        },
        "bc3b03ec7ffc4db19a6ceb8d1406697b": {
          "model_module": "@jupyter-widgets/base",
          "model_name": "LayoutModel",
          "model_module_version": "1.2.0",
          "state": {
            "_model_module": "@jupyter-widgets/base",
            "_model_module_version": "1.2.0",
            "_model_name": "LayoutModel",
            "_view_count": null,
            "_view_module": "@jupyter-widgets/base",
            "_view_module_version": "1.2.0",
            "_view_name": "LayoutView",
            "align_content": null,
            "align_items": null,
            "align_self": null,
            "border": null,
            "bottom": null,
            "display": null,
            "flex": null,
            "flex_flow": null,
            "grid_area": null,
            "grid_auto_columns": null,
            "grid_auto_flow": null,
            "grid_auto_rows": null,
            "grid_column": null,
            "grid_gap": null,
            "grid_row": null,
            "grid_template_areas": null,
            "grid_template_columns": null,
            "grid_template_rows": null,
            "height": null,
            "justify_content": null,
            "justify_items": null,
            "left": null,
            "margin": null,
            "max_height": null,
            "max_width": null,
            "min_height": null,
            "min_width": null,
            "object_fit": null,
            "object_position": null,
            "order": null,
            "overflow": null,
            "overflow_x": null,
            "overflow_y": null,
            "padding": null,
            "right": null,
            "top": null,
            "visibility": null,
            "width": null
          }
        },
        "11510c7d634c4e2aba02293195f5f5ad": {
          "model_module": "@jupyter-widgets/base",
          "model_name": "LayoutModel",
          "model_module_version": "1.2.0",
          "state": {
            "_model_module": "@jupyter-widgets/base",
            "_model_module_version": "1.2.0",
            "_model_name": "LayoutModel",
            "_view_count": null,
            "_view_module": "@jupyter-widgets/base",
            "_view_module_version": "1.2.0",
            "_view_name": "LayoutView",
            "align_content": null,
            "align_items": null,
            "align_self": null,
            "border": null,
            "bottom": null,
            "display": null,
            "flex": null,
            "flex_flow": null,
            "grid_area": null,
            "grid_auto_columns": null,
            "grid_auto_flow": null,
            "grid_auto_rows": null,
            "grid_column": null,
            "grid_gap": null,
            "grid_row": null,
            "grid_template_areas": null,
            "grid_template_columns": null,
            "grid_template_rows": null,
            "height": null,
            "justify_content": null,
            "justify_items": null,
            "left": null,
            "margin": null,
            "max_height": null,
            "max_width": null,
            "min_height": null,
            "min_width": null,
            "object_fit": null,
            "object_position": null,
            "order": null,
            "overflow": null,
            "overflow_x": null,
            "overflow_y": null,
            "padding": null,
            "right": null,
            "top": null,
            "visibility": null,
            "width": null
          }
        },
        "0fdc1ea5cb4c4c619f0e210a2c0bcb81": {
          "model_module": "@jupyter-widgets/controls",
          "model_name": "DescriptionStyleModel",
          "model_module_version": "1.5.0",
          "state": {
            "_model_module": "@jupyter-widgets/controls",
            "_model_module_version": "1.5.0",
            "_model_name": "DescriptionStyleModel",
            "_view_count": null,
            "_view_module": "@jupyter-widgets/base",
            "_view_module_version": "1.2.0",
            "_view_name": "StyleView",
            "description_width": ""
          }
        },
        "0cf54993e6344426a1248ce951055fea": {
          "model_module": "@jupyter-widgets/base",
          "model_name": "LayoutModel",
          "model_module_version": "1.2.0",
          "state": {
            "_model_module": "@jupyter-widgets/base",
            "_model_module_version": "1.2.0",
            "_model_name": "LayoutModel",
            "_view_count": null,
            "_view_module": "@jupyter-widgets/base",
            "_view_module_version": "1.2.0",
            "_view_name": "LayoutView",
            "align_content": null,
            "align_items": null,
            "align_self": null,
            "border": null,
            "bottom": null,
            "display": null,
            "flex": null,
            "flex_flow": null,
            "grid_area": null,
            "grid_auto_columns": null,
            "grid_auto_flow": null,
            "grid_auto_rows": null,
            "grid_column": null,
            "grid_gap": null,
            "grid_row": null,
            "grid_template_areas": null,
            "grid_template_columns": null,
            "grid_template_rows": null,
            "height": null,
            "justify_content": null,
            "justify_items": null,
            "left": null,
            "margin": null,
            "max_height": null,
            "max_width": null,
            "min_height": null,
            "min_width": null,
            "object_fit": null,
            "object_position": null,
            "order": null,
            "overflow": null,
            "overflow_x": null,
            "overflow_y": null,
            "padding": null,
            "right": null,
            "top": null,
            "visibility": null,
            "width": "20px"
          }
        },
        "45e81a49c2e0486f8d08fbc18d8e32b3": {
          "model_module": "@jupyter-widgets/controls",
          "model_name": "ProgressStyleModel",
          "model_module_version": "1.5.0",
          "state": {
            "_model_module": "@jupyter-widgets/controls",
            "_model_module_version": "1.5.0",
            "_model_name": "ProgressStyleModel",
            "_view_count": null,
            "_view_module": "@jupyter-widgets/base",
            "_view_module_version": "1.2.0",
            "_view_name": "StyleView",
            "bar_color": null,
            "description_width": ""
          }
        },
        "81a0d1f6692549118cb8fb7ab5b2679f": {
          "model_module": "@jupyter-widgets/base",
          "model_name": "LayoutModel",
          "model_module_version": "1.2.0",
          "state": {
            "_model_module": "@jupyter-widgets/base",
            "_model_module_version": "1.2.0",
            "_model_name": "LayoutModel",
            "_view_count": null,
            "_view_module": "@jupyter-widgets/base",
            "_view_module_version": "1.2.0",
            "_view_name": "LayoutView",
            "align_content": null,
            "align_items": null,
            "align_self": null,
            "border": null,
            "bottom": null,
            "display": null,
            "flex": null,
            "flex_flow": null,
            "grid_area": null,
            "grid_auto_columns": null,
            "grid_auto_flow": null,
            "grid_auto_rows": null,
            "grid_column": null,
            "grid_gap": null,
            "grid_row": null,
            "grid_template_areas": null,
            "grid_template_columns": null,
            "grid_template_rows": null,
            "height": null,
            "justify_content": null,
            "justify_items": null,
            "left": null,
            "margin": null,
            "max_height": null,
            "max_width": null,
            "min_height": null,
            "min_width": null,
            "object_fit": null,
            "object_position": null,
            "order": null,
            "overflow": null,
            "overflow_x": null,
            "overflow_y": null,
            "padding": null,
            "right": null,
            "top": null,
            "visibility": null,
            "width": null
          }
        },
        "4768e2df6e2845669540f32a74be3256": {
          "model_module": "@jupyter-widgets/controls",
          "model_name": "DescriptionStyleModel",
          "model_module_version": "1.5.0",
          "state": {
            "_model_module": "@jupyter-widgets/controls",
            "_model_module_version": "1.5.0",
            "_model_name": "DescriptionStyleModel",
            "_view_count": null,
            "_view_module": "@jupyter-widgets/base",
            "_view_module_version": "1.2.0",
            "_view_name": "StyleView",
            "description_width": ""
          }
        },
        "6d808c738b574ddc8850ab88cfc3e48d": {
          "model_module": "@jupyter-widgets/controls",
          "model_name": "HBoxModel",
          "model_module_version": "1.5.0",
          "state": {
            "_dom_classes": [],
            "_model_module": "@jupyter-widgets/controls",
            "_model_module_version": "1.5.0",
            "_model_name": "HBoxModel",
            "_view_count": null,
            "_view_module": "@jupyter-widgets/controls",
            "_view_module_version": "1.5.0",
            "_view_name": "HBoxView",
            "box_style": "",
            "children": [
              "IPY_MODEL_0eb335022a9544c5b0833d0f93c09094",
              "IPY_MODEL_c6ca2f27dddc4d6e92812369c3924ec6",
              "IPY_MODEL_2d8fe5e4749340aaa2becf75bbba0f14"
            ],
            "layout": "IPY_MODEL_c417f588a4a248e888059025cc613c85"
          }
        },
        "0eb335022a9544c5b0833d0f93c09094": {
          "model_module": "@jupyter-widgets/controls",
          "model_name": "HTMLModel",
          "model_module_version": "1.5.0",
          "state": {
            "_dom_classes": [],
            "_model_module": "@jupyter-widgets/controls",
            "_model_module_version": "1.5.0",
            "_model_name": "HTMLModel",
            "_view_count": null,
            "_view_module": "@jupyter-widgets/controls",
            "_view_module_version": "1.5.0",
            "_view_name": "HTMLView",
            "description": "",
            "description_tooltip": null,
            "layout": "IPY_MODEL_4793f90554c94f75b8211345d7753ee1",
            "placeholder": "​",
            "style": "IPY_MODEL_26408fbe93fd46fa99c090b6d452385c",
            "value": "Downloading train-clean-5.tar.gz: "
          }
        },
        "c6ca2f27dddc4d6e92812369c3924ec6": {
          "model_module": "@jupyter-widgets/controls",
          "model_name": "FloatProgressModel",
          "model_module_version": "1.5.0",
          "state": {
            "_dom_classes": [],
            "_model_module": "@jupyter-widgets/controls",
            "_model_module_version": "1.5.0",
            "_model_name": "FloatProgressModel",
            "_view_count": null,
            "_view_module": "@jupyter-widgets/controls",
            "_view_module_version": "1.5.0",
            "_view_name": "ProgressView",
            "bar_style": "success",
            "description": "",
            "description_tooltip": null,
            "layout": "IPY_MODEL_526641fecd2748f589c9dfc7b9678f63",
            "max": 1,
            "min": 0,
            "orientation": "horizontal",
            "style": "IPY_MODEL_32c562342c3a4512a77284f709a08aff",
            "value": 1
          }
        },
        "2d8fe5e4749340aaa2becf75bbba0f14": {
          "model_module": "@jupyter-widgets/controls",
          "model_name": "HTMLModel",
          "model_module_version": "1.5.0",
          "state": {
            "_dom_classes": [],
            "_model_module": "@jupyter-widgets/controls",
            "_model_module_version": "1.5.0",
            "_model_name": "HTMLModel",
            "_view_count": null,
            "_view_module": "@jupyter-widgets/controls",
            "_view_module_version": "1.5.0",
            "_view_name": "HTMLView",
            "description": "",
            "description_tooltip": null,
            "layout": "IPY_MODEL_35b8e4fc1b3b482d838825f7c20b236d",
            "placeholder": "​",
            "style": "IPY_MODEL_aa6391b45211450fbef417189e0def48",
            "value": " 318M/? [00:17&lt;00:00, 21.8MB/s]"
          }
        },
        "c417f588a4a248e888059025cc613c85": {
          "model_module": "@jupyter-widgets/base",
          "model_name": "LayoutModel",
          "model_module_version": "1.2.0",
          "state": {
            "_model_module": "@jupyter-widgets/base",
            "_model_module_version": "1.2.0",
            "_model_name": "LayoutModel",
            "_view_count": null,
            "_view_module": "@jupyter-widgets/base",
            "_view_module_version": "1.2.0",
            "_view_name": "LayoutView",
            "align_content": null,
            "align_items": null,
            "align_self": null,
            "border": null,
            "bottom": null,
            "display": null,
            "flex": null,
            "flex_flow": null,
            "grid_area": null,
            "grid_auto_columns": null,
            "grid_auto_flow": null,
            "grid_auto_rows": null,
            "grid_column": null,
            "grid_gap": null,
            "grid_row": null,
            "grid_template_areas": null,
            "grid_template_columns": null,
            "grid_template_rows": null,
            "height": null,
            "justify_content": null,
            "justify_items": null,
            "left": null,
            "margin": null,
            "max_height": null,
            "max_width": null,
            "min_height": null,
            "min_width": null,
            "object_fit": null,
            "object_position": null,
            "order": null,
            "overflow": null,
            "overflow_x": null,
            "overflow_y": null,
            "padding": null,
            "right": null,
            "top": null,
            "visibility": null,
            "width": null
          }
        },
        "4793f90554c94f75b8211345d7753ee1": {
          "model_module": "@jupyter-widgets/base",
          "model_name": "LayoutModel",
          "model_module_version": "1.2.0",
          "state": {
            "_model_module": "@jupyter-widgets/base",
            "_model_module_version": "1.2.0",
            "_model_name": "LayoutModel",
            "_view_count": null,
            "_view_module": "@jupyter-widgets/base",
            "_view_module_version": "1.2.0",
            "_view_name": "LayoutView",
            "align_content": null,
            "align_items": null,
            "align_self": null,
            "border": null,
            "bottom": null,
            "display": null,
            "flex": null,
            "flex_flow": null,
            "grid_area": null,
            "grid_auto_columns": null,
            "grid_auto_flow": null,
            "grid_auto_rows": null,
            "grid_column": null,
            "grid_gap": null,
            "grid_row": null,
            "grid_template_areas": null,
            "grid_template_columns": null,
            "grid_template_rows": null,
            "height": null,
            "justify_content": null,
            "justify_items": null,
            "left": null,
            "margin": null,
            "max_height": null,
            "max_width": null,
            "min_height": null,
            "min_width": null,
            "object_fit": null,
            "object_position": null,
            "order": null,
            "overflow": null,
            "overflow_x": null,
            "overflow_y": null,
            "padding": null,
            "right": null,
            "top": null,
            "visibility": null,
            "width": null
          }
        },
        "26408fbe93fd46fa99c090b6d452385c": {
          "model_module": "@jupyter-widgets/controls",
          "model_name": "DescriptionStyleModel",
          "model_module_version": "1.5.0",
          "state": {
            "_model_module": "@jupyter-widgets/controls",
            "_model_module_version": "1.5.0",
            "_model_name": "DescriptionStyleModel",
            "_view_count": null,
            "_view_module": "@jupyter-widgets/base",
            "_view_module_version": "1.2.0",
            "_view_name": "StyleView",
            "description_width": ""
          }
        },
        "526641fecd2748f589c9dfc7b9678f63": {
          "model_module": "@jupyter-widgets/base",
          "model_name": "LayoutModel",
          "model_module_version": "1.2.0",
          "state": {
            "_model_module": "@jupyter-widgets/base",
            "_model_module_version": "1.2.0",
            "_model_name": "LayoutModel",
            "_view_count": null,
            "_view_module": "@jupyter-widgets/base",
            "_view_module_version": "1.2.0",
            "_view_name": "LayoutView",
            "align_content": null,
            "align_items": null,
            "align_self": null,
            "border": null,
            "bottom": null,
            "display": null,
            "flex": null,
            "flex_flow": null,
            "grid_area": null,
            "grid_auto_columns": null,
            "grid_auto_flow": null,
            "grid_auto_rows": null,
            "grid_column": null,
            "grid_gap": null,
            "grid_row": null,
            "grid_template_areas": null,
            "grid_template_columns": null,
            "grid_template_rows": null,
            "height": null,
            "justify_content": null,
            "justify_items": null,
            "left": null,
            "margin": null,
            "max_height": null,
            "max_width": null,
            "min_height": null,
            "min_width": null,
            "object_fit": null,
            "object_position": null,
            "order": null,
            "overflow": null,
            "overflow_x": null,
            "overflow_y": null,
            "padding": null,
            "right": null,
            "top": null,
            "visibility": null,
            "width": "20px"
          }
        },
        "32c562342c3a4512a77284f709a08aff": {
          "model_module": "@jupyter-widgets/controls",
          "model_name": "ProgressStyleModel",
          "model_module_version": "1.5.0",
          "state": {
            "_model_module": "@jupyter-widgets/controls",
            "_model_module_version": "1.5.0",
            "_model_name": "ProgressStyleModel",
            "_view_count": null,
            "_view_module": "@jupyter-widgets/base",
            "_view_module_version": "1.2.0",
            "_view_name": "StyleView",
            "bar_color": null,
            "description_width": ""
          }
        },
        "35b8e4fc1b3b482d838825f7c20b236d": {
          "model_module": "@jupyter-widgets/base",
          "model_name": "LayoutModel",
          "model_module_version": "1.2.0",
          "state": {
            "_model_module": "@jupyter-widgets/base",
            "_model_module_version": "1.2.0",
            "_model_name": "LayoutModel",
            "_view_count": null,
            "_view_module": "@jupyter-widgets/base",
            "_view_module_version": "1.2.0",
            "_view_name": "LayoutView",
            "align_content": null,
            "align_items": null,
            "align_self": null,
            "border": null,
            "bottom": null,
            "display": null,
            "flex": null,
            "flex_flow": null,
            "grid_area": null,
            "grid_auto_columns": null,
            "grid_auto_flow": null,
            "grid_auto_rows": null,
            "grid_column": null,
            "grid_gap": null,
            "grid_row": null,
            "grid_template_areas": null,
            "grid_template_columns": null,
            "grid_template_rows": null,
            "height": null,
            "justify_content": null,
            "justify_items": null,
            "left": null,
            "margin": null,
            "max_height": null,
            "max_width": null,
            "min_height": null,
            "min_width": null,
            "object_fit": null,
            "object_position": null,
            "order": null,
            "overflow": null,
            "overflow_x": null,
            "overflow_y": null,
            "padding": null,
            "right": null,
            "top": null,
            "visibility": null,
            "width": null
          }
        },
        "aa6391b45211450fbef417189e0def48": {
          "model_module": "@jupyter-widgets/controls",
          "model_name": "DescriptionStyleModel",
          "model_module_version": "1.5.0",
          "state": {
            "_model_module": "@jupyter-widgets/controls",
            "_model_module_version": "1.5.0",
            "_model_name": "DescriptionStyleModel",
            "_view_count": null,
            "_view_module": "@jupyter-widgets/base",
            "_view_module_version": "1.2.0",
            "_view_name": "StyleView",
            "description_width": ""
          }
        },
        "ab27c1bb00214105becfd783b3d3e8d5": {
          "model_module": "@jupyter-widgets/controls",
          "model_name": "HBoxModel",
          "model_module_version": "1.5.0",
          "state": {
            "_dom_classes": [],
            "_model_module": "@jupyter-widgets/controls",
            "_model_module_version": "1.5.0",
            "_model_name": "HBoxModel",
            "_view_count": null,
            "_view_module": "@jupyter-widgets/controls",
            "_view_module_version": "1.5.0",
            "_view_name": "HBoxView",
            "box_style": "",
            "children": [
              "IPY_MODEL_bd027e124b5540898e8b08b4216ab99c",
              "IPY_MODEL_127168ed76d946b4a344e7a96b155b90",
              "IPY_MODEL_6fc6e69d0cf24b0fbbb4c2e0e9d04b2e"
            ],
            "layout": "IPY_MODEL_c36cc8cb46c84a96a11228da7ba89227"
          }
        },
        "bd027e124b5540898e8b08b4216ab99c": {
          "model_module": "@jupyter-widgets/controls",
          "model_name": "HTMLModel",
          "model_module_version": "1.5.0",
          "state": {
            "_dom_classes": [],
            "_model_module": "@jupyter-widgets/controls",
            "_model_module_version": "1.5.0",
            "_model_name": "HTMLModel",
            "_view_count": null,
            "_view_module": "@jupyter-widgets/controls",
            "_view_module_version": "1.5.0",
            "_view_name": "HTMLView",
            "description": "",
            "description_tooltip": null,
            "layout": "IPY_MODEL_4525b4c3735f4cceb15152ee3c7030cb",
            "placeholder": "​",
            "style": "IPY_MODEL_05268f7e58854bac994db49c542c1474",
            "value": "Dataset parts: 100%"
          }
        },
        "127168ed76d946b4a344e7a96b155b90": {
          "model_module": "@jupyter-widgets/controls",
          "model_name": "FloatProgressModel",
          "model_module_version": "1.5.0",
          "state": {
            "_dom_classes": [],
            "_model_module": "@jupyter-widgets/controls",
            "_model_module_version": "1.5.0",
            "_model_name": "FloatProgressModel",
            "_view_count": null,
            "_view_module": "@jupyter-widgets/controls",
            "_view_module_version": "1.5.0",
            "_view_name": "ProgressView",
            "bar_style": "success",
            "description": "",
            "description_tooltip": null,
            "layout": "IPY_MODEL_8b5c6fded9374947975e1eb83683bb92",
            "max": 2,
            "min": 0,
            "orientation": "horizontal",
            "style": "IPY_MODEL_cd628059eb084bd88645dfcad959e23f",
            "value": 2
          }
        },
        "6fc6e69d0cf24b0fbbb4c2e0e9d04b2e": {
          "model_module": "@jupyter-widgets/controls",
          "model_name": "HTMLModel",
          "model_module_version": "1.5.0",
          "state": {
            "_dom_classes": [],
            "_model_module": "@jupyter-widgets/controls",
            "_model_module_version": "1.5.0",
            "_model_name": "HTMLModel",
            "_view_count": null,
            "_view_module": "@jupyter-widgets/controls",
            "_view_module_version": "1.5.0",
            "_view_name": "HTMLView",
            "description": "",
            "description_tooltip": null,
            "layout": "IPY_MODEL_35a1ebae7a3941b8b2a8927e6d15b734",
            "placeholder": "​",
            "style": "IPY_MODEL_9b695565e92c47ca81b58d06d7a2ddc3",
            "value": " 2/2 [00:01&lt;00:00,  1.57it/s]"
          }
        },
        "c36cc8cb46c84a96a11228da7ba89227": {
          "model_module": "@jupyter-widgets/base",
          "model_name": "LayoutModel",
          "model_module_version": "1.2.0",
          "state": {
            "_model_module": "@jupyter-widgets/base",
            "_model_module_version": "1.2.0",
            "_model_name": "LayoutModel",
            "_view_count": null,
            "_view_module": "@jupyter-widgets/base",
            "_view_module_version": "1.2.0",
            "_view_name": "LayoutView",
            "align_content": null,
            "align_items": null,
            "align_self": null,
            "border": null,
            "bottom": null,
            "display": null,
            "flex": null,
            "flex_flow": null,
            "grid_area": null,
            "grid_auto_columns": null,
            "grid_auto_flow": null,
            "grid_auto_rows": null,
            "grid_column": null,
            "grid_gap": null,
            "grid_row": null,
            "grid_template_areas": null,
            "grid_template_columns": null,
            "grid_template_rows": null,
            "height": null,
            "justify_content": null,
            "justify_items": null,
            "left": null,
            "margin": null,
            "max_height": null,
            "max_width": null,
            "min_height": null,
            "min_width": null,
            "object_fit": null,
            "object_position": null,
            "order": null,
            "overflow": null,
            "overflow_x": null,
            "overflow_y": null,
            "padding": null,
            "right": null,
            "top": null,
            "visibility": null,
            "width": null
          }
        },
        "4525b4c3735f4cceb15152ee3c7030cb": {
          "model_module": "@jupyter-widgets/base",
          "model_name": "LayoutModel",
          "model_module_version": "1.2.0",
          "state": {
            "_model_module": "@jupyter-widgets/base",
            "_model_module_version": "1.2.0",
            "_model_name": "LayoutModel",
            "_view_count": null,
            "_view_module": "@jupyter-widgets/base",
            "_view_module_version": "1.2.0",
            "_view_name": "LayoutView",
            "align_content": null,
            "align_items": null,
            "align_self": null,
            "border": null,
            "bottom": null,
            "display": null,
            "flex": null,
            "flex_flow": null,
            "grid_area": null,
            "grid_auto_columns": null,
            "grid_auto_flow": null,
            "grid_auto_rows": null,
            "grid_column": null,
            "grid_gap": null,
            "grid_row": null,
            "grid_template_areas": null,
            "grid_template_columns": null,
            "grid_template_rows": null,
            "height": null,
            "justify_content": null,
            "justify_items": null,
            "left": null,
            "margin": null,
            "max_height": null,
            "max_width": null,
            "min_height": null,
            "min_width": null,
            "object_fit": null,
            "object_position": null,
            "order": null,
            "overflow": null,
            "overflow_x": null,
            "overflow_y": null,
            "padding": null,
            "right": null,
            "top": null,
            "visibility": null,
            "width": null
          }
        },
        "05268f7e58854bac994db49c542c1474": {
          "model_module": "@jupyter-widgets/controls",
          "model_name": "DescriptionStyleModel",
          "model_module_version": "1.5.0",
          "state": {
            "_model_module": "@jupyter-widgets/controls",
            "_model_module_version": "1.5.0",
            "_model_name": "DescriptionStyleModel",
            "_view_count": null,
            "_view_module": "@jupyter-widgets/base",
            "_view_module_version": "1.2.0",
            "_view_name": "StyleView",
            "description_width": ""
          }
        },
        "8b5c6fded9374947975e1eb83683bb92": {
          "model_module": "@jupyter-widgets/base",
          "model_name": "LayoutModel",
          "model_module_version": "1.2.0",
          "state": {
            "_model_module": "@jupyter-widgets/base",
            "_model_module_version": "1.2.0",
            "_model_name": "LayoutModel",
            "_view_count": null,
            "_view_module": "@jupyter-widgets/base",
            "_view_module_version": "1.2.0",
            "_view_name": "LayoutView",
            "align_content": null,
            "align_items": null,
            "align_self": null,
            "border": null,
            "bottom": null,
            "display": null,
            "flex": null,
            "flex_flow": null,
            "grid_area": null,
            "grid_auto_columns": null,
            "grid_auto_flow": null,
            "grid_auto_rows": null,
            "grid_column": null,
            "grid_gap": null,
            "grid_row": null,
            "grid_template_areas": null,
            "grid_template_columns": null,
            "grid_template_rows": null,
            "height": null,
            "justify_content": null,
            "justify_items": null,
            "left": null,
            "margin": null,
            "max_height": null,
            "max_width": null,
            "min_height": null,
            "min_width": null,
            "object_fit": null,
            "object_position": null,
            "order": null,
            "overflow": null,
            "overflow_x": null,
            "overflow_y": null,
            "padding": null,
            "right": null,
            "top": null,
            "visibility": null,
            "width": null
          }
        },
        "cd628059eb084bd88645dfcad959e23f": {
          "model_module": "@jupyter-widgets/controls",
          "model_name": "ProgressStyleModel",
          "model_module_version": "1.5.0",
          "state": {
            "_model_module": "@jupyter-widgets/controls",
            "_model_module_version": "1.5.0",
            "_model_name": "ProgressStyleModel",
            "_view_count": null,
            "_view_module": "@jupyter-widgets/base",
            "_view_module_version": "1.2.0",
            "_view_name": "StyleView",
            "bar_color": null,
            "description_width": ""
          }
        },
        "35a1ebae7a3941b8b2a8927e6d15b734": {
          "model_module": "@jupyter-widgets/base",
          "model_name": "LayoutModel",
          "model_module_version": "1.2.0",
          "state": {
            "_model_module": "@jupyter-widgets/base",
            "_model_module_version": "1.2.0",
            "_model_name": "LayoutModel",
            "_view_count": null,
            "_view_module": "@jupyter-widgets/base",
            "_view_module_version": "1.2.0",
            "_view_name": "LayoutView",
            "align_content": null,
            "align_items": null,
            "align_self": null,
            "border": null,
            "bottom": null,
            "display": null,
            "flex": null,
            "flex_flow": null,
            "grid_area": null,
            "grid_auto_columns": null,
            "grid_auto_flow": null,
            "grid_auto_rows": null,
            "grid_column": null,
            "grid_gap": null,
            "grid_row": null,
            "grid_template_areas": null,
            "grid_template_columns": null,
            "grid_template_rows": null,
            "height": null,
            "justify_content": null,
            "justify_items": null,
            "left": null,
            "margin": null,
            "max_height": null,
            "max_width": null,
            "min_height": null,
            "min_width": null,
            "object_fit": null,
            "object_position": null,
            "order": null,
            "overflow": null,
            "overflow_x": null,
            "overflow_y": null,
            "padding": null,
            "right": null,
            "top": null,
            "visibility": null,
            "width": null
          }
        },
        "9b695565e92c47ca81b58d06d7a2ddc3": {
          "model_module": "@jupyter-widgets/controls",
          "model_name": "DescriptionStyleModel",
          "model_module_version": "1.5.0",
          "state": {
            "_model_module": "@jupyter-widgets/controls",
            "_model_module_version": "1.5.0",
            "_model_name": "DescriptionStyleModel",
            "_view_count": null,
            "_view_module": "@jupyter-widgets/base",
            "_view_module_version": "1.2.0",
            "_view_name": "StyleView",
            "description_width": ""
          }
        },
        "c76807b753d64dc39933a46fc9f2fff3": {
          "model_module": "@jupyter-widgets/controls",
          "model_name": "HBoxModel",
          "model_module_version": "1.5.0",
          "state": {
            "_dom_classes": [],
            "_model_module": "@jupyter-widgets/controls",
            "_model_module_version": "1.5.0",
            "_model_name": "HBoxModel",
            "_view_count": null,
            "_view_module": "@jupyter-widgets/controls",
            "_view_module_version": "1.5.0",
            "_view_name": "HBoxView",
            "box_style": "",
            "children": [
              "IPY_MODEL_bd51056494c44476bc205381350a4636",
              "IPY_MODEL_a18a791357a24be2a6c9f7d5da657fa6",
              "IPY_MODEL_903d9814b774452081cc5bdd7bd64167"
            ],
            "layout": "IPY_MODEL_14d0a5e806814781ba328ccd7acbf9ed"
          }
        },
        "bd51056494c44476bc205381350a4636": {
          "model_module": "@jupyter-widgets/controls",
          "model_name": "HTMLModel",
          "model_module_version": "1.5.0",
          "state": {
            "_dom_classes": [],
            "_model_module": "@jupyter-widgets/controls",
            "_model_module_version": "1.5.0",
            "_model_name": "HTMLModel",
            "_view_count": null,
            "_view_module": "@jupyter-widgets/controls",
            "_view_module_version": "1.5.0",
            "_view_name": "HTMLView",
            "description": "",
            "description_tooltip": null,
            "layout": "IPY_MODEL_775abfcc4da24980b3476461bcc53f16",
            "placeholder": "​",
            "style": "IPY_MODEL_25b9b0c1cd424642b8285616ac95797d",
            "value": "Distributing tasks: "
          }
        },
        "a18a791357a24be2a6c9f7d5da657fa6": {
          "model_module": "@jupyter-widgets/controls",
          "model_name": "FloatProgressModel",
          "model_module_version": "1.5.0",
          "state": {
            "_dom_classes": [],
            "_model_module": "@jupyter-widgets/controls",
            "_model_module_version": "1.5.0",
            "_model_name": "FloatProgressModel",
            "_view_count": null,
            "_view_module": "@jupyter-widgets/controls",
            "_view_module_version": "1.5.0",
            "_view_name": "ProgressView",
            "bar_style": "info",
            "description": "",
            "description_tooltip": null,
            "layout": "IPY_MODEL_c341fdf05aca4f5a854d77640b93156b",
            "max": 1,
            "min": 0,
            "orientation": "horizontal",
            "style": "IPY_MODEL_f02f3824e7ab4c65925282c3b8751d98",
            "value": 1
          }
        },
        "903d9814b774452081cc5bdd7bd64167": {
          "model_module": "@jupyter-widgets/controls",
          "model_name": "HTMLModel",
          "model_module_version": "1.5.0",
          "state": {
            "_dom_classes": [],
            "_model_module": "@jupyter-widgets/controls",
            "_model_module_version": "1.5.0",
            "_model_name": "HTMLModel",
            "_view_count": null,
            "_view_module": "@jupyter-widgets/controls",
            "_view_module_version": "1.5.0",
            "_view_name": "HTMLView",
            "description": "",
            "description_tooltip": null,
            "layout": "IPY_MODEL_8fafd071db164d8babf402250665b31c",
            "placeholder": "​",
            "style": "IPY_MODEL_c300de5062814e489680fb97b98ecade",
            "value": " 29/? [00:00&lt;00:00, 287.32it/s]"
          }
        },
        "14d0a5e806814781ba328ccd7acbf9ed": {
          "model_module": "@jupyter-widgets/base",
          "model_name": "LayoutModel",
          "model_module_version": "1.2.0",
          "state": {
            "_model_module": "@jupyter-widgets/base",
            "_model_module_version": "1.2.0",
            "_model_name": "LayoutModel",
            "_view_count": null,
            "_view_module": "@jupyter-widgets/base",
            "_view_module_version": "1.2.0",
            "_view_name": "LayoutView",
            "align_content": null,
            "align_items": null,
            "align_self": null,
            "border": null,
            "bottom": null,
            "display": null,
            "flex": null,
            "flex_flow": null,
            "grid_area": null,
            "grid_auto_columns": null,
            "grid_auto_flow": null,
            "grid_auto_rows": null,
            "grid_column": null,
            "grid_gap": null,
            "grid_row": null,
            "grid_template_areas": null,
            "grid_template_columns": null,
            "grid_template_rows": null,
            "height": null,
            "justify_content": null,
            "justify_items": null,
            "left": null,
            "margin": null,
            "max_height": null,
            "max_width": null,
            "min_height": null,
            "min_width": null,
            "object_fit": null,
            "object_position": null,
            "order": null,
            "overflow": null,
            "overflow_x": null,
            "overflow_y": null,
            "padding": null,
            "right": null,
            "top": null,
            "visibility": "hidden",
            "width": null
          }
        },
        "775abfcc4da24980b3476461bcc53f16": {
          "model_module": "@jupyter-widgets/base",
          "model_name": "LayoutModel",
          "model_module_version": "1.2.0",
          "state": {
            "_model_module": "@jupyter-widgets/base",
            "_model_module_version": "1.2.0",
            "_model_name": "LayoutModel",
            "_view_count": null,
            "_view_module": "@jupyter-widgets/base",
            "_view_module_version": "1.2.0",
            "_view_name": "LayoutView",
            "align_content": null,
            "align_items": null,
            "align_self": null,
            "border": null,
            "bottom": null,
            "display": null,
            "flex": null,
            "flex_flow": null,
            "grid_area": null,
            "grid_auto_columns": null,
            "grid_auto_flow": null,
            "grid_auto_rows": null,
            "grid_column": null,
            "grid_gap": null,
            "grid_row": null,
            "grid_template_areas": null,
            "grid_template_columns": null,
            "grid_template_rows": null,
            "height": null,
            "justify_content": null,
            "justify_items": null,
            "left": null,
            "margin": null,
            "max_height": null,
            "max_width": null,
            "min_height": null,
            "min_width": null,
            "object_fit": null,
            "object_position": null,
            "order": null,
            "overflow": null,
            "overflow_x": null,
            "overflow_y": null,
            "padding": null,
            "right": null,
            "top": null,
            "visibility": null,
            "width": null
          }
        },
        "25b9b0c1cd424642b8285616ac95797d": {
          "model_module": "@jupyter-widgets/controls",
          "model_name": "DescriptionStyleModel",
          "model_module_version": "1.5.0",
          "state": {
            "_model_module": "@jupyter-widgets/controls",
            "_model_module_version": "1.5.0",
            "_model_name": "DescriptionStyleModel",
            "_view_count": null,
            "_view_module": "@jupyter-widgets/base",
            "_view_module_version": "1.2.0",
            "_view_name": "StyleView",
            "description_width": ""
          }
        },
        "c341fdf05aca4f5a854d77640b93156b": {
          "model_module": "@jupyter-widgets/base",
          "model_name": "LayoutModel",
          "model_module_version": "1.2.0",
          "state": {
            "_model_module": "@jupyter-widgets/base",
            "_model_module_version": "1.2.0",
            "_model_name": "LayoutModel",
            "_view_count": null,
            "_view_module": "@jupyter-widgets/base",
            "_view_module_version": "1.2.0",
            "_view_name": "LayoutView",
            "align_content": null,
            "align_items": null,
            "align_self": null,
            "border": null,
            "bottom": null,
            "display": null,
            "flex": null,
            "flex_flow": null,
            "grid_area": null,
            "grid_auto_columns": null,
            "grid_auto_flow": null,
            "grid_auto_rows": null,
            "grid_column": null,
            "grid_gap": null,
            "grid_row": null,
            "grid_template_areas": null,
            "grid_template_columns": null,
            "grid_template_rows": null,
            "height": null,
            "justify_content": null,
            "justify_items": null,
            "left": null,
            "margin": null,
            "max_height": null,
            "max_width": null,
            "min_height": null,
            "min_width": null,
            "object_fit": null,
            "object_position": null,
            "order": null,
            "overflow": null,
            "overflow_x": null,
            "overflow_y": null,
            "padding": null,
            "right": null,
            "top": null,
            "visibility": null,
            "width": "20px"
          }
        },
        "f02f3824e7ab4c65925282c3b8751d98": {
          "model_module": "@jupyter-widgets/controls",
          "model_name": "ProgressStyleModel",
          "model_module_version": "1.5.0",
          "state": {
            "_model_module": "@jupyter-widgets/controls",
            "_model_module_version": "1.5.0",
            "_model_name": "ProgressStyleModel",
            "_view_count": null,
            "_view_module": "@jupyter-widgets/base",
            "_view_module_version": "1.2.0",
            "_view_name": "StyleView",
            "bar_color": null,
            "description_width": ""
          }
        },
        "8fafd071db164d8babf402250665b31c": {
          "model_module": "@jupyter-widgets/base",
          "model_name": "LayoutModel",
          "model_module_version": "1.2.0",
          "state": {
            "_model_module": "@jupyter-widgets/base",
            "_model_module_version": "1.2.0",
            "_model_name": "LayoutModel",
            "_view_count": null,
            "_view_module": "@jupyter-widgets/base",
            "_view_module_version": "1.2.0",
            "_view_name": "LayoutView",
            "align_content": null,
            "align_items": null,
            "align_self": null,
            "border": null,
            "bottom": null,
            "display": null,
            "flex": null,
            "flex_flow": null,
            "grid_area": null,
            "grid_auto_columns": null,
            "grid_auto_flow": null,
            "grid_auto_rows": null,
            "grid_column": null,
            "grid_gap": null,
            "grid_row": null,
            "grid_template_areas": null,
            "grid_template_columns": null,
            "grid_template_rows": null,
            "height": null,
            "justify_content": null,
            "justify_items": null,
            "left": null,
            "margin": null,
            "max_height": null,
            "max_width": null,
            "min_height": null,
            "min_width": null,
            "object_fit": null,
            "object_position": null,
            "order": null,
            "overflow": null,
            "overflow_x": null,
            "overflow_y": null,
            "padding": null,
            "right": null,
            "top": null,
            "visibility": null,
            "width": null
          }
        },
        "c300de5062814e489680fb97b98ecade": {
          "model_module": "@jupyter-widgets/controls",
          "model_name": "DescriptionStyleModel",
          "model_module_version": "1.5.0",
          "state": {
            "_model_module": "@jupyter-widgets/controls",
            "_model_module_version": "1.5.0",
            "_model_name": "DescriptionStyleModel",
            "_view_count": null,
            "_view_module": "@jupyter-widgets/base",
            "_view_module_version": "1.2.0",
            "_view_name": "StyleView",
            "description_width": ""
          }
        },
        "7989d7aff13e4098a1132a335baec841": {
          "model_module": "@jupyter-widgets/controls",
          "model_name": "HBoxModel",
          "model_module_version": "1.5.0",
          "state": {
            "_dom_classes": [],
            "_model_module": "@jupyter-widgets/controls",
            "_model_module_version": "1.5.0",
            "_model_name": "HBoxModel",
            "_view_count": null,
            "_view_module": "@jupyter-widgets/controls",
            "_view_module_version": "1.5.0",
            "_view_name": "HBoxView",
            "box_style": "",
            "children": [
              "IPY_MODEL_ba1017c5a13946ba99e1e4c44acd830d",
              "IPY_MODEL_b600dd41f2324e258522978ea1bb917e",
              "IPY_MODEL_d474ee685edc4cec8a65ea9595263b02"
            ],
            "layout": "IPY_MODEL_8d593b9389b5462d8731e5a81145504e"
          }
        },
        "ba1017c5a13946ba99e1e4c44acd830d": {
          "model_module": "@jupyter-widgets/controls",
          "model_name": "HTMLModel",
          "model_module_version": "1.5.0",
          "state": {
            "_dom_classes": [],
            "_model_module": "@jupyter-widgets/controls",
            "_model_module_version": "1.5.0",
            "_model_name": "HTMLModel",
            "_view_count": null,
            "_view_module": "@jupyter-widgets/controls",
            "_view_module_version": "1.5.0",
            "_view_name": "HTMLView",
            "description": "",
            "description_tooltip": null,
            "layout": "IPY_MODEL_99df882eb6d847ab9950b3e38a458dc9",
            "placeholder": "​",
            "style": "IPY_MODEL_f3513d6e736349d69d81ee9a588c9c02",
            "value": "Processing:  79%"
          }
        },
        "b600dd41f2324e258522978ea1bb917e": {
          "model_module": "@jupyter-widgets/controls",
          "model_name": "FloatProgressModel",
          "model_module_version": "1.5.0",
          "state": {
            "_dom_classes": [],
            "_model_module": "@jupyter-widgets/controls",
            "_model_module_version": "1.5.0",
            "_model_name": "FloatProgressModel",
            "_view_count": null,
            "_view_module": "@jupyter-widgets/controls",
            "_view_module_version": "1.5.0",
            "_view_name": "ProgressView",
            "bar_style": "",
            "description": "",
            "description_tooltip": null,
            "layout": "IPY_MODEL_53e2340b45494a349a48156dcd02e0d7",
            "max": 1519,
            "min": 0,
            "orientation": "horizontal",
            "style": "IPY_MODEL_8a5a24071c8c4d0695a9d07e967a408a",
            "value": 1519
          }
        },
        "d474ee685edc4cec8a65ea9595263b02": {
          "model_module": "@jupyter-widgets/controls",
          "model_name": "HTMLModel",
          "model_module_version": "1.5.0",
          "state": {
            "_dom_classes": [],
            "_model_module": "@jupyter-widgets/controls",
            "_model_module_version": "1.5.0",
            "_model_name": "HTMLModel",
            "_view_count": null,
            "_view_module": "@jupyter-widgets/controls",
            "_view_module_version": "1.5.0",
            "_view_name": "HTMLView",
            "description": "",
            "description_tooltip": null,
            "layout": "IPY_MODEL_0af3c95187f34660b6d608df63bcee82",
            "placeholder": "​",
            "style": "IPY_MODEL_3df43ef7170848fd91e947390c7d3eec",
            "value": " 1195/1519 [00:00&lt;00:00, 2135.17it/s]"
          }
        },
        "8d593b9389b5462d8731e5a81145504e": {
          "model_module": "@jupyter-widgets/base",
          "model_name": "LayoutModel",
          "model_module_version": "1.2.0",
          "state": {
            "_model_module": "@jupyter-widgets/base",
            "_model_module_version": "1.2.0",
            "_model_name": "LayoutModel",
            "_view_count": null,
            "_view_module": "@jupyter-widgets/base",
            "_view_module_version": "1.2.0",
            "_view_name": "LayoutView",
            "align_content": null,
            "align_items": null,
            "align_self": null,
            "border": null,
            "bottom": null,
            "display": null,
            "flex": null,
            "flex_flow": null,
            "grid_area": null,
            "grid_auto_columns": null,
            "grid_auto_flow": null,
            "grid_auto_rows": null,
            "grid_column": null,
            "grid_gap": null,
            "grid_row": null,
            "grid_template_areas": null,
            "grid_template_columns": null,
            "grid_template_rows": null,
            "height": null,
            "justify_content": null,
            "justify_items": null,
            "left": null,
            "margin": null,
            "max_height": null,
            "max_width": null,
            "min_height": null,
            "min_width": null,
            "object_fit": null,
            "object_position": null,
            "order": null,
            "overflow": null,
            "overflow_x": null,
            "overflow_y": null,
            "padding": null,
            "right": null,
            "top": null,
            "visibility": "hidden",
            "width": null
          }
        },
        "99df882eb6d847ab9950b3e38a458dc9": {
          "model_module": "@jupyter-widgets/base",
          "model_name": "LayoutModel",
          "model_module_version": "1.2.0",
          "state": {
            "_model_module": "@jupyter-widgets/base",
            "_model_module_version": "1.2.0",
            "_model_name": "LayoutModel",
            "_view_count": null,
            "_view_module": "@jupyter-widgets/base",
            "_view_module_version": "1.2.0",
            "_view_name": "LayoutView",
            "align_content": null,
            "align_items": null,
            "align_self": null,
            "border": null,
            "bottom": null,
            "display": null,
            "flex": null,
            "flex_flow": null,
            "grid_area": null,
            "grid_auto_columns": null,
            "grid_auto_flow": null,
            "grid_auto_rows": null,
            "grid_column": null,
            "grid_gap": null,
            "grid_row": null,
            "grid_template_areas": null,
            "grid_template_columns": null,
            "grid_template_rows": null,
            "height": null,
            "justify_content": null,
            "justify_items": null,
            "left": null,
            "margin": null,
            "max_height": null,
            "max_width": null,
            "min_height": null,
            "min_width": null,
            "object_fit": null,
            "object_position": null,
            "order": null,
            "overflow": null,
            "overflow_x": null,
            "overflow_y": null,
            "padding": null,
            "right": null,
            "top": null,
            "visibility": null,
            "width": null
          }
        },
        "f3513d6e736349d69d81ee9a588c9c02": {
          "model_module": "@jupyter-widgets/controls",
          "model_name": "DescriptionStyleModel",
          "model_module_version": "1.5.0",
          "state": {
            "_model_module": "@jupyter-widgets/controls",
            "_model_module_version": "1.5.0",
            "_model_name": "DescriptionStyleModel",
            "_view_count": null,
            "_view_module": "@jupyter-widgets/base",
            "_view_module_version": "1.2.0",
            "_view_name": "StyleView",
            "description_width": ""
          }
        },
        "53e2340b45494a349a48156dcd02e0d7": {
          "model_module": "@jupyter-widgets/base",
          "model_name": "LayoutModel",
          "model_module_version": "1.2.0",
          "state": {
            "_model_module": "@jupyter-widgets/base",
            "_model_module_version": "1.2.0",
            "_model_name": "LayoutModel",
            "_view_count": null,
            "_view_module": "@jupyter-widgets/base",
            "_view_module_version": "1.2.0",
            "_view_name": "LayoutView",
            "align_content": null,
            "align_items": null,
            "align_self": null,
            "border": null,
            "bottom": null,
            "display": null,
            "flex": null,
            "flex_flow": null,
            "grid_area": null,
            "grid_auto_columns": null,
            "grid_auto_flow": null,
            "grid_auto_rows": null,
            "grid_column": null,
            "grid_gap": null,
            "grid_row": null,
            "grid_template_areas": null,
            "grid_template_columns": null,
            "grid_template_rows": null,
            "height": null,
            "justify_content": null,
            "justify_items": null,
            "left": null,
            "margin": null,
            "max_height": null,
            "max_width": null,
            "min_height": null,
            "min_width": null,
            "object_fit": null,
            "object_position": null,
            "order": null,
            "overflow": null,
            "overflow_x": null,
            "overflow_y": null,
            "padding": null,
            "right": null,
            "top": null,
            "visibility": null,
            "width": null
          }
        },
        "8a5a24071c8c4d0695a9d07e967a408a": {
          "model_module": "@jupyter-widgets/controls",
          "model_name": "ProgressStyleModel",
          "model_module_version": "1.5.0",
          "state": {
            "_model_module": "@jupyter-widgets/controls",
            "_model_module_version": "1.5.0",
            "_model_name": "ProgressStyleModel",
            "_view_count": null,
            "_view_module": "@jupyter-widgets/base",
            "_view_module_version": "1.2.0",
            "_view_name": "StyleView",
            "bar_color": null,
            "description_width": ""
          }
        },
        "0af3c95187f34660b6d608df63bcee82": {
          "model_module": "@jupyter-widgets/base",
          "model_name": "LayoutModel",
          "model_module_version": "1.2.0",
          "state": {
            "_model_module": "@jupyter-widgets/base",
            "_model_module_version": "1.2.0",
            "_model_name": "LayoutModel",
            "_view_count": null,
            "_view_module": "@jupyter-widgets/base",
            "_view_module_version": "1.2.0",
            "_view_name": "LayoutView",
            "align_content": null,
            "align_items": null,
            "align_self": null,
            "border": null,
            "bottom": null,
            "display": null,
            "flex": null,
            "flex_flow": null,
            "grid_area": null,
            "grid_auto_columns": null,
            "grid_auto_flow": null,
            "grid_auto_rows": null,
            "grid_column": null,
            "grid_gap": null,
            "grid_row": null,
            "grid_template_areas": null,
            "grid_template_columns": null,
            "grid_template_rows": null,
            "height": null,
            "justify_content": null,
            "justify_items": null,
            "left": null,
            "margin": null,
            "max_height": null,
            "max_width": null,
            "min_height": null,
            "min_width": null,
            "object_fit": null,
            "object_position": null,
            "order": null,
            "overflow": null,
            "overflow_x": null,
            "overflow_y": null,
            "padding": null,
            "right": null,
            "top": null,
            "visibility": null,
            "width": null
          }
        },
        "3df43ef7170848fd91e947390c7d3eec": {
          "model_module": "@jupyter-widgets/controls",
          "model_name": "DescriptionStyleModel",
          "model_module_version": "1.5.0",
          "state": {
            "_model_module": "@jupyter-widgets/controls",
            "_model_module_version": "1.5.0",
            "_model_name": "DescriptionStyleModel",
            "_view_count": null,
            "_view_module": "@jupyter-widgets/base",
            "_view_module_version": "1.2.0",
            "_view_name": "StyleView",
            "description_width": ""
          }
        },
        "ff772f60e2544a7db2d054593ae94d13": {
          "model_module": "@jupyter-widgets/controls",
          "model_name": "HBoxModel",
          "model_module_version": "1.5.0",
          "state": {
            "_dom_classes": [],
            "_model_module": "@jupyter-widgets/controls",
            "_model_module_version": "1.5.0",
            "_model_name": "HBoxModel",
            "_view_count": null,
            "_view_module": "@jupyter-widgets/controls",
            "_view_module_version": "1.5.0",
            "_view_name": "HBoxView",
            "box_style": "",
            "children": [
              "IPY_MODEL_bcf509de6c134486879bec196eabb053",
              "IPY_MODEL_e0eaeaa263164af49ce8ea453418f385",
              "IPY_MODEL_0a121d4ffdd34ca5b4b31ad4d271dfc6"
            ],
            "layout": "IPY_MODEL_c061bbcedc4e48bfbcd1eb3ec8be232b"
          }
        },
        "bcf509de6c134486879bec196eabb053": {
          "model_module": "@jupyter-widgets/controls",
          "model_name": "HTMLModel",
          "model_module_version": "1.5.0",
          "state": {
            "_dom_classes": [],
            "_model_module": "@jupyter-widgets/controls",
            "_model_module_version": "1.5.0",
            "_model_name": "HTMLModel",
            "_view_count": null,
            "_view_module": "@jupyter-widgets/controls",
            "_view_module_version": "1.5.0",
            "_view_name": "HTMLView",
            "description": "",
            "description_tooltip": null,
            "layout": "IPY_MODEL_f3a71aee9c3a48a1bca0bd423b5f3ac3",
            "placeholder": "​",
            "style": "IPY_MODEL_8662923f90724db99b5a3ff5b7ab7641",
            "value": "Distributing tasks: "
          }
        },
        "e0eaeaa263164af49ce8ea453418f385": {
          "model_module": "@jupyter-widgets/controls",
          "model_name": "FloatProgressModel",
          "model_module_version": "1.5.0",
          "state": {
            "_dom_classes": [],
            "_model_module": "@jupyter-widgets/controls",
            "_model_module_version": "1.5.0",
            "_model_name": "FloatProgressModel",
            "_view_count": null,
            "_view_module": "@jupyter-widgets/controls",
            "_view_module_version": "1.5.0",
            "_view_name": "ProgressView",
            "bar_style": "info",
            "description": "",
            "description_tooltip": null,
            "layout": "IPY_MODEL_fe6bea79daac47289d2baef80dc03c65",
            "max": 1,
            "min": 0,
            "orientation": "horizontal",
            "style": "IPY_MODEL_878d1eb49b9b4fb892fd1f565435f863",
            "value": 1
          }
        },
        "0a121d4ffdd34ca5b4b31ad4d271dfc6": {
          "model_module": "@jupyter-widgets/controls",
          "model_name": "HTMLModel",
          "model_module_version": "1.5.0",
          "state": {
            "_dom_classes": [],
            "_model_module": "@jupyter-widgets/controls",
            "_model_module_version": "1.5.0",
            "_model_name": "HTMLModel",
            "_view_count": null,
            "_view_module": "@jupyter-widgets/controls",
            "_view_module_version": "1.5.0",
            "_view_name": "HTMLView",
            "description": "",
            "description_tooltip": null,
            "layout": "IPY_MODEL_73122605312e4b078464d832f92928d9",
            "placeholder": "​",
            "style": "IPY_MODEL_2e7a52d6d3ba44c983b019727d6918af",
            "value": " 0/? [00:00&lt;?, ?it/s]"
          }
        },
        "c061bbcedc4e48bfbcd1eb3ec8be232b": {
          "model_module": "@jupyter-widgets/base",
          "model_name": "LayoutModel",
          "model_module_version": "1.2.0",
          "state": {
            "_model_module": "@jupyter-widgets/base",
            "_model_module_version": "1.2.0",
            "_model_name": "LayoutModel",
            "_view_count": null,
            "_view_module": "@jupyter-widgets/base",
            "_view_module_version": "1.2.0",
            "_view_name": "LayoutView",
            "align_content": null,
            "align_items": null,
            "align_self": null,
            "border": null,
            "bottom": null,
            "display": null,
            "flex": null,
            "flex_flow": null,
            "grid_area": null,
            "grid_auto_columns": null,
            "grid_auto_flow": null,
            "grid_auto_rows": null,
            "grid_column": null,
            "grid_gap": null,
            "grid_row": null,
            "grid_template_areas": null,
            "grid_template_columns": null,
            "grid_template_rows": null,
            "height": null,
            "justify_content": null,
            "justify_items": null,
            "left": null,
            "margin": null,
            "max_height": null,
            "max_width": null,
            "min_height": null,
            "min_width": null,
            "object_fit": null,
            "object_position": null,
            "order": null,
            "overflow": null,
            "overflow_x": null,
            "overflow_y": null,
            "padding": null,
            "right": null,
            "top": null,
            "visibility": "hidden",
            "width": null
          }
        },
        "f3a71aee9c3a48a1bca0bd423b5f3ac3": {
          "model_module": "@jupyter-widgets/base",
          "model_name": "LayoutModel",
          "model_module_version": "1.2.0",
          "state": {
            "_model_module": "@jupyter-widgets/base",
            "_model_module_version": "1.2.0",
            "_model_name": "LayoutModel",
            "_view_count": null,
            "_view_module": "@jupyter-widgets/base",
            "_view_module_version": "1.2.0",
            "_view_name": "LayoutView",
            "align_content": null,
            "align_items": null,
            "align_self": null,
            "border": null,
            "bottom": null,
            "display": null,
            "flex": null,
            "flex_flow": null,
            "grid_area": null,
            "grid_auto_columns": null,
            "grid_auto_flow": null,
            "grid_auto_rows": null,
            "grid_column": null,
            "grid_gap": null,
            "grid_row": null,
            "grid_template_areas": null,
            "grid_template_columns": null,
            "grid_template_rows": null,
            "height": null,
            "justify_content": null,
            "justify_items": null,
            "left": null,
            "margin": null,
            "max_height": null,
            "max_width": null,
            "min_height": null,
            "min_width": null,
            "object_fit": null,
            "object_position": null,
            "order": null,
            "overflow": null,
            "overflow_x": null,
            "overflow_y": null,
            "padding": null,
            "right": null,
            "top": null,
            "visibility": null,
            "width": null
          }
        },
        "8662923f90724db99b5a3ff5b7ab7641": {
          "model_module": "@jupyter-widgets/controls",
          "model_name": "DescriptionStyleModel",
          "model_module_version": "1.5.0",
          "state": {
            "_model_module": "@jupyter-widgets/controls",
            "_model_module_version": "1.5.0",
            "_model_name": "DescriptionStyleModel",
            "_view_count": null,
            "_view_module": "@jupyter-widgets/base",
            "_view_module_version": "1.2.0",
            "_view_name": "StyleView",
            "description_width": ""
          }
        },
        "fe6bea79daac47289d2baef80dc03c65": {
          "model_module": "@jupyter-widgets/base",
          "model_name": "LayoutModel",
          "model_module_version": "1.2.0",
          "state": {
            "_model_module": "@jupyter-widgets/base",
            "_model_module_version": "1.2.0",
            "_model_name": "LayoutModel",
            "_view_count": null,
            "_view_module": "@jupyter-widgets/base",
            "_view_module_version": "1.2.0",
            "_view_name": "LayoutView",
            "align_content": null,
            "align_items": null,
            "align_self": null,
            "border": null,
            "bottom": null,
            "display": null,
            "flex": null,
            "flex_flow": null,
            "grid_area": null,
            "grid_auto_columns": null,
            "grid_auto_flow": null,
            "grid_auto_rows": null,
            "grid_column": null,
            "grid_gap": null,
            "grid_row": null,
            "grid_template_areas": null,
            "grid_template_columns": null,
            "grid_template_rows": null,
            "height": null,
            "justify_content": null,
            "justify_items": null,
            "left": null,
            "margin": null,
            "max_height": null,
            "max_width": null,
            "min_height": null,
            "min_width": null,
            "object_fit": null,
            "object_position": null,
            "order": null,
            "overflow": null,
            "overflow_x": null,
            "overflow_y": null,
            "padding": null,
            "right": null,
            "top": null,
            "visibility": null,
            "width": "20px"
          }
        },
        "878d1eb49b9b4fb892fd1f565435f863": {
          "model_module": "@jupyter-widgets/controls",
          "model_name": "ProgressStyleModel",
          "model_module_version": "1.5.0",
          "state": {
            "_model_module": "@jupyter-widgets/controls",
            "_model_module_version": "1.5.0",
            "_model_name": "ProgressStyleModel",
            "_view_count": null,
            "_view_module": "@jupyter-widgets/base",
            "_view_module_version": "1.2.0",
            "_view_name": "StyleView",
            "bar_color": null,
            "description_width": ""
          }
        },
        "73122605312e4b078464d832f92928d9": {
          "model_module": "@jupyter-widgets/base",
          "model_name": "LayoutModel",
          "model_module_version": "1.2.0",
          "state": {
            "_model_module": "@jupyter-widgets/base",
            "_model_module_version": "1.2.0",
            "_model_name": "LayoutModel",
            "_view_count": null,
            "_view_module": "@jupyter-widgets/base",
            "_view_module_version": "1.2.0",
            "_view_name": "LayoutView",
            "align_content": null,
            "align_items": null,
            "align_self": null,
            "border": null,
            "bottom": null,
            "display": null,
            "flex": null,
            "flex_flow": null,
            "grid_area": null,
            "grid_auto_columns": null,
            "grid_auto_flow": null,
            "grid_auto_rows": null,
            "grid_column": null,
            "grid_gap": null,
            "grid_row": null,
            "grid_template_areas": null,
            "grid_template_columns": null,
            "grid_template_rows": null,
            "height": null,
            "justify_content": null,
            "justify_items": null,
            "left": null,
            "margin": null,
            "max_height": null,
            "max_width": null,
            "min_height": null,
            "min_width": null,
            "object_fit": null,
            "object_position": null,
            "order": null,
            "overflow": null,
            "overflow_x": null,
            "overflow_y": null,
            "padding": null,
            "right": null,
            "top": null,
            "visibility": null,
            "width": null
          }
        },
        "2e7a52d6d3ba44c983b019727d6918af": {
          "model_module": "@jupyter-widgets/controls",
          "model_name": "DescriptionStyleModel",
          "model_module_version": "1.5.0",
          "state": {
            "_model_module": "@jupyter-widgets/controls",
            "_model_module_version": "1.5.0",
            "_model_name": "DescriptionStyleModel",
            "_view_count": null,
            "_view_module": "@jupyter-widgets/base",
            "_view_module_version": "1.2.0",
            "_view_name": "StyleView",
            "description_width": ""
          }
        },
        "eda8e7a05c4847e3b582a9a39a6d0b02": {
          "model_module": "@jupyter-widgets/controls",
          "model_name": "HBoxModel",
          "model_module_version": "1.5.0",
          "state": {
            "_dom_classes": [],
            "_model_module": "@jupyter-widgets/controls",
            "_model_module_version": "1.5.0",
            "_model_name": "HBoxModel",
            "_view_count": null,
            "_view_module": "@jupyter-widgets/controls",
            "_view_module_version": "1.5.0",
            "_view_name": "HBoxView",
            "box_style": "",
            "children": [
              "IPY_MODEL_5d1d0ff947e54a2ba4dd6278e51c4b65",
              "IPY_MODEL_2a7867f870944a569ea08d9b429e06f3",
              "IPY_MODEL_7e5cc288954a453698aea18a06a9fa7b"
            ],
            "layout": "IPY_MODEL_f520db0e5efe4a2aad5988a881b49604"
          }
        },
        "5d1d0ff947e54a2ba4dd6278e51c4b65": {
          "model_module": "@jupyter-widgets/controls",
          "model_name": "HTMLModel",
          "model_module_version": "1.5.0",
          "state": {
            "_dom_classes": [],
            "_model_module": "@jupyter-widgets/controls",
            "_model_module_version": "1.5.0",
            "_model_name": "HTMLModel",
            "_view_count": null,
            "_view_module": "@jupyter-widgets/controls",
            "_view_module_version": "1.5.0",
            "_view_name": "HTMLView",
            "description": "",
            "description_tooltip": null,
            "layout": "IPY_MODEL_30ae6cbe940b47fd802113437eee973b",
            "placeholder": "​",
            "style": "IPY_MODEL_a1d90659ab474fed80bb1d6f98e0ed6c",
            "value": "Processing:  55%"
          }
        },
        "2a7867f870944a569ea08d9b429e06f3": {
          "model_module": "@jupyter-widgets/controls",
          "model_name": "FloatProgressModel",
          "model_module_version": "1.5.0",
          "state": {
            "_dom_classes": [],
            "_model_module": "@jupyter-widgets/controls",
            "_model_module_version": "1.5.0",
            "_model_name": "FloatProgressModel",
            "_view_count": null,
            "_view_module": "@jupyter-widgets/controls",
            "_view_module_version": "1.5.0",
            "_view_name": "ProgressView",
            "bar_style": "",
            "description": "",
            "description_tooltip": null,
            "layout": "IPY_MODEL_518b6f1c815f487d99146b58a8756f5d",
            "max": 1089,
            "min": 0,
            "orientation": "horizontal",
            "style": "IPY_MODEL_ead44229545f4cb8a6bfedb21f9db84c",
            "value": 1089
          }
        },
        "7e5cc288954a453698aea18a06a9fa7b": {
          "model_module": "@jupyter-widgets/controls",
          "model_name": "HTMLModel",
          "model_module_version": "1.5.0",
          "state": {
            "_dom_classes": [],
            "_model_module": "@jupyter-widgets/controls",
            "_model_module_version": "1.5.0",
            "_model_name": "HTMLModel",
            "_view_count": null,
            "_view_module": "@jupyter-widgets/controls",
            "_view_module_version": "1.5.0",
            "_view_name": "HTMLView",
            "description": "",
            "description_tooltip": null,
            "layout": "IPY_MODEL_0f02becb6ef643edb10601f057e093cb",
            "placeholder": "​",
            "style": "IPY_MODEL_8413da43a1b64dc3b13d5a89b6889b56",
            "value": " 599/1089 [00:00&lt;00:00, 5984.24it/s]"
          }
        },
        "f520db0e5efe4a2aad5988a881b49604": {
          "model_module": "@jupyter-widgets/base",
          "model_name": "LayoutModel",
          "model_module_version": "1.2.0",
          "state": {
            "_model_module": "@jupyter-widgets/base",
            "_model_module_version": "1.2.0",
            "_model_name": "LayoutModel",
            "_view_count": null,
            "_view_module": "@jupyter-widgets/base",
            "_view_module_version": "1.2.0",
            "_view_name": "LayoutView",
            "align_content": null,
            "align_items": null,
            "align_self": null,
            "border": null,
            "bottom": null,
            "display": null,
            "flex": null,
            "flex_flow": null,
            "grid_area": null,
            "grid_auto_columns": null,
            "grid_auto_flow": null,
            "grid_auto_rows": null,
            "grid_column": null,
            "grid_gap": null,
            "grid_row": null,
            "grid_template_areas": null,
            "grid_template_columns": null,
            "grid_template_rows": null,
            "height": null,
            "justify_content": null,
            "justify_items": null,
            "left": null,
            "margin": null,
            "max_height": null,
            "max_width": null,
            "min_height": null,
            "min_width": null,
            "object_fit": null,
            "object_position": null,
            "order": null,
            "overflow": null,
            "overflow_x": null,
            "overflow_y": null,
            "padding": null,
            "right": null,
            "top": null,
            "visibility": "hidden",
            "width": null
          }
        },
        "30ae6cbe940b47fd802113437eee973b": {
          "model_module": "@jupyter-widgets/base",
          "model_name": "LayoutModel",
          "model_module_version": "1.2.0",
          "state": {
            "_model_module": "@jupyter-widgets/base",
            "_model_module_version": "1.2.0",
            "_model_name": "LayoutModel",
            "_view_count": null,
            "_view_module": "@jupyter-widgets/base",
            "_view_module_version": "1.2.0",
            "_view_name": "LayoutView",
            "align_content": null,
            "align_items": null,
            "align_self": null,
            "border": null,
            "bottom": null,
            "display": null,
            "flex": null,
            "flex_flow": null,
            "grid_area": null,
            "grid_auto_columns": null,
            "grid_auto_flow": null,
            "grid_auto_rows": null,
            "grid_column": null,
            "grid_gap": null,
            "grid_row": null,
            "grid_template_areas": null,
            "grid_template_columns": null,
            "grid_template_rows": null,
            "height": null,
            "justify_content": null,
            "justify_items": null,
            "left": null,
            "margin": null,
            "max_height": null,
            "max_width": null,
            "min_height": null,
            "min_width": null,
            "object_fit": null,
            "object_position": null,
            "order": null,
            "overflow": null,
            "overflow_x": null,
            "overflow_y": null,
            "padding": null,
            "right": null,
            "top": null,
            "visibility": null,
            "width": null
          }
        },
        "a1d90659ab474fed80bb1d6f98e0ed6c": {
          "model_module": "@jupyter-widgets/controls",
          "model_name": "DescriptionStyleModel",
          "model_module_version": "1.5.0",
          "state": {
            "_model_module": "@jupyter-widgets/controls",
            "_model_module_version": "1.5.0",
            "_model_name": "DescriptionStyleModel",
            "_view_count": null,
            "_view_module": "@jupyter-widgets/base",
            "_view_module_version": "1.2.0",
            "_view_name": "StyleView",
            "description_width": ""
          }
        },
        "518b6f1c815f487d99146b58a8756f5d": {
          "model_module": "@jupyter-widgets/base",
          "model_name": "LayoutModel",
          "model_module_version": "1.2.0",
          "state": {
            "_model_module": "@jupyter-widgets/base",
            "_model_module_version": "1.2.0",
            "_model_name": "LayoutModel",
            "_view_count": null,
            "_view_module": "@jupyter-widgets/base",
            "_view_module_version": "1.2.0",
            "_view_name": "LayoutView",
            "align_content": null,
            "align_items": null,
            "align_self": null,
            "border": null,
            "bottom": null,
            "display": null,
            "flex": null,
            "flex_flow": null,
            "grid_area": null,
            "grid_auto_columns": null,
            "grid_auto_flow": null,
            "grid_auto_rows": null,
            "grid_column": null,
            "grid_gap": null,
            "grid_row": null,
            "grid_template_areas": null,
            "grid_template_columns": null,
            "grid_template_rows": null,
            "height": null,
            "justify_content": null,
            "justify_items": null,
            "left": null,
            "margin": null,
            "max_height": null,
            "max_width": null,
            "min_height": null,
            "min_width": null,
            "object_fit": null,
            "object_position": null,
            "order": null,
            "overflow": null,
            "overflow_x": null,
            "overflow_y": null,
            "padding": null,
            "right": null,
            "top": null,
            "visibility": null,
            "width": null
          }
        },
        "ead44229545f4cb8a6bfedb21f9db84c": {
          "model_module": "@jupyter-widgets/controls",
          "model_name": "ProgressStyleModel",
          "model_module_version": "1.5.0",
          "state": {
            "_model_module": "@jupyter-widgets/controls",
            "_model_module_version": "1.5.0",
            "_model_name": "ProgressStyleModel",
            "_view_count": null,
            "_view_module": "@jupyter-widgets/base",
            "_view_module_version": "1.2.0",
            "_view_name": "StyleView",
            "bar_color": null,
            "description_width": ""
          }
        },
        "0f02becb6ef643edb10601f057e093cb": {
          "model_module": "@jupyter-widgets/base",
          "model_name": "LayoutModel",
          "model_module_version": "1.2.0",
          "state": {
            "_model_module": "@jupyter-widgets/base",
            "_model_module_version": "1.2.0",
            "_model_name": "LayoutModel",
            "_view_count": null,
            "_view_module": "@jupyter-widgets/base",
            "_view_module_version": "1.2.0",
            "_view_name": "LayoutView",
            "align_content": null,
            "align_items": null,
            "align_self": null,
            "border": null,
            "bottom": null,
            "display": null,
            "flex": null,
            "flex_flow": null,
            "grid_area": null,
            "grid_auto_columns": null,
            "grid_auto_flow": null,
            "grid_auto_rows": null,
            "grid_column": null,
            "grid_gap": null,
            "grid_row": null,
            "grid_template_areas": null,
            "grid_template_columns": null,
            "grid_template_rows": null,
            "height": null,
            "justify_content": null,
            "justify_items": null,
            "left": null,
            "margin": null,
            "max_height": null,
            "max_width": null,
            "min_height": null,
            "min_width": null,
            "object_fit": null,
            "object_position": null,
            "order": null,
            "overflow": null,
            "overflow_x": null,
            "overflow_y": null,
            "padding": null,
            "right": null,
            "top": null,
            "visibility": null,
            "width": null
          }
        },
        "8413da43a1b64dc3b13d5a89b6889b56": {
          "model_module": "@jupyter-widgets/controls",
          "model_name": "DescriptionStyleModel",
          "model_module_version": "1.5.0",
          "state": {
            "_model_module": "@jupyter-widgets/controls",
            "_model_module_version": "1.5.0",
            "_model_name": "DescriptionStyleModel",
            "_view_count": null,
            "_view_module": "@jupyter-widgets/base",
            "_view_module_version": "1.2.0",
            "_view_name": "StyleView",
            "description_width": ""
          }
        }
      }
    }
  },
  "cells": [
    {
      "cell_type": "markdown",
      "metadata": {
        "id": "view-in-github",
        "colab_type": "text"
      },
      "source": [
        "<a href=\"https://colab.research.google.com/github/fauxneticien/lnl-examples/blob/main/notebooks/01_mwe.ipynb\" target=\"_parent\"><img src=\"https://colab.research.google.com/assets/colab-badge.svg\" alt=\"Open In Colab\"/></a>"
      ]
    },
    {
      "cell_type": "markdown",
      "source": [
        "# Using PyTorch Lightning and Lhotse for speech processing research\n",
        "\n",
        "<p align=\"center\"><img width=\"500\" src=\"https://user-images.githubusercontent.com/9938298/244146091-1e3cf317-910a-4fcf-a0e2-6e755a4935c0.png\"></p>\n",
        "\n",
        "This tutorial builds up to a minimal working example (MWE) of using [PyTorch Lightning](https://github.com/Lightning-AI/lightning) and [Lhotse](https://github.com/lhotse-speech/lhotse), two Python libraries that help with a lot of the necessary plumbing that can otherwise be tricky/time-consuming to take care of yourself (e.g. automatic mixed precision, dynamic batching, etc.).\n",
        "\n",
        "We'll assume some basic level of familiarity of Python, deep learning, and speech processing and the main aim of the tutorial is to introduce how to get Lightning and Lhotse to play nice together. This notebook provides a component-by-component introduction with lots of prose and links that provide context for various choices in the accompanying `train_mwe.py` file."
      ],
      "metadata": {
        "id": "cmC_4Q0Jq1dc"
      }
    },
    {
      "cell_type": "markdown",
      "source": [
        "## Setup\n",
        "\n",
        "We'll assume the latest versions of `torch(audio)`, `lightning`, and `lhotse` as of early June 2023."
      ],
      "metadata": {
        "id": "fbS1GBFguhP1"
      }
    },
    {
      "cell_type": "code",
      "source": [
        "%%capture\n",
        "\n",
        "!pip install --quiet torch==2.0.1 torchaudio==2.0.2 lightning==2.0.2 lhotse==1.14.0 gdown"
      ],
      "metadata": {
        "id": "nl7nUcipugNZ"
      },
      "execution_count": 4,
      "outputs": []
    },
    {
      "cell_type": "markdown",
      "source": [
        "## Model: DeepSpeech (Hannun et al., 2014)\n",
        "\n",
        "For this introduction, we'll assume a very small, simple model, [DeepSpeech](https://arxiv.org/pdf/1412.5567.pdf), that is provided in `torchaudio`. For this tutorial, we'll just treat the model as a black box, and all we need to know is a) what kinds of inputs it wants and b) what kinds of outputs it gives back."
      ],
      "metadata": {
        "id": "-xoQoBYtwHXI"
      }
    },
    {
      "cell_type": "code",
      "execution_count": 3,
      "metadata": {
        "id": "eRNoOyL0qzfM"
      },
      "outputs": [],
      "source": [
        "import torchaudio\n",
        "\n",
        "# Hard-code for now (we'll see later how Lhotse can help derive this from the dataset)\n",
        "labels=\"<pad>,<unk>,<bos>,<eos>, ,',A,B,C,D,E,F,G,H,I,J,K,L,M,N,O,P,Q,R,S,T,U,V,W,X,Y,Z\"\n",
        "\n",
        "model = torchaudio.models.DeepSpeech(\n",
        "    n_feature=80,\n",
        "    n_class=len(labels.split(\",\"))  # 32\n",
        "  )"
      ]
    },
    {
      "cell_type": "markdown",
      "source": [
        "### Inputs (B, T, F)\n",
        "\n",
        "Given the configuration above, the model will expect tensors of shape (B, T, F=80), where B is batch size, T is the number of time steps, and F is the number of features (80), which we'll obtain from using filter-bank features to process the raw audio.\n",
        "\n",
        "To make this clear and concrete, let's have a look at a single utterance 'cat'."
      ],
      "metadata": {
        "id": "JpZEDKXnwF3A"
      }
    },
    {
      "cell_type": "markdown",
      "source": [
        "#### Download and load audio"
      ],
      "metadata": {
        "id": "t2fDBbIE-9iF"
      }
    },
    {
      "cell_type": "code",
      "source": [
        "!gdown 15HIXKBA_0AeZOnaV9h0lciYs_I8VOaem"
      ],
      "metadata": {
        "colab": {
          "base_uri": "https://localhost:8080/"
        },
        "id": "Xxl14Hpf56iO",
        "outputId": "d469c2c1-1cd8-4729-a1cd-d3b5e885615d"
      },
      "execution_count": 5,
      "outputs": [
        {
          "output_type": "stream",
          "name": "stdout",
          "text": [
            "Downloading...\n",
            "From: https://drive.google.com/uc?id=15HIXKBA_0AeZOnaV9h0lciYs_I8VOaem\n",
            "To: /content/En-us-cat_16000.wav\n",
            "\r  0% 0.00/16.8k [00:00<?, ?B/s]\r100% 16.8k/16.8k [00:00<00:00, 76.3MB/s]\n"
          ]
        }
      ]
    },
    {
      "cell_type": "code",
      "source": [
        "import IPython.display as ipd\n",
        "\n",
        "samples, sample_rate = torchaudio.load(\"En-us-cat_16000.wav\")\n",
        "\n",
        "ipd.Audio(samples, rate=sample_rate)"
      ],
      "metadata": {
        "colab": {
          "base_uri": "https://localhost:8080/",
          "height": 75
        },
        "id": "yHMwHUlO8sB_",
        "outputId": "60f033b9-787f-4ebe-ce25-4d7e676b587d"
      },
      "execution_count": 7,
      "outputs": [
        {
          "output_type": "execute_result",
          "data": {
            "text/plain": [
              "<IPython.lib.display.Audio object>"
            ],
            "text/html": [
              "\n",
              "                <audio  controls=\"controls\" >\n",
              "                    <source src=\"data:audio/wav;base64,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\" type=\"audio/wav\" />\n",
              "                    Your browser does not support the audio element.\n",
              "                </audio>\n",
              "              "
            ]
          },
          "metadata": {},
          "execution_count": 7
        }
      ]
    },
    {
      "cell_type": "markdown",
      "source": [
        "#### Configure feature extractor"
      ],
      "metadata": {
        "id": "sAm-jApH_A3r"
      }
    },
    {
      "cell_type": "code",
      "source": [
        "from lhotse import Fbank, FbankConfig\n",
        "\n",
        "extractor = Fbank(FbankConfig(num_mel_bins=80))"
      ],
      "metadata": {
        "id": "UdKGBUth8uoA"
      },
      "execution_count": 8,
      "outputs": []
    },
    {
      "cell_type": "markdown",
      "source": [
        "#### Extract and view features"
      ],
      "metadata": {
        "id": "tg_yns0__DmB"
      }
    },
    {
      "cell_type": "code",
      "source": [
        "input_features = extractor.extract(samples, sampling_rate=sample_rate)\n",
        "\n",
        "input_features"
      ],
      "metadata": {
        "colab": {
          "base_uri": "https://localhost:8080/"
        },
        "id": "obozphHT9nkE",
        "outputId": "d26245dd-59df-4b5b-cfa4-908c19e55cca"
      },
      "execution_count": 13,
      "outputs": [
        {
          "output_type": "execute_result",
          "data": {
            "text/plain": [
              "tensor([[-11.8135, -11.2680, -12.1239,  ...,  -7.6719,  -8.3827,  -8.1540],\n",
              "        [-13.2961, -12.5913, -11.5908,  ...,  -7.5160,  -8.0119,  -7.8620],\n",
              "        [-10.1926, -10.6146, -10.9565,  ...,  -4.2319,  -4.4798,  -5.3810],\n",
              "        ...,\n",
              "        [ -8.7502,  -8.8339, -11.2467,  ...,  -7.9184,  -7.5725,  -7.6966],\n",
              "        [-10.8201,  -9.9903, -11.2561,  ...,  -8.0878,  -7.6657,  -7.4947],\n",
              "        [-11.1634, -11.3071, -12.4587,  ...,  -8.3202,  -7.5953,  -7.1707]])"
            ]
          },
          "metadata": {},
          "execution_count": 13
        }
      ]
    },
    {
      "cell_type": "code",
      "source": [
        "input_features.shape"
      ],
      "metadata": {
        "colab": {
          "base_uri": "https://localhost:8080/"
        },
        "id": "l5Vx6Pyp_IgE",
        "outputId": "853777fa-a6b9-475d-9ef8-96976f23f8f6"
      },
      "execution_count": 21,
      "outputs": [
        {
          "output_type": "execute_result",
          "data": {
            "text/plain": [
              "torch.Size([52, 80])"
            ]
          },
          "metadata": {},
          "execution_count": 21
        }
      ]
    },
    {
      "cell_type": "code",
      "source": [
        "import matplotlib.pyplot as plt\n",
        "import seaborn as sns\n",
        "\n",
        "plt.figure(figsize=(8,6))\n",
        "plt.suptitle(\"Mel filter-bank representation of 'cat'\")\n",
        "\n",
        "ax = sns.heatmap(input_features)\n",
        "ax.set(xlabel='Mel bin', ylabel='Time step')\n",
        "\n",
        "plt.show()"
      ],
      "metadata": {
        "colab": {
          "base_uri": "https://localhost:8080/",
          "height": 603
        },
        "id": "vc1zJ6DU9sI4",
        "outputId": "61942528-6a0a-4b15-9474-30d3cb1ef6b6"
      },
      "execution_count": 20,
      "outputs": [
        {
          "output_type": "display_data",
          "data": {
            "text/plain": [
              "<Figure size 800x600 with 2 Axes>"
            ],
            "image/png": "[encoded data removed]"
          },
          "metadata": {}
        }
      ]
    },
    {
      "cell_type": "markdown",
      "source": [
        "### Outputs (B, T, C)"
      ],
      "metadata": {
        "id": "LE_F6dvn_rmm"
      }
    },
    {
      "cell_type": "markdown",
      "source": [
        "#### Batch input and pass through model"
      ],
      "metadata": {
        "id": "o9HQgg19_RgH"
      }
    },
    {
      "cell_type": "code",
      "source": [
        "# Make into shape [1, 52, 80] since we only have a single example\n",
        "batch = input_features.unsqueeze(0)\n",
        "\n",
        "outputs = model(batch)\n",
        "\n",
        "outputs"
      ],
      "metadata": {
        "colab": {
          "base_uri": "https://localhost:8080/"
        },
        "id": "-fMOrGi3-CNk",
        "outputId": "a86267db-8dd4-478c-a8b1-a92fa76f80ab"
      },
      "execution_count": 25,
      "outputs": [
        {
          "output_type": "execute_result",
          "data": {
            "text/plain": [
              "tensor([[[-3.3492, -3.4953, -3.5039,  ..., -3.3062, -3.4314, -3.2946],\n",
              "         [-3.3781, -3.4995, -3.5178,  ..., -3.2638, -3.4122, -3.2954],\n",
              "         [-3.4161, -3.4786, -3.5664,  ..., -3.3051, -3.4399, -3.3465],\n",
              "         ...,\n",
              "         [-3.3429, -3.5268, -3.5152,  ..., -3.2572, -3.3843, -3.2768],\n",
              "         [-3.3710, -3.5267, -3.4980,  ..., -3.2459, -3.4059, -3.2886],\n",
              "         [-3.3866, -3.4846, -3.5341,  ..., -3.2613, -3.3805, -3.3281]]],\n",
              "       grad_fn=<LogSoftmaxBackward0>)"
            ]
          },
          "metadata": {},
          "execution_count": 25
        }
      ]
    },
    {
      "cell_type": "code",
      "source": [
        "# Recall from above (n_class=32) for labels:\n",
        "# labels=\"<pad>,<unk>,<bos>,<eos>, ,',A,B,C,D,E,F,G,H,I,J,K,L,M,N,O,P,Q,R,S,T,U,V,W,X,Y,Z\"\n",
        "\n",
        "outputs.shape"
      ],
      "metadata": {
        "colab": {
          "base_uri": "https://localhost:8080/"
        },
        "id": "3GnYMLsR_cMG",
        "outputId": "93b2f7e6-245b-4633-a011-0d8632196afc"
      },
      "execution_count": 41,
      "outputs": [
        {
          "output_type": "execute_result",
          "data": {
            "text/plain": [
              "torch.Size([1, 52, 32])"
            ]
          },
          "metadata": {},
          "execution_count": 41
        }
      ]
    },
    {
      "cell_type": "markdown",
      "source": [
        "#### Outputs from randomly initialized model\n",
        "\n",
        "The shape of the output that we get back is `[B, T, C]`, where `B` is batch size, `T` is the number of time steps, and `C` is the number of labels we configured the model with."
      ],
      "metadata": {
        "id": "2qPMEs7WC60u"
      }
    },
    {
      "cell_type": "code",
      "source": [
        "import torch\n",
        "import torch.nn.functional as F\n",
        "\n",
        "# Get log probs\n",
        "log_probs = F.log_softmax(outputs, dim=-1)\n",
        "# Exponentiate get interpretable probabilities\n",
        "probs  = torch.exp(log_probs)"
      ],
      "metadata": {
        "id": "DndcKAfL_lmb"
      },
      "execution_count": 27,
      "outputs": []
    },
    {
      "cell_type": "code",
      "source": [
        "plt.figure(figsize=(8,6))\n",
        "plt.suptitle(\"Outputs of randomly initialized model\")\n",
        "\n",
        "ax = sns.heatmap(\n",
        "  probs.squeeze().detach().numpy(),\n",
        "  xticklabels=labels.split(\",\")\n",
        ")\n",
        "ax.set(xlabel='Label class', ylabel='Time step')\n",
        "\n",
        "plt.show()"
      ],
      "metadata": {
        "colab": {
          "base_uri": "https://localhost:8080/",
          "height": 634
        },
        "id": "KSQgfcjmCVOE",
        "outputId": "8e736ef6-1da7-42c7-b60d-578aad375dc1"
      },
      "execution_count": 42,
      "outputs": [
        {
          "output_type": "display_data",
          "data": {
            "text/plain": [
              "<Figure size 800x600 with 2 Axes>"
            ],
            "image/png": "[encoded data removed]"
          },
          "metadata": {}
        }
      ]
    },
    {
      "cell_type": "markdown",
      "source": [
        "#### Ideal output (for 'cat')\n",
        "\n",
        "Ideally after training what we'd want the model to output is `C`, `A` and `T` around the time regions that correspond to those sounds in the input."
      ],
      "metadata": {
        "id": "6aA2YNVuDcxt"
      }
    },
    {
      "cell_type": "code",
      "source": [
        "plt.figure(figsize=(8,6))\n",
        "plt.suptitle(\"Expected outputs of ideal model\")\n",
        "\n",
        "ideal_outputs = torch.full((52, 32), (1-0.99)/31)           # Distribute remaining prob mass equally across other labels\n",
        "ideal_outputs[10:20, labels.split(\",\").index(\"C\")] = 0.99   # Some time steps are 'C'\n",
        "ideal_outputs[20:30, labels.split(\",\").index(\"A\")] = 0.99   # Some time steps are 'A'\n",
        "ideal_outputs[30:35, labels.split(\",\").index(\"T\")] = 0.99   # Some time steps are 'T'\n",
        "ideal_outputs[1:10, 0] = 0.99                               # Fill rest with <pad>\n",
        "ideal_outputs[35:51, 0] = 0.99                              # Fill rest with <pad>\n",
        "ideal_outputs[0, labels.split(\",\").index(\"<bos>\")] = 0.99\n",
        "ideal_outputs[-1, labels.split(\",\").index(\"<eos>\")] = 0.99\n",
        "\n",
        "ax = sns.heatmap(\n",
        "  ideal_outputs,\n",
        "  xticklabels=labels.split(\",\")\n",
        ")\n",
        "ax.set(xlabel='Label class', ylabel='Time step')\n",
        "\n",
        "plt.show()"
      ],
      "metadata": {
        "colab": {
          "base_uri": "https://localhost:8080/",
          "height": 634
        },
        "id": "cGfdsKw2CiUS",
        "outputId": "ed23fcb0-a187-4143-f21d-9ae722b3382e"
      },
      "execution_count": 45,
      "outputs": [
        {
          "output_type": "display_data",
          "data": {
            "text/plain": [
              "<Figure size 800x600 with 2 Axes>"
            ],
            "image/png": "[encoded data removed]"
          },
          "metadata": {}
        }
      ]
    },
    {
      "cell_type": "markdown",
      "source": [
        "## Loss function: CTC Loss, expects (T, B, C)\n",
        "\n",
        "We'll use the [CTCLoss](https://pytorch.org/docs/stable/generated/torch.nn.CTCLoss.html) from PyTorch to iteratively adjust the model weights so that it eventually outputs something closer to the ideal output.\n",
        "\n",
        "As far as I can tell the default options in `CTCLoss` for `reduction=\"mean\"` and `zero_infinity=False` is probably retained for backwards compatability. In terms of reduction, the default behaviour is to normalize the losses by the lengths of the targets, however, the [more common practice](https://github.com/NVIDIA/NeMo/issues/68) these days is to divide the number of examples in the batch (so we set `reduction=\"sum\"`). We also set `zero_infinity=True` to zero out any Inf losses.\n",
        "\n",
        "Additionally, for future automatic mixed precision training (AMP) with Lightning, we'll force the loss calculations to happen in FP32, since CTC loss can be [quite demanding](https://discuss.pytorch.org/t/ctc-loss-ctc-loss-not-support-float16/148800/3) with regard to numerical accuracy. "
      ],
      "metadata": {
        "id": "_hggE0pbHdGp"
      }
    },
    {
      "cell_type": "code",
      "source": [
        "ctc_loss = torch.nn.CTCLoss(\n",
        "    blank=labels.split(\",\").index('<pad>'),\n",
        "    reduction=\"sum\",\n",
        "    zero_infinity=True\n",
        "  )"
      ],
      "metadata": {
        "id": "PXNiVk2REq93"
      },
      "execution_count": 46,
      "outputs": []
    },
    {
      "cell_type": "markdown",
      "source": [
        "### Usage"
      ],
      "metadata": {
        "id": "v8GbIjLIR1vA"
      }
    },
    {
      "cell_type": "code",
      "source": [
        "# Shape [1, 52, 80]\n",
        "batch = input_features.unsqueeze(0)\n",
        "\n",
        "# Shape [1, 52, 32]\n",
        "outputs = model(batch)\n",
        "\n",
        "# Require FP32 here\n",
        "log_probs = F.log_softmax(\n",
        "      outputs,\n",
        "      dim=2,\n",
        "      dtype=torch.float32\n",
        "    ) \n",
        "\n",
        "loss = ctc_loss(\n",
        "    # Reshape inputs to [52, 1, 32]\n",
        "    log_probs.transpose(0, 1),\n",
        "    # Targets are: [\"<bos>\", \"C\", \"A\", \"T\", \"<eos>\"]\n",
        "    torch.tensor([[2, 8, 6, 25, 3]]),\n",
        "    # Input lengths\n",
        "    torch.tensor([52]),\n",
        "    # Target lengths\n",
        "    torch.tensor([5])\n",
        "  )\n",
        "\n",
        "# Normalize by number of examples in batch\n",
        "loss *= 1 / batch.size(0)"
      ],
      "metadata": {
        "id": "YG6Eb7ITGPIP"
      },
      "execution_count": 56,
      "outputs": []
    },
    {
      "cell_type": "markdown",
      "source": [
        "## Dataset: Mini-LibriSpeech\n",
        "\n",
        "Handily, Lhotse provides a 'Mini LibriSpeech', which consists of a subset of `train-clean` and `dev-clean`, for demos such as this. "
      ],
      "metadata": {
        "id": "sjAg3-E_VkvO"
      }
    },
    {
      "cell_type": "code",
      "source": [
        "from lhotse.recipes import download_librispeech, prepare_librispeech\n",
        "\n",
        "download_librispeech(dataset_parts=\"mini_librispeech\")\n",
        "libri = prepare_librispeech(corpus_dir=\"LibriSpeech\", output_dir=\"data/\")"
      ],
      "metadata": {
        "colab": {
          "base_uri": "https://localhost:8080/",
          "height": 145,
          "referenced_widgets": [
            "1e9487e411224dd39bccb6f68a2d4020",
            "f2fb726973e64e90bbca30f1ea009079",
            "2e50ca98a3844f6bb2c1202a64706072",
            "c888a41442064e10984e90163cc10be0",
            "3156adaee3ca466e9c92724c000ea52e",
            "6d7209b7a7534d2783e24e979aa843c4",
            "b4088b7873074867820b1ec921ea8710",
            "1de3755ac2004b06a9488d55122c93f3",
            "e91e239523cb4110bb5a303c3531fda3",
            "f0373d3dbd0f4db08c47e9bcd8d81f11",
            "5b580070d2744a32a46a7f8fe01ba134",
            "0e17cc6666e44ee98ab2dc2146eb0d47",
            "93b4f0cf5cb24bcfb88a8dc1af5d2731",
            "4d31090f4f444e82822f718c1c6b220c",
            "2c9f63484a7644ea89644129e9a024a0",
            "bc3b03ec7ffc4db19a6ceb8d1406697b",
            "11510c7d634c4e2aba02293195f5f5ad",
            "0fdc1ea5cb4c4c619f0e210a2c0bcb81",
            "0cf54993e6344426a1248ce951055fea",
            "45e81a49c2e0486f8d08fbc18d8e32b3",
            "81a0d1f6692549118cb8fb7ab5b2679f",
            "4768e2df6e2845669540f32a74be3256",
            "6d808c738b574ddc8850ab88cfc3e48d",
            "0eb335022a9544c5b0833d0f93c09094",
            "c6ca2f27dddc4d6e92812369c3924ec6",
            "2d8fe5e4749340aaa2becf75bbba0f14",
            "c417f588a4a248e888059025cc613c85",
            "4793f90554c94f75b8211345d7753ee1",
            "26408fbe93fd46fa99c090b6d452385c",
            "526641fecd2748f589c9dfc7b9678f63",
            "32c562342c3a4512a77284f709a08aff",
            "35b8e4fc1b3b482d838825f7c20b236d",
            "aa6391b45211450fbef417189e0def48",
            "ab27c1bb00214105becfd783b3d3e8d5",
            "bd027e124b5540898e8b08b4216ab99c",
            "127168ed76d946b4a344e7a96b155b90",
            "6fc6e69d0cf24b0fbbb4c2e0e9d04b2e",
            "c36cc8cb46c84a96a11228da7ba89227",
            "4525b4c3735f4cceb15152ee3c7030cb",
            "05268f7e58854bac994db49c542c1474",
            "8b5c6fded9374947975e1eb83683bb92",
            "cd628059eb084bd88645dfcad959e23f",
            "35a1ebae7a3941b8b2a8927e6d15b734",
            "9b695565e92c47ca81b58d06d7a2ddc3",
            "c76807b753d64dc39933a46fc9f2fff3",
            "bd51056494c44476bc205381350a4636",
            "a18a791357a24be2a6c9f7d5da657fa6",
            "903d9814b774452081cc5bdd7bd64167",
            "14d0a5e806814781ba328ccd7acbf9ed",
            "775abfcc4da24980b3476461bcc53f16",
            "25b9b0c1cd424642b8285616ac95797d",
            "c341fdf05aca4f5a854d77640b93156b",
            "f02f3824e7ab4c65925282c3b8751d98",
            "8fafd071db164d8babf402250665b31c",
            "c300de5062814e489680fb97b98ecade",
            "7989d7aff13e4098a1132a335baec841",
            "ba1017c5a13946ba99e1e4c44acd830d",
            "b600dd41f2324e258522978ea1bb917e",
            "d474ee685edc4cec8a65ea9595263b02",
            "8d593b9389b5462d8731e5a81145504e",
            "99df882eb6d847ab9950b3e38a458dc9",
            "f3513d6e736349d69d81ee9a588c9c02",
            "53e2340b45494a349a48156dcd02e0d7",
            "8a5a24071c8c4d0695a9d07e967a408a",
            "0af3c95187f34660b6d608df63bcee82",
            "3df43ef7170848fd91e947390c7d3eec",
            "ff772f60e2544a7db2d054593ae94d13",
            "bcf509de6c134486879bec196eabb053",
            "e0eaeaa263164af49ce8ea453418f385",
            "0a121d4ffdd34ca5b4b31ad4d271dfc6",
            "c061bbcedc4e48bfbcd1eb3ec8be232b",
            "f3a71aee9c3a48a1bca0bd423b5f3ac3",
            "8662923f90724db99b5a3ff5b7ab7641",
            "fe6bea79daac47289d2baef80dc03c65",
            "878d1eb49b9b4fb892fd1f565435f863",
            "73122605312e4b078464d832f92928d9",
            "2e7a52d6d3ba44c983b019727d6918af",
            "eda8e7a05c4847e3b582a9a39a6d0b02",
            "5d1d0ff947e54a2ba4dd6278e51c4b65",
            "2a7867f870944a569ea08d9b429e06f3",
            "7e5cc288954a453698aea18a06a9fa7b",
            "f520db0e5efe4a2aad5988a881b49604",
            "30ae6cbe940b47fd802113437eee973b",
            "a1d90659ab474fed80bb1d6f98e0ed6c",
            "518b6f1c815f487d99146b58a8756f5d",
            "ead44229545f4cb8a6bfedb21f9db84c",
            "0f02becb6ef643edb10601f057e093cb",
            "8413da43a1b64dc3b13d5a89b6889b56"
          ]
        },
        "id": "NJQok3JERJ9K",
        "outputId": "1a534e30-416b-4bc0-d5ce-9c51a95f58e8"
      },
      "execution_count": 57,
      "outputs": [
        {
          "output_type": "display_data",
          "data": {
            "text/plain": [
              "Downloading LibriSpeech parts:   0%|          | 0/2 [00:00<?, ?it/s]"
            ],
            "application/vnd.jupyter.widget-view+json": {
              "version_major": 2,
              "version_minor": 0,
              "model_id": "1e9487e411224dd39bccb6f68a2d4020"
            }
          },
          "metadata": {}
        },
        {
          "output_type": "display_data",
          "data": {
            "text/plain": [
              "Downloading dev-clean-2.tar.gz: 0.00B [00:00, ?B/s]"
            ],
            "application/vnd.jupyter.widget-view+json": {
              "version_major": 2,
              "version_minor": 0,
              "model_id": "0e17cc6666e44ee98ab2dc2146eb0d47"
            }
          },
          "metadata": {}
        },
        {
          "output_type": "display_data",
          "data": {
            "text/plain": [
              "Downloading train-clean-5.tar.gz: 0.00B [00:00, ?B/s]"
            ],
            "application/vnd.jupyter.widget-view+json": {
              "version_major": 2,
              "version_minor": 0,
              "model_id": "6d808c738b574ddc8850ab88cfc3e48d"
            }
          },
          "metadata": {}
        },
        {
          "output_type": "display_data",
          "data": {
            "text/plain": [
              "Dataset parts:   0%|          | 0/2 [00:00<?, ?it/s]"
            ],
            "application/vnd.jupyter.widget-view+json": {
              "version_major": 2,
              "version_minor": 0,
              "model_id": "ab27c1bb00214105becfd783b3d3e8d5"
            }
          },
          "metadata": {}
        },
        {
          "output_type": "display_data",
          "data": {
            "text/plain": [
              "Distributing tasks: 0it [00:00, ?it/s]"
            ],
            "application/vnd.jupyter.widget-view+json": {
              "version_major": 2,
              "version_minor": 0,
              "model_id": "c76807b753d64dc39933a46fc9f2fff3"
            }
          },
          "metadata": {}
        },
        {
          "output_type": "display_data",
          "data": {
            "text/plain": [
              "Processing:   0%|          | 0/1519 [00:00<?, ?it/s]"
            ],
            "application/vnd.jupyter.widget-view+json": {
              "version_major": 2,
              "version_minor": 0,
              "model_id": "7989d7aff13e4098a1132a335baec841"
            }
          },
          "metadata": {}
        },
        {
          "output_type": "display_data",
          "data": {
            "text/plain": [
              "Distributing tasks: 0it [00:00, ?it/s]"
            ],
            "application/vnd.jupyter.widget-view+json": {
              "version_major": 2,
              "version_minor": 0,
              "model_id": "ff772f60e2544a7db2d054593ae94d13"
            }
          },
          "metadata": {}
        },
        {
          "output_type": "display_data",
          "data": {
            "text/plain": [
              "Processing:   0%|          | 0/1089 [00:00<?, ?it/s]"
            ],
            "application/vnd.jupyter.widget-view+json": {
              "version_major": 2,
              "version_minor": 0,
              "model_id": "eda8e7a05c4847e3b582a9a39a6d0b02"
            }
          },
          "metadata": {}
        }
      ]
    },
    {
      "cell_type": "markdown",
      "source": [
        "Within the `train-clean-5` subset of `mini_librispeech`, we can see that Lhotse organizes the data into what they term 'Recordings' (e.g. audio) and 'Supervisions' (e.g. labels), as we can see from retrieving the first item from each set."
      ],
      "metadata": {
        "id": "iOEpo397YL5f"
      }
    },
    {
      "cell_type": "code",
      "source": [
        "libri['train-clean-5']"
      ],
      "metadata": {
        "colab": {
          "base_uri": "https://localhost:8080/"
        },
        "id": "fptgGkjTYF-3",
        "outputId": "c1825045-d835-4662-a7ae-5799f3142700"
      },
      "execution_count": 65,
      "outputs": [
        {
          "output_type": "execute_result",
          "data": {
            "text/plain": [
              "{'recordings': RecordingSet(len=1519),\n",
              " 'supervisions': SupervisionSet(len=1519)}"
            ]
          },
          "metadata": {},
          "execution_count": 65
        }
      ]
    },
    {
      "cell_type": "code",
      "source": [
        "libri['train-clean-5']['recordings'][0]"
      ],
      "metadata": {
        "colab": {
          "base_uri": "https://localhost:8080/"
        },
        "id": "gqRXw6LyTSN0",
        "outputId": "64fb9c46-9fca-4513-b6aa-2de350cad0a9"
      },
      "execution_count": 63,
      "outputs": [
        {
          "output_type": "execute_result",
          "data": {
            "text/plain": [
              "Recording(id='1867-154075-0000', sources=[AudioSource(type='file', channels=[0], source='LibriSpeech/train-clean-5/1867/154075/1867-154075-0000.flac')], sampling_rate=16000, num_samples=235120, duration=14.695, channel_ids=[0], transforms=None)"
            ]
          },
          "metadata": {},
          "execution_count": 63
        }
      ]
    },
    {
      "cell_type": "code",
      "source": [
        "libri['train-clean-5']['supervisions'][0]"
      ],
      "metadata": {
        "colab": {
          "base_uri": "https://localhost:8080/"
        },
        "id": "eY_uA95PTX0w",
        "outputId": "42f7d4b3-459b-4258-9663-417603fb4323"
      },
      "execution_count": 64,
      "outputs": [
        {
          "output_type": "execute_result",
          "data": {
            "text/plain": [
              "SupervisionSegment(id='1867-154075-0000', recording_id='1867-154075-0000', start=0.0, duration=14.695, channel=0, text='CHAPTER TWELVE THE STRANGE BARGAIN RONICKY DREW HIS GUN AND WAITED GOOD SAID THE MAN OF THE SNEER GO AHEAD IT WAS DOWN IN THE CELLAR THAT WE FOUND THE FIRST TRACKS', language='English', speaker='1867', gender=None, custom=None, alignment=None)"
            ]
          },
          "metadata": {},
          "execution_count": 64
        }
      ]
    },
    {
      "cell_type": "markdown",
      "source": [
        "These Recordings and Supervisions are combined into 'Cuts'. For an introduction to Lhotse's terms such as 'Cuts', 'Supervisions', etc., see their [documentation](https://lhotse.readthedocs.io/en/latest/) and examples on the [GitHub repo](https://github.com/lhotse-speech/lhotse/tree/master/examples)."
      ],
      "metadata": {
        "id": "mLUdSCSOZYqE"
      }
    },
    {
      "cell_type": "code",
      "source": [
        "from lhotse import CutSet\n",
        "\n",
        "cuts_train = CutSet.from_manifests(**libri[\"train-clean-5\"])\n",
        "cuts_test = CutSet.from_manifests(**libri[\"dev-clean-2\"])"
      ],
      "metadata": {
        "id": "ETZ2rT7GZZnd"
      },
      "execution_count": 66,
      "outputs": []
    },
    {
      "cell_type": "code",
      "source": [
        "# Use list() to force Colab to display cuts\n",
        "list(cuts_train.subset(first=2))"
      ],
      "metadata": {
        "colab": {
          "base_uri": "https://localhost:8080/"
        },
        "id": "wn4XMjXaZf9l",
        "outputId": "a276df04-da35-4aec-f841-78b018222902"
      },
      "execution_count": 87,
      "outputs": [
        {
          "output_type": "execute_result",
          "data": {
            "text/plain": [
              "[MonoCut(id='1867-154075-0000-0', start=0, duration=14.695, channel=0, supervisions=[SupervisionSegment(id='1867-154075-0000', recording_id='1867-154075-0000', start=0.0, duration=14.695, channel=0, text='CHAPTER TWELVE THE STRANGE BARGAIN RONICKY DREW HIS GUN AND WAITED GOOD SAID THE MAN OF THE SNEER GO AHEAD IT WAS DOWN IN THE CELLAR THAT WE FOUND THE FIRST TRACKS', language='English', speaker='1867', gender=None, custom=None, alignment=None)], features=None, recording=Recording(id='1867-154075-0000', sources=[AudioSource(type='file', channels=[0], source='LibriSpeech/train-clean-5/1867/154075/1867-154075-0000.flac')], sampling_rate=16000, num_samples=235120, duration=14.695, channel_ids=[0], transforms=None), custom=None),\n",
              " MonoCut(id='1867-154075-0001-1', start=0, duration=14.9, channel=0, supervisions=[SupervisionSegment(id='1867-154075-0001', recording_id='1867-154075-0001', start=0.0, duration=14.9, channel=0, text=\"THAT DROPPED HIM INTO THE COAL BIN DID HE GET COAL DUST ON HIS SHOES RIGHT AND HE DIDN'T HAVE SENSE ENOUGH TO WIPE IT OFF AN AMATEUR A RANK AMATEUR I TOLD YOU SAID THE MAN OF THE SNEER WITH SATISFACTION\", language='English', speaker='1867', gender=None, custom=None, alignment=None)], features=None, recording=Recording(id='1867-154075-0001', sources=[AudioSource(type='file', channels=[0], source='LibriSpeech/train-clean-5/1867/154075/1867-154075-0001.flac')], sampling_rate=16000, num_samples=238400, duration=14.9, channel_ids=[0], transforms=None), custom=None)]"
            ]
          },
          "metadata": {},
          "execution_count": 87
        }
      ]
    },
    {
      "cell_type": "markdown",
      "source": [
        "### Derive label set\n",
        "\n",
        "So far we had hard-coded the labels, but now we can make use of Lhotse to help derive the label set from the training data and also a tokenizer to convert to and from text and integer representations of the labels."
      ],
      "metadata": {
        "id": "C-svuwPnZAFQ"
      }
    },
    {
      "cell_type": "code",
      "source": [
        "from lhotse.dataset.collation import TokenCollater\n",
        "\n",
        "tokenizer = TokenCollater(cuts_train)"
      ],
      "metadata": {
        "id": "qfFK8MReXtkU"
      },
      "execution_count": 69,
      "outputs": []
    },
    {
      "cell_type": "markdown",
      "source": [
        "We can access the list of the collated tokens as:"
      ],
      "metadata": {
        "id": "ImR3oSuca06L"
      }
    },
    {
      "cell_type": "code",
      "source": [
        "list(tokenizer.idx2token)"
      ],
      "metadata": {
        "colab": {
          "base_uri": "https://localhost:8080/"
        },
        "id": "Qc3xyXVxaa__",
        "outputId": "471ac4ad-3fbc-44a9-949b-0132524c2622"
      },
      "execution_count": 70,
      "outputs": [
        {
          "output_type": "execute_result",
          "data": {
            "text/plain": [
              "['<pad>',\n",
              " '<unk>',\n",
              " '<bos>',\n",
              " '<eos>',\n",
              " ' ',\n",
              " \"'\",\n",
              " 'A',\n",
              " 'B',\n",
              " 'C',\n",
              " 'D',\n",
              " 'E',\n",
              " 'F',\n",
              " 'G',\n",
              " 'H',\n",
              " 'I',\n",
              " 'J',\n",
              " 'K',\n",
              " 'L',\n",
              " 'M',\n",
              " 'N',\n",
              " 'O',\n",
              " 'P',\n",
              " 'Q',\n",
              " 'R',\n",
              " 'S',\n",
              " 'T',\n",
              " 'U',\n",
              " 'V',\n",
              " 'W',\n",
              " 'X',\n",
              " 'Y',\n",
              " 'Z']"
            ]
          },
          "metadata": {},
          "execution_count": 70
        }
      ]
    },
    {
      "cell_type": "markdown",
      "source": [
        "Additionally, we can use the tokenizer to map text to integers. Note also that the tokens the first, shorter utterance is 0-padded (since 0 = `<pad>`) so the returned tensor is rectangular."
      ],
      "metadata": {
        "id": "gWDsWnf3a97H"
      }
    },
    {
      "cell_type": "code",
      "source": [
        "tokens, token_lens = tokenizer(cuts_train.subset(first=2))"
      ],
      "metadata": {
        "id": "mgYZJbQXalvL"
      },
      "execution_count": 89,
      "outputs": []
    },
    {
      "cell_type": "code",
      "source": [
        "tokens"
      ],
      "metadata": {
        "colab": {
          "base_uri": "https://localhost:8080/"
        },
        "id": "2m-k8FmFbFHv",
        "outputId": "8a9c7058-9734-447d-a860-a1e786bafc51"
      },
      "execution_count": 90,
      "outputs": [
        {
          "output_type": "execute_result",
          "data": {
            "text/plain": [
              "tensor([[ 2,  8, 13,  6, 21, 25, 10, 23,  4, 25, 28, 10, 17, 27, 10,  4, 25, 13,\n",
              "         10,  4, 24, 25, 23,  6, 19, 12, 10,  4,  7,  6, 23, 12,  6, 14, 19,  4,\n",
              "         23, 20, 19, 14,  8, 16, 30,  4,  9, 23, 10, 28,  4, 13, 14, 24,  4, 12,\n",
              "         26, 19,  4,  6, 19,  9,  4, 28,  6, 14, 25, 10,  9,  4, 12, 20, 20,  9,\n",
              "          4, 24,  6, 14,  9,  4, 25, 13, 10,  4, 18,  6, 19,  4, 20, 11,  4, 25,\n",
              "         13, 10,  4, 24, 19, 10, 10, 23,  4, 12, 20,  4,  6, 13, 10,  6,  9,  4,\n",
              "         14, 25,  4, 28,  6, 24,  4,  9, 20, 28, 19,  4, 14, 19,  4, 25, 13, 10,\n",
              "          4,  8, 10, 17, 17,  6, 23,  4, 25, 13,  6, 25,  4, 28, 10,  4, 11, 20,\n",
              "         26, 19,  9,  4, 25, 13, 10,  4, 11, 14, 23, 24, 25,  4, 25, 23,  6,  8,\n",
              "         16, 24,  3,  0,  0,  0,  0,  0,  0,  0,  0,  0,  0,  0,  0,  0,  0,  0,\n",
              "          0,  0,  0,  0,  0,  0,  0,  0,  0,  0,  0,  0,  0,  0,  0,  0,  0,  0,\n",
              "          0,  0,  0,  0,  0,  0],\n",
              "        [ 2, 25, 13,  6, 25,  4,  9, 23, 20, 21, 21, 10,  9,  4, 13, 14, 18,  4,\n",
              "         14, 19, 25, 20,  4, 25, 13, 10,  4,  8, 20,  6, 17,  4,  7, 14, 19,  4,\n",
              "          9, 14,  9,  4, 13, 10,  4, 12, 10, 25,  4,  8, 20,  6, 17,  4,  9, 26,\n",
              "         24, 25,  4, 20, 19,  4, 13, 14, 24,  4, 24, 13, 20, 10, 24,  4, 23, 14,\n",
              "         12, 13, 25,  4,  6, 19,  9,  4, 13, 10,  4,  9, 14,  9, 19,  5, 25,  4,\n",
              "         13,  6, 27, 10,  4, 24, 10, 19, 24, 10,  4, 10, 19, 20, 26, 12, 13,  4,\n",
              "         25, 20,  4, 28, 14, 21, 10,  4, 14, 25,  4, 20, 11, 11,  4,  6, 19,  4,\n",
              "          6, 18,  6, 25, 10, 26, 23,  4,  6,  4, 23,  6, 19, 16,  4,  6, 18,  6,\n",
              "         25, 10, 26, 23,  4, 14,  4, 25, 20, 17,  9,  4, 30, 20, 26,  4, 24,  6,\n",
              "         14,  9,  4, 25, 13, 10,  4, 18,  6, 19,  4, 20, 11,  4, 25, 13, 10,  4,\n",
              "         24, 19, 10, 10, 23,  4, 28, 14, 25, 13,  4, 24,  6, 25, 14, 24, 11,  6,\n",
              "          8, 25, 14, 20, 19,  3]])"
            ]
          },
          "metadata": {},
          "execution_count": 90
        }
      ]
    },
    {
      "cell_type": "code",
      "source": [
        "token_lens"
      ],
      "metadata": {
        "colab": {
          "base_uri": "https://localhost:8080/"
        },
        "id": "WmdUUNOIctCw",
        "outputId": "cdd3caf7-4a9c-4e8f-aa90-31fff7f39275"
      },
      "execution_count": 91,
      "outputs": [
        {
          "output_type": "execute_result",
          "data": {
            "text/plain": [
              "tensor([165, 204], dtype=torch.int32)"
            ]
          },
          "metadata": {},
          "execution_count": 91
        }
      ]
    },
    {
      "cell_type": "markdown",
      "source": [
        "The tokenizer can also help inverse-map the integers back to characters:"
      ],
      "metadata": {
        "id": "Cklc_57pcyk1"
      }
    },
    {
      "cell_type": "code",
      "source": [
        "tokenizer.inverse(tokens, token_lens)"
      ],
      "metadata": {
        "colab": {
          "base_uri": "https://localhost:8080/"
        },
        "id": "xVMKWCLjct9J",
        "outputId": "8ee1843b-e0bf-47b9-c33e-f74fb8fdcd02"
      },
      "execution_count": 97,
      "outputs": [
        {
          "output_type": "execute_result",
          "data": {
            "text/plain": [
              "['CHAPTER TWELVE THE STRANGE BARGAIN RONICKY DREW HIS GUN AND WAITED GOOD SAID THE MAN OF THE SNEER GO AHEAD IT WAS DOWN IN THE CELLAR THAT WE FOUND THE FIRST TRACKS',\n",
              " \"THAT DROPPED HIM INTO THE COAL BIN DID HE GET COAL DUST ON HIS SHOES RIGHT AND HE DIDN'T HAVE SENSE ENOUGH TO WIPE IT OFF AN AMATEUR A RANK AMATEUR I TOLD YOU SAID THE MAN OF THE SNEER WITH SATISFACTION\"]"
            ]
          },
          "metadata": {},
          "execution_count": 97
        }
      ]
    },
    {
      "cell_type": "markdown",
      "source": [
        "### Derive features\n",
        "\n",
        "Similary, we can use Lhotse to pre-process, pad and collate the input audio and return the inputs tensor as well as the lengths of each input prior to padding (the latter of which is needed for CTCLoss)."
      ],
      "metadata": {
        "id": "_bWvl687d3Zg"
      }
    },
    {
      "cell_type": "code",
      "source": [
        "from lhotse.dataset import OnTheFlyFeatures\n",
        "from lhotse import Fbank, FbankConfig\n",
        "\n",
        "extractor = OnTheFlyFeatures(Fbank(FbankConfig(num_mel_bins=80)))\n",
        "\n",
        "feats, feat_lens = extractor(cuts_train.subset(first=2))"
      ],
      "metadata": {
        "id": "0eF94Fapc5j3"
      },
      "execution_count": 99,
      "outputs": []
    },
    {
      "cell_type": "code",
      "source": [
        "feats"
      ],
      "metadata": {
        "colab": {
          "base_uri": "https://localhost:8080/"
        },
        "id": "sh1_bTC-eFg5",
        "outputId": "a1ae9db4-f294-48bf-b683-5c4b7a1a7a73"
      },
      "execution_count": 102,
      "outputs": [
        {
          "output_type": "execute_result",
          "data": {
            "text/plain": [
              "tensor([[[-13.3677, -12.5139, -12.0247,  ...,  -9.9424,  -9.5791,  -9.3879],\n",
              "         [-11.5933, -10.7378, -11.8656,  ...,  -8.6446,  -8.9839,  -8.9016],\n",
              "         [-11.5576, -11.2481, -14.1217,  ...,  -8.9752,  -9.2986,  -9.6941],\n",
              "         ...,\n",
              "         [-23.0259, -23.0259, -23.0259,  ..., -23.0259, -23.0259, -23.0259],\n",
              "         [-23.0259, -23.0259, -23.0259,  ..., -23.0259, -23.0259, -23.0259],\n",
              "         [-23.0259, -23.0259, -23.0259,  ..., -23.0259, -23.0259, -23.0259]],\n",
              "\n",
              "        [[-11.6992, -11.2629, -12.3218,  ...,  -7.9648,  -9.5093,  -9.9307],\n",
              "         [-12.2117, -11.4504, -11.7851,  ...,  -9.2078,  -8.4604,  -9.0005],\n",
              "         [-11.5948, -10.5698, -11.3569,  ...,  -9.5412,  -9.8638,  -9.3565],\n",
              "         ...,\n",
              "         [-13.2180, -12.1950, -13.5013,  ...,  -9.2887, -10.2001,  -9.8171],\n",
              "         [-11.1315, -10.9054, -12.8678,  ...,  -9.0229,  -9.0606, -10.6329],\n",
              "         [-12.6508, -11.3535, -11.5003,  ...,  -8.6241, -10.0400, -10.1408]]])"
            ]
          },
          "metadata": {},
          "execution_count": 102
        }
      ]
    },
    {
      "cell_type": "code",
      "source": [
        "feats.shape"
      ],
      "metadata": {
        "colab": {
          "base_uri": "https://localhost:8080/"
        },
        "id": "XjgOmeTEeN7l",
        "outputId": "f06a15d2-6082-4e4b-b0bb-007f298598d3"
      },
      "execution_count": 103,
      "outputs": [
        {
          "output_type": "execute_result",
          "data": {
            "text/plain": [
              "torch.Size([2, 1490, 80])"
            ]
          },
          "metadata": {},
          "execution_count": 103
        }
      ]
    },
    {
      "cell_type": "code",
      "source": [
        "feat_lens"
      ],
      "metadata": {
        "colab": {
          "base_uri": "https://localhost:8080/"
        },
        "id": "eFuSr1kUeRca",
        "outputId": "63dfe482-96ad-4714-c2ad-7da6bdb81cf7"
      },
      "execution_count": 104,
      "outputs": [
        {
          "output_type": "execute_result",
          "data": {
            "text/plain": [
              "tensor([1470, 1490])"
            ]
          },
          "metadata": {},
          "execution_count": 104
        }
      ]
    },
    {
      "cell_type": "markdown",
      "source": [
        "## Configure data loaders\n",
        "\n",
        "We'll be leveraging the fact that both PyTorch Lightning and Lhotse are intended to play nice with PyTorch, in particular how PyTorch expects data loaders and samplers to behave.\n",
        "\n",
        "For an in-depth discussion of how Lightning and (distributed) PyTorch data samplers and data loaders work, see [this Colab](https://colab.research.google.com/drive/1OFLZnX9y5QUFNONuvFsxOizq4M-tFvk-) written by [Adrian Wälchli](https://github.com/awaelchli), one of the engineers at Lightning. Similarly, the for how Lhotse extends the same base PyTorch classes for use with speech data, see [their documentation](https://lhotse.readthedocs.io/en/latest/datasets.html)."
      ],
      "metadata": {
        "id": "UjbBvyMifGF0"
      }
    },
    {
      "cell_type": "markdown",
      "source": [
        "### Create dataset template\n",
        "\n",
        "To avoid repeating ourselves for both the `train` and `test` datasets, we'll create a simple `MinimalASRDataset` for both splits."
      ],
      "metadata": {
        "id": "ElLqieOAfg42"
      }
    },
    {
      "cell_type": "code",
      "source": [
        "class MinimalASRDataset(torch.utils.data.Dataset):\n",
        "    def __init__(self):\n",
        "        self.extractor = OnTheFlyFeatures(Fbank(FbankConfig(num_mel_bins=80)))\n",
        "        self.tokenizer = tokenizer\n",
        "\n",
        "    def __getitem__(self, cuts: CutSet) -> dict:\n",
        "        cuts = cuts.sort_by_duration()\n",
        "        feats, feat_lens = self.extractor(cuts)\n",
        "        tokens, token_lens = self.tokenizer(cuts)\n",
        "        return {\"inputs_padded\": feats, \"input_lengths\": feat_lens, \"labels_padded\": tokens, \"label_lengths\": token_lens}"
      ],
      "metadata": {
        "id": "cQbW8NO_eUQw"
      },
      "execution_count": 109,
      "outputs": []
    },
    {
      "cell_type": "markdown",
      "source": [
        "### Configure samplers with Lhotse's `BucketingSampler`\n",
        "\n",
        "One of the big reasons to let Lhotse handle the data sampling is that it provides many ways to configure samplers and datasets that are common in speech processing, including `BucketingSampler`, where inputs of similar durations are grouped together into batches, which help reduce the amount of padding used.\n",
        "\n",
        "**Important**\n",
        "- That these batches are defined by a maximum duration (`max_duration`, in seconds) and so each batch can contain different numbers of examples.\n",
        "- We use `drop_last=True` so that in distributed training with multiple GPUs the last batch can be dropped if not enough examples are left (Lightning's training loop can get stuck without this flag)"
      ],
      "metadata": {
        "id": "hroKeyMAiLK_"
      }
    },
    {
      "cell_type": "code",
      "source": [
        "from lhotse.dataset import BucketingSampler\n",
        "\n",
        "train_sampler = BucketingSampler(cuts_train, max_duration=300, shuffle=True, drop_last=True)\n",
        "test_sampler  = BucketingSampler(cuts_test,  max_duration=300, shuffle=False, drop_last=True)"
      ],
      "metadata": {
        "id": "jb3bDLA1iHlc"
      },
      "execution_count": 106,
      "outputs": []
    },
    {
      "cell_type": "markdown",
      "source": [
        "### Configure data loaders"
      ],
      "metadata": {
        "id": "Iq0ZsocIkHrv"
      }
    },
    {
      "cell_type": "code",
      "source": [
        "from torch.utils.data import DataLoader\n",
        "\n",
        "train_loader = DataLoader(\n",
        "    MinimalASRDataset(),\n",
        "    sampler=train_sampler,\n",
        "    batch_size=None,\n",
        "    num_workers=1\n",
        ")\n",
        "\n",
        "test_loader = DataLoader(\n",
        "    MinimalASRDataset(),\n",
        "    sampler=test_sampler,\n",
        "    batch_size=None,\n",
        "    num_workers=1\n",
        ")"
      ],
      "metadata": {
        "id": "CTQv5jj5kC6c"
      },
      "execution_count": 110,
      "outputs": []
    },
    {
      "cell_type": "markdown",
      "source": [
        "At the end of the day, we can see that the data loader (with various bells and whistles) is still just a PyTorch DataLoader:"
      ],
      "metadata": {
        "id": "fyrHH2H4lJE7"
      }
    },
    {
      "cell_type": "code",
      "source": [
        "type(train_loader)"
      ],
      "metadata": {
        "colab": {
          "base_uri": "https://localhost:8080/"
        },
        "id": "Vzq0WJR9lFZt",
        "outputId": "ed09dc70-2a7c-4763-8769-66be028928b1"
      },
      "execution_count": 111,
      "outputs": [
        {
          "output_type": "execute_result",
          "data": {
            "text/plain": [
              "torch.utils.data.dataloader.DataLoader"
            ]
          },
          "metadata": {},
          "execution_count": 111
        }
      ]
    },
    {
      "cell_type": "markdown",
      "source": [
        "As such we can ask for a batch. Note that it contains everything we need to pass into `model` and `ctc_loss` thereafter."
      ],
      "metadata": {
        "id": "ZC-A2BztlEOW"
      }
    },
    {
      "cell_type": "code",
      "source": [
        "batch = next(iter(train_loader))\n",
        "\n",
        "batch"
      ],
      "metadata": {
        "colab": {
          "base_uri": "https://localhost:8080/"
        },
        "id": "2GYP4WsDlZge",
        "outputId": "44dd970e-4f34-4168-c466-2be37c3a10ce"
      },
      "execution_count": 114,
      "outputs": [
        {
          "output_type": "execute_result",
          "data": {
            "text/plain": [
              "{'inputs_padded': tensor([[[-14.8957, -13.9265, -14.8541,  ..., -10.1862, -10.2609,  -9.7772],\n",
              "          [-14.1687, -12.8906, -12.9787,  ..., -10.2520, -10.5628,  -9.8027],\n",
              "          [-13.8581, -13.4385, -15.9424,  ..., -10.5759, -10.0647, -10.2976],\n",
              "          ...,\n",
              "          [-13.5844, -12.1844, -12.6069,  ...,  -8.8400,  -8.6767,  -8.8120],\n",
              "          [-12.9458, -12.3476, -14.4319,  ...,  -9.9672,  -9.5798, -10.0195],\n",
              "          [-12.4982, -12.1000, -13.2070,  ...,  -9.8147,  -9.3877, -10.7631]],\n",
              " \n",
              "         [[-12.4055, -12.2716, -13.8663,  ...,  -8.6725,  -9.2966,  -9.5031],\n",
              "          [-12.6852, -11.3921, -11.2947,  ...,  -9.5668,  -9.4694,  -8.0842],\n",
              "          [-11.2774, -10.2223,  -9.9931,  ...,  -9.1784,  -8.8316,  -9.0008],\n",
              "          ...,\n",
              "          [-11.8495, -11.1182, -10.4742,  ...,  -7.4367,  -7.9385,  -8.4386],\n",
              "          [-23.0259, -23.0259, -23.0259,  ..., -23.0259, -23.0259, -23.0259],\n",
              "          [-23.0259, -23.0259, -23.0259,  ..., -23.0259, -23.0259, -23.0259]],\n",
              " \n",
              "         [[-13.2710, -12.4868, -12.3315,  ...,  -9.5377,  -9.2981, -10.0582],\n",
              "          [-14.0964, -14.5776, -14.3654,  ...,  -9.4705,  -9.4937, -10.0015],\n",
              "          [-14.8864, -13.4770, -14.4435,  ...,  -9.9128,  -9.5932,  -9.2597],\n",
              "          ...,\n",
              "          [-23.0259, -23.0259, -23.0259,  ..., -23.0259, -23.0259, -23.0259],\n",
              "          [-23.0259, -23.0259, -23.0259,  ..., -23.0259, -23.0259, -23.0259],\n",
              "          [-23.0259, -23.0259, -23.0259,  ..., -23.0259, -23.0259, -23.0259]],\n",
              " \n",
              "         ...,\n",
              " \n",
              "         [[-14.8435, -13.2527, -13.0758,  ..., -11.0540, -11.0761, -11.3294],\n",
              "          [-15.1276, -15.3337, -14.7738,  ..., -11.3441, -11.4759, -12.0501],\n",
              "          [-14.1107, -13.7938, -14.9286,  ..., -12.2066, -12.1965, -12.0022],\n",
              "          ...,\n",
              "          [-23.0259, -23.0259, -23.0259,  ..., -23.0259, -23.0259, -23.0259],\n",
              "          [-23.0259, -23.0259, -23.0259,  ..., -23.0259, -23.0259, -23.0259],\n",
              "          [-23.0259, -23.0259, -23.0259,  ..., -23.0259, -23.0259, -23.0259]],\n",
              " \n",
              "         [[-11.9239, -11.4591, -12.1068,  ...,  -9.2374,  -9.0813,  -9.2334],\n",
              "          [-12.8710, -12.2527, -13.1288,  ...,  -8.1039,  -9.6411,  -9.5960],\n",
              "          [-12.9163, -11.9454, -12.5584,  ...,  -8.5631,  -9.6109,  -9.7990],\n",
              "          ...,\n",
              "          [-23.0259, -23.0259, -23.0259,  ..., -23.0259, -23.0259, -23.0259],\n",
              "          [-23.0259, -23.0259, -23.0259,  ..., -23.0259, -23.0259, -23.0259],\n",
              "          [-23.0259, -23.0259, -23.0259,  ..., -23.0259, -23.0259, -23.0259]],\n",
              " \n",
              "         [[-13.7523, -12.7525, -13.7210,  ..., -10.3968, -10.2855, -11.1029],\n",
              "          [-12.6311, -12.0015, -13.2574,  ...,  -9.9703,  -9.7599, -10.5404],\n",
              "          [-12.9873, -12.3602, -13.8856,  ..., -10.2947,  -9.9499, -10.3389],\n",
              "          ...,\n",
              "          [-23.0259, -23.0259, -23.0259,  ..., -23.0259, -23.0259, -23.0259],\n",
              "          [-23.0259, -23.0259, -23.0259,  ..., -23.0259, -23.0259, -23.0259],\n",
              "          [-23.0259, -23.0259, -23.0259,  ..., -23.0259, -23.0259, -23.0259]]]),\n",
              " 'input_lengths': tensor([1521, 1519, 1518, 1516, 1515, 1512, 1512, 1512, 1507, 1504, 1499, 1497,\n",
              "         1493, 1492, 1492, 1490, 1490, 1488, 1484]),\n",
              " 'labels_padded': tensor([[ 2, 25, 13,  ...,  0,  0,  0],\n",
              "         [ 2,  6, 19,  ...,  0,  0,  0],\n",
              "         [ 2, 28, 13,  ...,  0,  0,  0],\n",
              "         ...,\n",
              "         [ 2,  7, 30,  ...,  0,  0,  0],\n",
              "         [ 2, 28, 13,  ...,  0,  0,  0],\n",
              "         [ 2, 28, 13,  ...,  0,  0,  0]]),\n",
              " 'label_lengths': tensor([257, 202, 244, 269, 268, 150, 202, 186, 177, 203, 211, 217, 251, 233,\n",
              "         207, 234, 232, 242, 240], dtype=torch.int32)}"
            ]
          },
          "metadata": {},
          "execution_count": 114
        }
      ]
    },
    {
      "cell_type": "markdown",
      "source": [
        "## Configure PyTorch Lightning  (MWE)\n",
        "\n",
        "We're just about ready to train our model. We can more or less follow the template from [Lightning in 15 minutes](https://lightning.ai/docs/pytorch/2.0.2/starter/introduction.html), with some slight adjustments for our speech use case.\n",
        "\n",
        "For the time being, we'll also hard-code some hyperparameters (e.g. learning rate) before we add on fancier ways of adjusting things by command-line input."
      ],
      "metadata": {
        "id": "_TV_fJwIkF3g"
      }
    },
    {
      "cell_type": "markdown",
      "source": [
        "### Configure `LightningModule`"
      ],
      "metadata": {
        "id": "_hGBtDFNpWl2"
      }
    },
    {
      "cell_type": "code",
      "source": [
        "import lightning.pytorch as pl\n",
        "\n",
        "MAX_STEPS=10_000\n",
        "LEARNING_RATE=1e-4\n",
        "\n",
        "class DeepSpeechLightningModule(pl.LightningModule):\n",
        "    def __init__(self, n_feature, tokenizer):\n",
        "        super().__init__()\n",
        "        # See Model section for details\n",
        "        self.model    = torchaudio.models.DeepSpeech(n_feature=n_feature, n_class=len(list(tokenizer.idx2token)))\n",
        "        # See Loss section for details\n",
        "        self.ctc_loss = torch.nn.CTCLoss(blank=list(tokenizer.idx2token).index('<pad>'), reduction=\"sum\", zero_infinity=True)\n",
        "\n",
        "    def training_step(self, batch, batch_idx):\n",
        "        # See loss usage section for details\n",
        "        outputs   = self.model(batch['inputs_padded'])\n",
        "        log_probs = F.log_softmax(outputs, dim=2, dtype=torch.float32)\n",
        "\n",
        "        loss = self.ctc_loss(log_probs.transpose(0, 1), batch[\"labels_padded\"], batch[\"input_lengths\"], batch[\"label_lengths\"])\n",
        "\n",
        "        # For multi-GPU training, normalize the loss based on the sum of batch_size across all GPUs\n",
        "        batch_size = batch['inputs_padded'].size(0)\n",
        "        # Get batch sizes from all GPUs\n",
        "        batch_sizes = self.all_gather(batch_size)\n",
        "        # Normalize by world size / batch size\n",
        "        loss *= batch_sizes.size(0) / batch_sizes.sum()\n",
        "\n",
        "        return loss\n",
        "\n",
        "    def configure_optimizers(self):\n",
        "        optimizer = torch.optim.AdamW(self.model.parameters(), lr=LEARNING_RATE)\n",
        "        scheduler = torch.optim.lr_scheduler.OneCycleLR(optimizer, max_lr=LEARNING_RATE, total_steps=MAX_STEPS, anneal_strategy='linear')\n",
        "\n",
        "        return {\n",
        "            \"optimizer\": optimizer,\n",
        "            \"lr_scheduler\": {\"scheduler\": scheduler, \"interval\": \"step\", 'frequency': 1 }\n",
        "        }"
      ],
      "metadata": {
        "id": "eG8W35-dlYRr"
      },
      "execution_count": 115,
      "outputs": []
    },
    {
      "cell_type": "markdown",
      "source": [
        "### Configure `Trainer`\n"
      ],
      "metadata": {
        "id": "9l_yBbEKpcCO"
      }
    },
    {
      "cell_type": "code",
      "source": [
        "# Skip cell in Colab\n",
        "%%script echo \"\"\n",
        "\n",
        "trainer = pl.Trainer(\n",
        "    max_steps=MAX_STEPS,\n",
        "    max_epochs=-1,\n",
        "    strategy=\"ddp\",\n",
        "    use_distributed_sampler=False,\n",
        "    # Disabled for this minimal working example\n",
        "    enable_checkpointing=False,\n",
        "    enable_model_summary=False,\n",
        "    logger=None,\n",
        "    limit_val_batches=0\n",
        ")"
      ],
      "metadata": {
        "colab": {
          "base_uri": "https://localhost:8080/"
        },
        "id": "XlntwthTpJ-n",
        "outputId": "e6ba8407-af2a-4430-801f-b47ec5547957"
      },
      "execution_count": 132,
      "outputs": [
        {
          "output_type": "stream",
          "name": "stdout",
          "text": [
            "\n"
          ]
        }
      ]
    },
    {
      "cell_type": "markdown",
      "source": [
        "### Run training"
      ],
      "metadata": {
        "id": "2Qwq09soqlgz"
      }
    },
    {
      "cell_type": "code",
      "source": [
        "# Skip cell in Colab\n",
        "%%script echo \"\"\n",
        "\n",
        "trainer.fit(\n",
        "  DeepSpeechLightningModule(80, tokenizer),\n",
        "  train_dataloaders=train_loader\n",
        ")"
      ],
      "metadata": {
        "colab": {
          "base_uri": "https://localhost:8080/"
        },
        "id": "Og0aRlZ-p_ob",
        "outputId": "77fbbe6f-601f-4b72-f8c6-7ebfc33cadfd"
      },
      "execution_count": 133,
      "outputs": [
        {
          "output_type": "stream",
          "name": "stdout",
          "text": [
            "\n"
          ]
        }
      ]
    },
    {
      "cell_type": "code",
      "source": [],
      "metadata": {
        "id": "2gpeeeR_tjcQ"
      },
      "execution_count": null,
      "outputs": []
    }
  ]
}