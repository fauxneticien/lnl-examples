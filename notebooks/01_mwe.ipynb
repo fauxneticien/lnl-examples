{
  "nbformat": 4,
  "nbformat_minor": 0,
  "metadata": {
    "colab": {
      "provenance": [],
      "toc_visible": true,
      "authorship_tag": "ABX9TyMWuGZ4NshKeAc8JHlox3pO",
      "include_colab_link": true
    },
    "kernelspec": {
      "name": "python3",
      "display_name": "Python 3"
    },
    "language_info": {
      "name": "python"
    },
    "widgets": {
      "application/vnd.jupyter.widget-state+json": {
        "2b9a36bbfe024588aa6abfd8a4073416": {
          "model_module": "@jupyter-widgets/controls",
          "model_name": "HBoxModel",
          "model_module_version": "1.5.0",
          "state": {
            "_dom_classes": [],
            "_model_module": "@jupyter-widgets/controls",
            "_model_module_version": "1.5.0",
            "_model_name": "HBoxModel",
            "_view_count": null,
            "_view_module": "@jupyter-widgets/controls",
            "_view_module_version": "1.5.0",
            "_view_name": "HBoxView",
            "box_style": "",
            "children": [
              "IPY_MODEL_145bb116d34f45ce9da5f32526797758",
              "IPY_MODEL_35b6254c944443c3a2b189d85fe8b989",
              "IPY_MODEL_6d8301bd5da04533b633a7516db2904e"
            ],
            "layout": "IPY_MODEL_fee9b614e17f4ff1b94382f0c4a3bf9c"
          }
        },
        "145bb116d34f45ce9da5f32526797758": {
          "model_module": "@jupyter-widgets/controls",
          "model_name": "HTMLModel",
          "model_module_version": "1.5.0",
          "state": {
            "_dom_classes": [],
            "_model_module": "@jupyter-widgets/controls",
            "_model_module_version": "1.5.0",
            "_model_name": "HTMLModel",
            "_view_count": null,
            "_view_module": "@jupyter-widgets/controls",
            "_view_module_version": "1.5.0",
            "_view_name": "HTMLView",
            "description": "",
            "description_tooltip": null,
            "layout": "IPY_MODEL_93146dfbb2094ebeb8e8c7bd54793e81",
            "placeholder": "​",
            "style": "IPY_MODEL_fa950983328b4b0da54096f8f3dcd8fe",
            "value": "Downloading LibriSpeech parts: 100%"
          }
        },
        "35b6254c944443c3a2b189d85fe8b989": {
          "model_module": "@jupyter-widgets/controls",
          "model_name": "FloatProgressModel",
          "model_module_version": "1.5.0",
          "state": {
            "_dom_classes": [],
            "_model_module": "@jupyter-widgets/controls",
            "_model_module_version": "1.5.0",
            "_model_name": "FloatProgressModel",
            "_view_count": null,
            "_view_module": "@jupyter-widgets/controls",
            "_view_module_version": "1.5.0",
            "_view_name": "ProgressView",
            "bar_style": "success",
            "description": "",
            "description_tooltip": null,
            "layout": "IPY_MODEL_21d84f3f2ca14a8097b8ecdb45de4100",
            "max": 2,
            "min": 0,
            "orientation": "horizontal",
            "style": "IPY_MODEL_67011214ae1e440cb4730778e93b6c18",
            "value": 2
          }
        },
        "6d8301bd5da04533b633a7516db2904e": {
          "model_module": "@jupyter-widgets/controls",
          "model_name": "HTMLModel",
          "model_module_version": "1.5.0",
          "state": {
            "_dom_classes": [],
            "_model_module": "@jupyter-widgets/controls",
            "_model_module_version": "1.5.0",
            "_model_name": "HTMLModel",
            "_view_count": null,
            "_view_module": "@jupyter-widgets/controls",
            "_view_module_version": "1.5.0",
            "_view_name": "HTMLView",
            "description": "",
            "description_tooltip": null,
            "layout": "IPY_MODEL_c1a19f3363ef4a279cfa4542af22b697",
            "placeholder": "​",
            "style": "IPY_MODEL_e42973631a7745c49565e57834831e8a",
            "value": " 2/2 [00:00&lt;00:00, 32.67it/s]"
          }
        },
        "fee9b614e17f4ff1b94382f0c4a3bf9c": {
          "model_module": "@jupyter-widgets/base",
          "model_name": "LayoutModel",
          "model_module_version": "1.2.0",
          "state": {
            "_model_module": "@jupyter-widgets/base",
            "_model_module_version": "1.2.0",
            "_model_name": "LayoutModel",
            "_view_count": null,
            "_view_module": "@jupyter-widgets/base",
            "_view_module_version": "1.2.0",
            "_view_name": "LayoutView",
            "align_content": null,
            "align_items": null,
            "align_self": null,
            "border": null,
            "bottom": null,
            "display": null,
            "flex": null,
            "flex_flow": null,
            "grid_area": null,
            "grid_auto_columns": null,
            "grid_auto_flow": null,
            "grid_auto_rows": null,
            "grid_column": null,
            "grid_gap": null,
            "grid_row": null,
            "grid_template_areas": null,
            "grid_template_columns": null,
            "grid_template_rows": null,
            "height": null,
            "justify_content": null,
            "justify_items": null,
            "left": null,
            "margin": null,
            "max_height": null,
            "max_width": null,
            "min_height": null,
            "min_width": null,
            "object_fit": null,
            "object_position": null,
            "order": null,
            "overflow": null,
            "overflow_x": null,
            "overflow_y": null,
            "padding": null,
            "right": null,
            "top": null,
            "visibility": null,
            "width": null
          }
        },
        "93146dfbb2094ebeb8e8c7bd54793e81": {
          "model_module": "@jupyter-widgets/base",
          "model_name": "LayoutModel",
          "model_module_version": "1.2.0",
          "state": {
            "_model_module": "@jupyter-widgets/base",
            "_model_module_version": "1.2.0",
            "_model_name": "LayoutModel",
            "_view_count": null,
            "_view_module": "@jupyter-widgets/base",
            "_view_module_version": "1.2.0",
            "_view_name": "LayoutView",
            "align_content": null,
            "align_items": null,
            "align_self": null,
            "border": null,
            "bottom": null,
            "display": null,
            "flex": null,
            "flex_flow": null,
            "grid_area": null,
            "grid_auto_columns": null,
            "grid_auto_flow": null,
            "grid_auto_rows": null,
            "grid_column": null,
            "grid_gap": null,
            "grid_row": null,
            "grid_template_areas": null,
            "grid_template_columns": null,
            "grid_template_rows": null,
            "height": null,
            "justify_content": null,
            "justify_items": null,
            "left": null,
            "margin": null,
            "max_height": null,
            "max_width": null,
            "min_height": null,
            "min_width": null,
            "object_fit": null,
            "object_position": null,
            "order": null,
            "overflow": null,
            "overflow_x": null,
            "overflow_y": null,
            "padding": null,
            "right": null,
            "top": null,
            "visibility": null,
            "width": null
          }
        },
        "fa950983328b4b0da54096f8f3dcd8fe": {
          "model_module": "@jupyter-widgets/controls",
          "model_name": "DescriptionStyleModel",
          "model_module_version": "1.5.0",
          "state": {
            "_model_module": "@jupyter-widgets/controls",
            "_model_module_version": "1.5.0",
            "_model_name": "DescriptionStyleModel",
            "_view_count": null,
            "_view_module": "@jupyter-widgets/base",
            "_view_module_version": "1.2.0",
            "_view_name": "StyleView",
            "description_width": ""
          }
        },
        "21d84f3f2ca14a8097b8ecdb45de4100": {
          "model_module": "@jupyter-widgets/base",
          "model_name": "LayoutModel",
          "model_module_version": "1.2.0",
          "state": {
            "_model_module": "@jupyter-widgets/base",
            "_model_module_version": "1.2.0",
            "_model_name": "LayoutModel",
            "_view_count": null,
            "_view_module": "@jupyter-widgets/base",
            "_view_module_version": "1.2.0",
            "_view_name": "LayoutView",
            "align_content": null,
            "align_items": null,
            "align_self": null,
            "border": null,
            "bottom": null,
            "display": null,
            "flex": null,
            "flex_flow": null,
            "grid_area": null,
            "grid_auto_columns": null,
            "grid_auto_flow": null,
            "grid_auto_rows": null,
            "grid_column": null,
            "grid_gap": null,
            "grid_row": null,
            "grid_template_areas": null,
            "grid_template_columns": null,
            "grid_template_rows": null,
            "height": null,
            "justify_content": null,
            "justify_items": null,
            "left": null,
            "margin": null,
            "max_height": null,
            "max_width": null,
            "min_height": null,
            "min_width": null,
            "object_fit": null,
            "object_position": null,
            "order": null,
            "overflow": null,
            "overflow_x": null,
            "overflow_y": null,
            "padding": null,
            "right": null,
            "top": null,
            "visibility": null,
            "width": null
          }
        },
        "67011214ae1e440cb4730778e93b6c18": {
          "model_module": "@jupyter-widgets/controls",
          "model_name": "ProgressStyleModel",
          "model_module_version": "1.5.0",
          "state": {
            "_model_module": "@jupyter-widgets/controls",
            "_model_module_version": "1.5.0",
            "_model_name": "ProgressStyleModel",
            "_view_count": null,
            "_view_module": "@jupyter-widgets/base",
            "_view_module_version": "1.2.0",
            "_view_name": "StyleView",
            "bar_color": null,
            "description_width": ""
          }
        },
        "c1a19f3363ef4a279cfa4542af22b697": {
          "model_module": "@jupyter-widgets/base",
          "model_name": "LayoutModel",
          "model_module_version": "1.2.0",
          "state": {
            "_model_module": "@jupyter-widgets/base",
            "_model_module_version": "1.2.0",
            "_model_name": "LayoutModel",
            "_view_count": null,
            "_view_module": "@jupyter-widgets/base",
            "_view_module_version": "1.2.0",
            "_view_name": "LayoutView",
            "align_content": null,
            "align_items": null,
            "align_self": null,
            "border": null,
            "bottom": null,
            "display": null,
            "flex": null,
            "flex_flow": null,
            "grid_area": null,
            "grid_auto_columns": null,
            "grid_auto_flow": null,
            "grid_auto_rows": null,
            "grid_column": null,
            "grid_gap": null,
            "grid_row": null,
            "grid_template_areas": null,
            "grid_template_columns": null,
            "grid_template_rows": null,
            "height": null,
            "justify_content": null,
            "justify_items": null,
            "left": null,
            "margin": null,
            "max_height": null,
            "max_width": null,
            "min_height": null,
            "min_width": null,
            "object_fit": null,
            "object_position": null,
            "order": null,
            "overflow": null,
            "overflow_x": null,
            "overflow_y": null,
            "padding": null,
            "right": null,
            "top": null,
            "visibility": null,
            "width": null
          }
        },
        "e42973631a7745c49565e57834831e8a": {
          "model_module": "@jupyter-widgets/controls",
          "model_name": "DescriptionStyleModel",
          "model_module_version": "1.5.0",
          "state": {
            "_model_module": "@jupyter-widgets/controls",
            "_model_module_version": "1.5.0",
            "_model_name": "DescriptionStyleModel",
            "_view_count": null,
            "_view_module": "@jupyter-widgets/base",
            "_view_module_version": "1.2.0",
            "_view_name": "StyleView",
            "description_width": ""
          }
        },
        "c89fe478dae44d95a5480fe505d346e7": {
          "model_module": "@jupyter-widgets/controls",
          "model_name": "HBoxModel",
          "model_module_version": "1.5.0",
          "state": {
            "_dom_classes": [],
            "_model_module": "@jupyter-widgets/controls",
            "_model_module_version": "1.5.0",
            "_model_name": "HBoxModel",
            "_view_count": null,
            "_view_module": "@jupyter-widgets/controls",
            "_view_module_version": "1.5.0",
            "_view_name": "HBoxView",
            "box_style": "",
            "children": [
              "IPY_MODEL_b1e8768647e14887ba522a29f0944cce",
              "IPY_MODEL_d83eef266a38478f8747c5d9458b7c6c",
              "IPY_MODEL_ded39340e32d4822951a95bd9853dec8"
            ],
            "layout": "IPY_MODEL_18c71ef10bc047aaa8ddedcedec5f52a"
          }
        },
        "b1e8768647e14887ba522a29f0944cce": {
          "model_module": "@jupyter-widgets/controls",
          "model_name": "HTMLModel",
          "model_module_version": "1.5.0",
          "state": {
            "_dom_classes": [],
            "_model_module": "@jupyter-widgets/controls",
            "_model_module_version": "1.5.0",
            "_model_name": "HTMLModel",
            "_view_count": null,
            "_view_module": "@jupyter-widgets/controls",
            "_view_module_version": "1.5.0",
            "_view_name": "HTMLView",
            "description": "",
            "description_tooltip": null,
            "layout": "IPY_MODEL_269b0084ffd84664809e1480c47f27d0",
            "placeholder": "​",
            "style": "IPY_MODEL_892bcefd964b409398c9b2700d64fa52",
            "value": "Dataset parts: 100%"
          }
        },
        "d83eef266a38478f8747c5d9458b7c6c": {
          "model_module": "@jupyter-widgets/controls",
          "model_name": "FloatProgressModel",
          "model_module_version": "1.5.0",
          "state": {
            "_dom_classes": [],
            "_model_module": "@jupyter-widgets/controls",
            "_model_module_version": "1.5.0",
            "_model_name": "FloatProgressModel",
            "_view_count": null,
            "_view_module": "@jupyter-widgets/controls",
            "_view_module_version": "1.5.0",
            "_view_name": "ProgressView",
            "bar_style": "success",
            "description": "",
            "description_tooltip": null,
            "layout": "IPY_MODEL_3716c7d0ee014bbdbd0bc89ccb24c991",
            "max": 2,
            "min": 0,
            "orientation": "horizontal",
            "style": "IPY_MODEL_b2c1b7e6d10b41b6a5b4612f2882718b",
            "value": 2
          }
        },
        "ded39340e32d4822951a95bd9853dec8": {
          "model_module": "@jupyter-widgets/controls",
          "model_name": "HTMLModel",
          "model_module_version": "1.5.0",
          "state": {
            "_dom_classes": [],
            "_model_module": "@jupyter-widgets/controls",
            "_model_module_version": "1.5.0",
            "_model_name": "HTMLModel",
            "_view_count": null,
            "_view_module": "@jupyter-widgets/controls",
            "_view_module_version": "1.5.0",
            "_view_name": "HTMLView",
            "description": "",
            "description_tooltip": null,
            "layout": "IPY_MODEL_9968e1637e7340b7892318fd35d0a575",
            "placeholder": "​",
            "style": "IPY_MODEL_ba0aec3811fd41dc8d6430f735221b67",
            "value": " 2/2 [00:06&lt;00:00,  3.02s/it]"
          }
        },
        "18c71ef10bc047aaa8ddedcedec5f52a": {
          "model_module": "@jupyter-widgets/base",
          "model_name": "LayoutModel",
          "model_module_version": "1.2.0",
          "state": {
            "_model_module": "@jupyter-widgets/base",
            "_model_module_version": "1.2.0",
            "_model_name": "LayoutModel",
            "_view_count": null,
            "_view_module": "@jupyter-widgets/base",
            "_view_module_version": "1.2.0",
            "_view_name": "LayoutView",
            "align_content": null,
            "align_items": null,
            "align_self": null,
            "border": null,
            "bottom": null,
            "display": null,
            "flex": null,
            "flex_flow": null,
            "grid_area": null,
            "grid_auto_columns": null,
            "grid_auto_flow": null,
            "grid_auto_rows": null,
            "grid_column": null,
            "grid_gap": null,
            "grid_row": null,
            "grid_template_areas": null,
            "grid_template_columns": null,
            "grid_template_rows": null,
            "height": null,
            "justify_content": null,
            "justify_items": null,
            "left": null,
            "margin": null,
            "max_height": null,
            "max_width": null,
            "min_height": null,
            "min_width": null,
            "object_fit": null,
            "object_position": null,
            "order": null,
            "overflow": null,
            "overflow_x": null,
            "overflow_y": null,
            "padding": null,
            "right": null,
            "top": null,
            "visibility": null,
            "width": null
          }
        },
        "269b0084ffd84664809e1480c47f27d0": {
          "model_module": "@jupyter-widgets/base",
          "model_name": "LayoutModel",
          "model_module_version": "1.2.0",
          "state": {
            "_model_module": "@jupyter-widgets/base",
            "_model_module_version": "1.2.0",
            "_model_name": "LayoutModel",
            "_view_count": null,
            "_view_module": "@jupyter-widgets/base",
            "_view_module_version": "1.2.0",
            "_view_name": "LayoutView",
            "align_content": null,
            "align_items": null,
            "align_self": null,
            "border": null,
            "bottom": null,
            "display": null,
            "flex": null,
            "flex_flow": null,
            "grid_area": null,
            "grid_auto_columns": null,
            "grid_auto_flow": null,
            "grid_auto_rows": null,
            "grid_column": null,
            "grid_gap": null,
            "grid_row": null,
            "grid_template_areas": null,
            "grid_template_columns": null,
            "grid_template_rows": null,
            "height": null,
            "justify_content": null,
            "justify_items": null,
            "left": null,
            "margin": null,
            "max_height": null,
            "max_width": null,
            "min_height": null,
            "min_width": null,
            "object_fit": null,
            "object_position": null,
            "order": null,
            "overflow": null,
            "overflow_x": null,
            "overflow_y": null,
            "padding": null,
            "right": null,
            "top": null,
            "visibility": null,
            "width": null
          }
        },
        "892bcefd964b409398c9b2700d64fa52": {
          "model_module": "@jupyter-widgets/controls",
          "model_name": "DescriptionStyleModel",
          "model_module_version": "1.5.0",
          "state": {
            "_model_module": "@jupyter-widgets/controls",
            "_model_module_version": "1.5.0",
            "_model_name": "DescriptionStyleModel",
            "_view_count": null,
            "_view_module": "@jupyter-widgets/base",
            "_view_module_version": "1.2.0",
            "_view_name": "StyleView",
            "description_width": ""
          }
        },
        "3716c7d0ee014bbdbd0bc89ccb24c991": {
          "model_module": "@jupyter-widgets/base",
          "model_name": "LayoutModel",
          "model_module_version": "1.2.0",
          "state": {
            "_model_module": "@jupyter-widgets/base",
            "_model_module_version": "1.2.0",
            "_model_name": "LayoutModel",
            "_view_count": null,
            "_view_module": "@jupyter-widgets/base",
            "_view_module_version": "1.2.0",
            "_view_name": "LayoutView",
            "align_content": null,
            "align_items": null,
            "align_self": null,
            "border": null,
            "bottom": null,
            "display": null,
            "flex": null,
            "flex_flow": null,
            "grid_area": null,
            "grid_auto_columns": null,
            "grid_auto_flow": null,
            "grid_auto_rows": null,
            "grid_column": null,
            "grid_gap": null,
            "grid_row": null,
            "grid_template_areas": null,
            "grid_template_columns": null,
            "grid_template_rows": null,
            "height": null,
            "justify_content": null,
            "justify_items": null,
            "left": null,
            "margin": null,
            "max_height": null,
            "max_width": null,
            "min_height": null,
            "min_width": null,
            "object_fit": null,
            "object_position": null,
            "order": null,
            "overflow": null,
            "overflow_x": null,
            "overflow_y": null,
            "padding": null,
            "right": null,
            "top": null,
            "visibility": null,
            "width": null
          }
        },
        "b2c1b7e6d10b41b6a5b4612f2882718b": {
          "model_module": "@jupyter-widgets/controls",
          "model_name": "ProgressStyleModel",
          "model_module_version": "1.5.0",
          "state": {
            "_model_module": "@jupyter-widgets/controls",
            "_model_module_version": "1.5.0",
            "_model_name": "ProgressStyleModel",
            "_view_count": null,
            "_view_module": "@jupyter-widgets/base",
            "_view_module_version": "1.2.0",
            "_view_name": "StyleView",
            "bar_color": null,
            "description_width": ""
          }
        },
        "9968e1637e7340b7892318fd35d0a575": {
          "model_module": "@jupyter-widgets/base",
          "model_name": "LayoutModel",
          "model_module_version": "1.2.0",
          "state": {
            "_model_module": "@jupyter-widgets/base",
            "_model_module_version": "1.2.0",
            "_model_name": "LayoutModel",
            "_view_count": null,
            "_view_module": "@jupyter-widgets/base",
            "_view_module_version": "1.2.0",
            "_view_name": "LayoutView",
            "align_content": null,
            "align_items": null,
            "align_self": null,
            "border": null,
            "bottom": null,
            "display": null,
            "flex": null,
            "flex_flow": null,
            "grid_area": null,
            "grid_auto_columns": null,
            "grid_auto_flow": null,
            "grid_auto_rows": null,
            "grid_column": null,
            "grid_gap": null,
            "grid_row": null,
            "grid_template_areas": null,
            "grid_template_columns": null,
            "grid_template_rows": null,
            "height": null,
            "justify_content": null,
            "justify_items": null,
            "left": null,
            "margin": null,
            "max_height": null,
            "max_width": null,
            "min_height": null,
            "min_width": null,
            "object_fit": null,
            "object_position": null,
            "order": null,
            "overflow": null,
            "overflow_x": null,
            "overflow_y": null,
            "padding": null,
            "right": null,
            "top": null,
            "visibility": null,
            "width": null
          }
        },
        "ba0aec3811fd41dc8d6430f735221b67": {
          "model_module": "@jupyter-widgets/controls",
          "model_name": "DescriptionStyleModel",
          "model_module_version": "1.5.0",
          "state": {
            "_model_module": "@jupyter-widgets/controls",
            "_model_module_version": "1.5.0",
            "_model_name": "DescriptionStyleModel",
            "_view_count": null,
            "_view_module": "@jupyter-widgets/base",
            "_view_module_version": "1.2.0",
            "_view_name": "StyleView",
            "description_width": ""
          }
        },
        "06065cbd79ce421a964b52366c3ec8c3": {
          "model_module": "@jupyter-widgets/controls",
          "model_name": "HBoxModel",
          "model_module_version": "1.5.0",
          "state": {
            "_dom_classes": [],
            "_model_module": "@jupyter-widgets/controls",
            "_model_module_version": "1.5.0",
            "_model_name": "HBoxModel",
            "_view_count": null,
            "_view_module": "@jupyter-widgets/controls",
            "_view_module_version": "1.5.0",
            "_view_name": "HBoxView",
            "box_style": "",
            "children": [
              "IPY_MODEL_6095e1f894684d7abeb1b1aedefb1b5f",
              "IPY_MODEL_69995a31fae74071aa34b0d5860b6c72",
              "IPY_MODEL_50bb3a76886f4b13ac9815f856902c29"
            ],
            "layout": "IPY_MODEL_cd90d4d09d8246b485ec15ae3ec71e2c"
          }
        },
        "6095e1f894684d7abeb1b1aedefb1b5f": {
          "model_module": "@jupyter-widgets/controls",
          "model_name": "HTMLModel",
          "model_module_version": "1.5.0",
          "state": {
            "_dom_classes": [],
            "_model_module": "@jupyter-widgets/controls",
            "_model_module_version": "1.5.0",
            "_model_name": "HTMLModel",
            "_view_count": null,
            "_view_module": "@jupyter-widgets/controls",
            "_view_module_version": "1.5.0",
            "_view_name": "HTMLView",
            "description": "",
            "description_tooltip": null,
            "layout": "IPY_MODEL_728f9efbe25545c2a7dc6fa9a555bf3d",
            "placeholder": "​",
            "style": "IPY_MODEL_a5fbb6a48d8c4d30a3a054d6c29d82a7",
            "value": "Distributing tasks: "
          }
        },
        "69995a31fae74071aa34b0d5860b6c72": {
          "model_module": "@jupyter-widgets/controls",
          "model_name": "FloatProgressModel",
          "model_module_version": "1.5.0",
          "state": {
            "_dom_classes": [],
            "_model_module": "@jupyter-widgets/controls",
            "_model_module_version": "1.5.0",
            "_model_name": "FloatProgressModel",
            "_view_count": null,
            "_view_module": "@jupyter-widgets/controls",
            "_view_module_version": "1.5.0",
            "_view_name": "ProgressView",
            "bar_style": "info",
            "description": "",
            "description_tooltip": null,
            "layout": "IPY_MODEL_a57e987ea3a54ac8b4826311d182cde6",
            "max": 1,
            "min": 0,
            "orientation": "horizontal",
            "style": "IPY_MODEL_7d6fa18846ca47b29f4dea17e63dce17",
            "value": 1
          }
        },
        "50bb3a76886f4b13ac9815f856902c29": {
          "model_module": "@jupyter-widgets/controls",
          "model_name": "HTMLModel",
          "model_module_version": "1.5.0",
          "state": {
            "_dom_classes": [],
            "_model_module": "@jupyter-widgets/controls",
            "_model_module_version": "1.5.0",
            "_model_name": "HTMLModel",
            "_view_count": null,
            "_view_module": "@jupyter-widgets/controls",
            "_view_module_version": "1.5.0",
            "_view_name": "HTMLView",
            "description": "",
            "description_tooltip": null,
            "layout": "IPY_MODEL_8485586f1a1b4f1eacad0638dcaa879d",
            "placeholder": "​",
            "style": "IPY_MODEL_bfa79963570e4f5eaf60397fab7e45d5",
            "value": " 12/? [00:00&lt;00:00, 113.06it/s]"
          }
        },
        "cd90d4d09d8246b485ec15ae3ec71e2c": {
          "model_module": "@jupyter-widgets/base",
          "model_name": "LayoutModel",
          "model_module_version": "1.2.0",
          "state": {
            "_model_module": "@jupyter-widgets/base",
            "_model_module_version": "1.2.0",
            "_model_name": "LayoutModel",
            "_view_count": null,
            "_view_module": "@jupyter-widgets/base",
            "_view_module_version": "1.2.0",
            "_view_name": "LayoutView",
            "align_content": null,
            "align_items": null,
            "align_self": null,
            "border": null,
            "bottom": null,
            "display": null,
            "flex": null,
            "flex_flow": null,
            "grid_area": null,
            "grid_auto_columns": null,
            "grid_auto_flow": null,
            "grid_auto_rows": null,
            "grid_column": null,
            "grid_gap": null,
            "grid_row": null,
            "grid_template_areas": null,
            "grid_template_columns": null,
            "grid_template_rows": null,
            "height": null,
            "justify_content": null,
            "justify_items": null,
            "left": null,
            "margin": null,
            "max_height": null,
            "max_width": null,
            "min_height": null,
            "min_width": null,
            "object_fit": null,
            "object_position": null,
            "order": null,
            "overflow": null,
            "overflow_x": null,
            "overflow_y": null,
            "padding": null,
            "right": null,
            "top": null,
            "visibility": "hidden",
            "width": null
          }
        },
        "728f9efbe25545c2a7dc6fa9a555bf3d": {
          "model_module": "@jupyter-widgets/base",
          "model_name": "LayoutModel",
          "model_module_version": "1.2.0",
          "state": {
            "_model_module": "@jupyter-widgets/base",
            "_model_module_version": "1.2.0",
            "_model_name": "LayoutModel",
            "_view_count": null,
            "_view_module": "@jupyter-widgets/base",
            "_view_module_version": "1.2.0",
            "_view_name": "LayoutView",
            "align_content": null,
            "align_items": null,
            "align_self": null,
            "border": null,
            "bottom": null,
            "display": null,
            "flex": null,
            "flex_flow": null,
            "grid_area": null,
            "grid_auto_columns": null,
            "grid_auto_flow": null,
            "grid_auto_rows": null,
            "grid_column": null,
            "grid_gap": null,
            "grid_row": null,
            "grid_template_areas": null,
            "grid_template_columns": null,
            "grid_template_rows": null,
            "height": null,
            "justify_content": null,
            "justify_items": null,
            "left": null,
            "margin": null,
            "max_height": null,
            "max_width": null,
            "min_height": null,
            "min_width": null,
            "object_fit": null,
            "object_position": null,
            "order": null,
            "overflow": null,
            "overflow_x": null,
            "overflow_y": null,
            "padding": null,
            "right": null,
            "top": null,
            "visibility": null,
            "width": null
          }
        },
        "a5fbb6a48d8c4d30a3a054d6c29d82a7": {
          "model_module": "@jupyter-widgets/controls",
          "model_name": "DescriptionStyleModel",
          "model_module_version": "1.5.0",
          "state": {
            "_model_module": "@jupyter-widgets/controls",
            "_model_module_version": "1.5.0",
            "_model_name": "DescriptionStyleModel",
            "_view_count": null,
            "_view_module": "@jupyter-widgets/base",
            "_view_module_version": "1.2.0",
            "_view_name": "StyleView",
            "description_width": ""
          }
        },
        "a57e987ea3a54ac8b4826311d182cde6": {
          "model_module": "@jupyter-widgets/base",
          "model_name": "LayoutModel",
          "model_module_version": "1.2.0",
          "state": {
            "_model_module": "@jupyter-widgets/base",
            "_model_module_version": "1.2.0",
            "_model_name": "LayoutModel",
            "_view_count": null,
            "_view_module": "@jupyter-widgets/base",
            "_view_module_version": "1.2.0",
            "_view_name": "LayoutView",
            "align_content": null,
            "align_items": null,
            "align_self": null,
            "border": null,
            "bottom": null,
            "display": null,
            "flex": null,
            "flex_flow": null,
            "grid_area": null,
            "grid_auto_columns": null,
            "grid_auto_flow": null,
            "grid_auto_rows": null,
            "grid_column": null,
            "grid_gap": null,
            "grid_row": null,
            "grid_template_areas": null,
            "grid_template_columns": null,
            "grid_template_rows": null,
            "height": null,
            "justify_content": null,
            "justify_items": null,
            "left": null,
            "margin": null,
            "max_height": null,
            "max_width": null,
            "min_height": null,
            "min_width": null,
            "object_fit": null,
            "object_position": null,
            "order": null,
            "overflow": null,
            "overflow_x": null,
            "overflow_y": null,
            "padding": null,
            "right": null,
            "top": null,
            "visibility": null,
            "width": "20px"
          }
        },
        "7d6fa18846ca47b29f4dea17e63dce17": {
          "model_module": "@jupyter-widgets/controls",
          "model_name": "ProgressStyleModel",
          "model_module_version": "1.5.0",
          "state": {
            "_model_module": "@jupyter-widgets/controls",
            "_model_module_version": "1.5.0",
            "_model_name": "ProgressStyleModel",
            "_view_count": null,
            "_view_module": "@jupyter-widgets/base",
            "_view_module_version": "1.2.0",
            "_view_name": "StyleView",
            "bar_color": null,
            "description_width": ""
          }
        },
        "8485586f1a1b4f1eacad0638dcaa879d": {
          "model_module": "@jupyter-widgets/base",
          "model_name": "LayoutModel",
          "model_module_version": "1.2.0",
          "state": {
            "_model_module": "@jupyter-widgets/base",
            "_model_module_version": "1.2.0",
            "_model_name": "LayoutModel",
            "_view_count": null,
            "_view_module": "@jupyter-widgets/base",
            "_view_module_version": "1.2.0",
            "_view_name": "LayoutView",
            "align_content": null,
            "align_items": null,
            "align_self": null,
            "border": null,
            "bottom": null,
            "display": null,
            "flex": null,
            "flex_flow": null,
            "grid_area": null,
            "grid_auto_columns": null,
            "grid_auto_flow": null,
            "grid_auto_rows": null,
            "grid_column": null,
            "grid_gap": null,
            "grid_row": null,
            "grid_template_areas": null,
            "grid_template_columns": null,
            "grid_template_rows": null,
            "height": null,
            "justify_content": null,
            "justify_items": null,
            "left": null,
            "margin": null,
            "max_height": null,
            "max_width": null,
            "min_height": null,
            "min_width": null,
            "object_fit": null,
            "object_position": null,
            "order": null,
            "overflow": null,
            "overflow_x": null,
            "overflow_y": null,
            "padding": null,
            "right": null,
            "top": null,
            "visibility": null,
            "width": null
          }
        },
        "bfa79963570e4f5eaf60397fab7e45d5": {
          "model_module": "@jupyter-widgets/controls",
          "model_name": "DescriptionStyleModel",
          "model_module_version": "1.5.0",
          "state": {
            "_model_module": "@jupyter-widgets/controls",
            "_model_module_version": "1.5.0",
            "_model_name": "DescriptionStyleModel",
            "_view_count": null,
            "_view_module": "@jupyter-widgets/base",
            "_view_module_version": "1.2.0",
            "_view_name": "StyleView",
            "description_width": ""
          }
        },
        "9e258aafb40f4c5587409f7a6a74b4fd": {
          "model_module": "@jupyter-widgets/controls",
          "model_name": "HBoxModel",
          "model_module_version": "1.5.0",
          "state": {
            "_dom_classes": [],
            "_model_module": "@jupyter-widgets/controls",
            "_model_module_version": "1.5.0",
            "_model_name": "HBoxModel",
            "_view_count": null,
            "_view_module": "@jupyter-widgets/controls",
            "_view_module_version": "1.5.0",
            "_view_name": "HBoxView",
            "box_style": "",
            "children": [
              "IPY_MODEL_9c9842ab99dc4534a3177368f396bcb6",
              "IPY_MODEL_b7f681b5f3ed4a83b80b119472d003de",
              "IPY_MODEL_665da0de472448e7893868c2329915da"
            ],
            "layout": "IPY_MODEL_032b9a6a9262483c82617603d763038b"
          }
        },
        "9c9842ab99dc4534a3177368f396bcb6": {
          "model_module": "@jupyter-widgets/controls",
          "model_name": "HTMLModel",
          "model_module_version": "1.5.0",
          "state": {
            "_dom_classes": [],
            "_model_module": "@jupyter-widgets/controls",
            "_model_module_version": "1.5.0",
            "_model_name": "HTMLModel",
            "_view_count": null,
            "_view_module": "@jupyter-widgets/controls",
            "_view_module_version": "1.5.0",
            "_view_name": "HTMLView",
            "description": "",
            "description_tooltip": null,
            "layout": "IPY_MODEL_ba4e220f14214076b3b79a0d5b452a67",
            "placeholder": "​",
            "style": "IPY_MODEL_d18973af646e40faa98a21a6b246cd58",
            "value": "Processing:  95%"
          }
        },
        "b7f681b5f3ed4a83b80b119472d003de": {
          "model_module": "@jupyter-widgets/controls",
          "model_name": "FloatProgressModel",
          "model_module_version": "1.5.0",
          "state": {
            "_dom_classes": [],
            "_model_module": "@jupyter-widgets/controls",
            "_model_module_version": "1.5.0",
            "_model_name": "FloatProgressModel",
            "_view_count": null,
            "_view_module": "@jupyter-widgets/controls",
            "_view_module_version": "1.5.0",
            "_view_name": "ProgressView",
            "bar_style": "",
            "description": "",
            "description_tooltip": null,
            "layout": "IPY_MODEL_25e09aaa14e64e2c9e4ef04862ab7c65",
            "max": 1089,
            "min": 0,
            "orientation": "horizontal",
            "style": "IPY_MODEL_c15d5de12b1541bf990510913622c227",
            "value": 1089
          }
        },
        "665da0de472448e7893868c2329915da": {
          "model_module": "@jupyter-widgets/controls",
          "model_name": "HTMLModel",
          "model_module_version": "1.5.0",
          "state": {
            "_dom_classes": [],
            "_model_module": "@jupyter-widgets/controls",
            "_model_module_version": "1.5.0",
            "_model_name": "HTMLModel",
            "_view_count": null,
            "_view_module": "@jupyter-widgets/controls",
            "_view_module_version": "1.5.0",
            "_view_name": "HTMLView",
            "description": "",
            "description_tooltip": null,
            "layout": "IPY_MODEL_0470a954f7bb42448a9386d6688aabe6",
            "placeholder": "​",
            "style": "IPY_MODEL_4b9daa31939c4d99a4f2fb77f53ab558",
            "value": " 1031/1089 [00:01&lt;00:00, 871.84it/s]"
          }
        },
        "032b9a6a9262483c82617603d763038b": {
          "model_module": "@jupyter-widgets/base",
          "model_name": "LayoutModel",
          "model_module_version": "1.2.0",
          "state": {
            "_model_module": "@jupyter-widgets/base",
            "_model_module_version": "1.2.0",
            "_model_name": "LayoutModel",
            "_view_count": null,
            "_view_module": "@jupyter-widgets/base",
            "_view_module_version": "1.2.0",
            "_view_name": "LayoutView",
            "align_content": null,
            "align_items": null,
            "align_self": null,
            "border": null,
            "bottom": null,
            "display": null,
            "flex": null,
            "flex_flow": null,
            "grid_area": null,
            "grid_auto_columns": null,
            "grid_auto_flow": null,
            "grid_auto_rows": null,
            "grid_column": null,
            "grid_gap": null,
            "grid_row": null,
            "grid_template_areas": null,
            "grid_template_columns": null,
            "grid_template_rows": null,
            "height": null,
            "justify_content": null,
            "justify_items": null,
            "left": null,
            "margin": null,
            "max_height": null,
            "max_width": null,
            "min_height": null,
            "min_width": null,
            "object_fit": null,
            "object_position": null,
            "order": null,
            "overflow": null,
            "overflow_x": null,
            "overflow_y": null,
            "padding": null,
            "right": null,
            "top": null,
            "visibility": "hidden",
            "width": null
          }
        },
        "ba4e220f14214076b3b79a0d5b452a67": {
          "model_module": "@jupyter-widgets/base",
          "model_name": "LayoutModel",
          "model_module_version": "1.2.0",
          "state": {
            "_model_module": "@jupyter-widgets/base",
            "_model_module_version": "1.2.0",
            "_model_name": "LayoutModel",
            "_view_count": null,
            "_view_module": "@jupyter-widgets/base",
            "_view_module_version": "1.2.0",
            "_view_name": "LayoutView",
            "align_content": null,
            "align_items": null,
            "align_self": null,
            "border": null,
            "bottom": null,
            "display": null,
            "flex": null,
            "flex_flow": null,
            "grid_area": null,
            "grid_auto_columns": null,
            "grid_auto_flow": null,
            "grid_auto_rows": null,
            "grid_column": null,
            "grid_gap": null,
            "grid_row": null,
            "grid_template_areas": null,
            "grid_template_columns": null,
            "grid_template_rows": null,
            "height": null,
            "justify_content": null,
            "justify_items": null,
            "left": null,
            "margin": null,
            "max_height": null,
            "max_width": null,
            "min_height": null,
            "min_width": null,
            "object_fit": null,
            "object_position": null,
            "order": null,
            "overflow": null,
            "overflow_x": null,
            "overflow_y": null,
            "padding": null,
            "right": null,
            "top": null,
            "visibility": null,
            "width": null
          }
        },
        "d18973af646e40faa98a21a6b246cd58": {
          "model_module": "@jupyter-widgets/controls",
          "model_name": "DescriptionStyleModel",
          "model_module_version": "1.5.0",
          "state": {
            "_model_module": "@jupyter-widgets/controls",
            "_model_module_version": "1.5.0",
            "_model_name": "DescriptionStyleModel",
            "_view_count": null,
            "_view_module": "@jupyter-widgets/base",
            "_view_module_version": "1.2.0",
            "_view_name": "StyleView",
            "description_width": ""
          }
        },
        "25e09aaa14e64e2c9e4ef04862ab7c65": {
          "model_module": "@jupyter-widgets/base",
          "model_name": "LayoutModel",
          "model_module_version": "1.2.0",
          "state": {
            "_model_module": "@jupyter-widgets/base",
            "_model_module_version": "1.2.0",
            "_model_name": "LayoutModel",
            "_view_count": null,
            "_view_module": "@jupyter-widgets/base",
            "_view_module_version": "1.2.0",
            "_view_name": "LayoutView",
            "align_content": null,
            "align_items": null,
            "align_self": null,
            "border": null,
            "bottom": null,
            "display": null,
            "flex": null,
            "flex_flow": null,
            "grid_area": null,
            "grid_auto_columns": null,
            "grid_auto_flow": null,
            "grid_auto_rows": null,
            "grid_column": null,
            "grid_gap": null,
            "grid_row": null,
            "grid_template_areas": null,
            "grid_template_columns": null,
            "grid_template_rows": null,
            "height": null,
            "justify_content": null,
            "justify_items": null,
            "left": null,
            "margin": null,
            "max_height": null,
            "max_width": null,
            "min_height": null,
            "min_width": null,
            "object_fit": null,
            "object_position": null,
            "order": null,
            "overflow": null,
            "overflow_x": null,
            "overflow_y": null,
            "padding": null,
            "right": null,
            "top": null,
            "visibility": null,
            "width": null
          }
        },
        "c15d5de12b1541bf990510913622c227": {
          "model_module": "@jupyter-widgets/controls",
          "model_name": "ProgressStyleModel",
          "model_module_version": "1.5.0",
          "state": {
            "_model_module": "@jupyter-widgets/controls",
            "_model_module_version": "1.5.0",
            "_model_name": "ProgressStyleModel",
            "_view_count": null,
            "_view_module": "@jupyter-widgets/base",
            "_view_module_version": "1.2.0",
            "_view_name": "StyleView",
            "bar_color": null,
            "description_width": ""
          }
        },
        "0470a954f7bb42448a9386d6688aabe6": {
          "model_module": "@jupyter-widgets/base",
          "model_name": "LayoutModel",
          "model_module_version": "1.2.0",
          "state": {
            "_model_module": "@jupyter-widgets/base",
            "_model_module_version": "1.2.0",
            "_model_name": "LayoutModel",
            "_view_count": null,
            "_view_module": "@jupyter-widgets/base",
            "_view_module_version": "1.2.0",
            "_view_name": "LayoutView",
            "align_content": null,
            "align_items": null,
            "align_self": null,
            "border": null,
            "bottom": null,
            "display": null,
            "flex": null,
            "flex_flow": null,
            "grid_area": null,
            "grid_auto_columns": null,
            "grid_auto_flow": null,
            "grid_auto_rows": null,
            "grid_column": null,
            "grid_gap": null,
            "grid_row": null,
            "grid_template_areas": null,
            "grid_template_columns": null,
            "grid_template_rows": null,
            "height": null,
            "justify_content": null,
            "justify_items": null,
            "left": null,
            "margin": null,
            "max_height": null,
            "max_width": null,
            "min_height": null,
            "min_width": null,
            "object_fit": null,
            "object_position": null,
            "order": null,
            "overflow": null,
            "overflow_x": null,
            "overflow_y": null,
            "padding": null,
            "right": null,
            "top": null,
            "visibility": null,
            "width": null
          }
        },
        "4b9daa31939c4d99a4f2fb77f53ab558": {
          "model_module": "@jupyter-widgets/controls",
          "model_name": "DescriptionStyleModel",
          "model_module_version": "1.5.0",
          "state": {
            "_model_module": "@jupyter-widgets/controls",
            "_model_module_version": "1.5.0",
            "_model_name": "DescriptionStyleModel",
            "_view_count": null,
            "_view_module": "@jupyter-widgets/base",
            "_view_module_version": "1.2.0",
            "_view_name": "StyleView",
            "description_width": ""
          }
        },
        "7dfe16db6b9d4a298d6d5a7f074ba192": {
          "model_module": "@jupyter-widgets/controls",
          "model_name": "HBoxModel",
          "model_module_version": "1.5.0",
          "state": {
            "_dom_classes": [],
            "_model_module": "@jupyter-widgets/controls",
            "_model_module_version": "1.5.0",
            "_model_name": "HBoxModel",
            "_view_count": null,
            "_view_module": "@jupyter-widgets/controls",
            "_view_module_version": "1.5.0",
            "_view_name": "HBoxView",
            "box_style": "",
            "children": [
              "IPY_MODEL_9a515fa36e4e457ebebf0fe7e79336a6",
              "IPY_MODEL_530daa24c1624caab174b542f835f73f",
              "IPY_MODEL_01e93a0859974b40962f367a8776feea"
            ],
            "layout": "IPY_MODEL_cc7da58e84a248d18e404ad06ea65e32"
          }
        },
        "9a515fa36e4e457ebebf0fe7e79336a6": {
          "model_module": "@jupyter-widgets/controls",
          "model_name": "HTMLModel",
          "model_module_version": "1.5.0",
          "state": {
            "_dom_classes": [],
            "_model_module": "@jupyter-widgets/controls",
            "_model_module_version": "1.5.0",
            "_model_name": "HTMLModel",
            "_view_count": null,
            "_view_module": "@jupyter-widgets/controls",
            "_view_module_version": "1.5.0",
            "_view_name": "HTMLView",
            "description": "",
            "description_tooltip": null,
            "layout": "IPY_MODEL_b1a9378f7ce742cb9395fea38bfc5dc3",
            "placeholder": "​",
            "style": "IPY_MODEL_bac178bca88240fca7018212ea7a1df2",
            "value": "Distributing tasks: "
          }
        },
        "530daa24c1624caab174b542f835f73f": {
          "model_module": "@jupyter-widgets/controls",
          "model_name": "FloatProgressModel",
          "model_module_version": "1.5.0",
          "state": {
            "_dom_classes": [],
            "_model_module": "@jupyter-widgets/controls",
            "_model_module_version": "1.5.0",
            "_model_name": "FloatProgressModel",
            "_view_count": null,
            "_view_module": "@jupyter-widgets/controls",
            "_view_module_version": "1.5.0",
            "_view_name": "ProgressView",
            "bar_style": "info",
            "description": "",
            "description_tooltip": null,
            "layout": "IPY_MODEL_c9d46fea90c84ec8b008bf5eff02ea7f",
            "max": 1,
            "min": 0,
            "orientation": "horizontal",
            "style": "IPY_MODEL_a2f48953963b4634a43dfbcc1912bfce",
            "value": 1
          }
        },
        "01e93a0859974b40962f367a8776feea": {
          "model_module": "@jupyter-widgets/controls",
          "model_name": "HTMLModel",
          "model_module_version": "1.5.0",
          "state": {
            "_dom_classes": [],
            "_model_module": "@jupyter-widgets/controls",
            "_model_module_version": "1.5.0",
            "_model_name": "HTMLModel",
            "_view_count": null,
            "_view_module": "@jupyter-widgets/controls",
            "_view_module_version": "1.5.0",
            "_view_name": "HTMLView",
            "description": "",
            "description_tooltip": null,
            "layout": "IPY_MODEL_cba59eb2357c41bd8300a60e8a856fe6",
            "placeholder": "​",
            "style": "IPY_MODEL_216f933a7d9441bebec1e26fbd3bff51",
            "value": " 25/? [00:00&lt;00:00, 82.52it/s]"
          }
        },
        "cc7da58e84a248d18e404ad06ea65e32": {
          "model_module": "@jupyter-widgets/base",
          "model_name": "LayoutModel",
          "model_module_version": "1.2.0",
          "state": {
            "_model_module": "@jupyter-widgets/base",
            "_model_module_version": "1.2.0",
            "_model_name": "LayoutModel",
            "_view_count": null,
            "_view_module": "@jupyter-widgets/base",
            "_view_module_version": "1.2.0",
            "_view_name": "LayoutView",
            "align_content": null,
            "align_items": null,
            "align_self": null,
            "border": null,
            "bottom": null,
            "display": null,
            "flex": null,
            "flex_flow": null,
            "grid_area": null,
            "grid_auto_columns": null,
            "grid_auto_flow": null,
            "grid_auto_rows": null,
            "grid_column": null,
            "grid_gap": null,
            "grid_row": null,
            "grid_template_areas": null,
            "grid_template_columns": null,
            "grid_template_rows": null,
            "height": null,
            "justify_content": null,
            "justify_items": null,
            "left": null,
            "margin": null,
            "max_height": null,
            "max_width": null,
            "min_height": null,
            "min_width": null,
            "object_fit": null,
            "object_position": null,
            "order": null,
            "overflow": null,
            "overflow_x": null,
            "overflow_y": null,
            "padding": null,
            "right": null,
            "top": null,
            "visibility": "hidden",
            "width": null
          }
        },
        "b1a9378f7ce742cb9395fea38bfc5dc3": {
          "model_module": "@jupyter-widgets/base",
          "model_name": "LayoutModel",
          "model_module_version": "1.2.0",
          "state": {
            "_model_module": "@jupyter-widgets/base",
            "_model_module_version": "1.2.0",
            "_model_name": "LayoutModel",
            "_view_count": null,
            "_view_module": "@jupyter-widgets/base",
            "_view_module_version": "1.2.0",
            "_view_name": "LayoutView",
            "align_content": null,
            "align_items": null,
            "align_self": null,
            "border": null,
            "bottom": null,
            "display": null,
            "flex": null,
            "flex_flow": null,
            "grid_area": null,
            "grid_auto_columns": null,
            "grid_auto_flow": null,
            "grid_auto_rows": null,
            "grid_column": null,
            "grid_gap": null,
            "grid_row": null,
            "grid_template_areas": null,
            "grid_template_columns": null,
            "grid_template_rows": null,
            "height": null,
            "justify_content": null,
            "justify_items": null,
            "left": null,
            "margin": null,
            "max_height": null,
            "max_width": null,
            "min_height": null,
            "min_width": null,
            "object_fit": null,
            "object_position": null,
            "order": null,
            "overflow": null,
            "overflow_x": null,
            "overflow_y": null,
            "padding": null,
            "right": null,
            "top": null,
            "visibility": null,
            "width": null
          }
        },
        "bac178bca88240fca7018212ea7a1df2": {
          "model_module": "@jupyter-widgets/controls",
          "model_name": "DescriptionStyleModel",
          "model_module_version": "1.5.0",
          "state": {
            "_model_module": "@jupyter-widgets/controls",
            "_model_module_version": "1.5.0",
            "_model_name": "DescriptionStyleModel",
            "_view_count": null,
            "_view_module": "@jupyter-widgets/base",
            "_view_module_version": "1.2.0",
            "_view_name": "StyleView",
            "description_width": ""
          }
        },
        "c9d46fea90c84ec8b008bf5eff02ea7f": {
          "model_module": "@jupyter-widgets/base",
          "model_name": "LayoutModel",
          "model_module_version": "1.2.0",
          "state": {
            "_model_module": "@jupyter-widgets/base",
            "_model_module_version": "1.2.0",
            "_model_name": "LayoutModel",
            "_view_count": null,
            "_view_module": "@jupyter-widgets/base",
            "_view_module_version": "1.2.0",
            "_view_name": "LayoutView",
            "align_content": null,
            "align_items": null,
            "align_self": null,
            "border": null,
            "bottom": null,
            "display": null,
            "flex": null,
            "flex_flow": null,
            "grid_area": null,
            "grid_auto_columns": null,
            "grid_auto_flow": null,
            "grid_auto_rows": null,
            "grid_column": null,
            "grid_gap": null,
            "grid_row": null,
            "grid_template_areas": null,
            "grid_template_columns": null,
            "grid_template_rows": null,
            "height": null,
            "justify_content": null,
            "justify_items": null,
            "left": null,
            "margin": null,
            "max_height": null,
            "max_width": null,
            "min_height": null,
            "min_width": null,
            "object_fit": null,
            "object_position": null,
            "order": null,
            "overflow": null,
            "overflow_x": null,
            "overflow_y": null,
            "padding": null,
            "right": null,
            "top": null,
            "visibility": null,
            "width": "20px"
          }
        },
        "a2f48953963b4634a43dfbcc1912bfce": {
          "model_module": "@jupyter-widgets/controls",
          "model_name": "ProgressStyleModel",
          "model_module_version": "1.5.0",
          "state": {
            "_model_module": "@jupyter-widgets/controls",
            "_model_module_version": "1.5.0",
            "_model_name": "ProgressStyleModel",
            "_view_count": null,
            "_view_module": "@jupyter-widgets/base",
            "_view_module_version": "1.2.0",
            "_view_name": "StyleView",
            "bar_color": null,
            "description_width": ""
          }
        },
        "cba59eb2357c41bd8300a60e8a856fe6": {
          "model_module": "@jupyter-widgets/base",
          "model_name": "LayoutModel",
          "model_module_version": "1.2.0",
          "state": {
            "_model_module": "@jupyter-widgets/base",
            "_model_module_version": "1.2.0",
            "_model_name": "LayoutModel",
            "_view_count": null,
            "_view_module": "@jupyter-widgets/base",
            "_view_module_version": "1.2.0",
            "_view_name": "LayoutView",
            "align_content": null,
            "align_items": null,
            "align_self": null,
            "border": null,
            "bottom": null,
            "display": null,
            "flex": null,
            "flex_flow": null,
            "grid_area": null,
            "grid_auto_columns": null,
            "grid_auto_flow": null,
            "grid_auto_rows": null,
            "grid_column": null,
            "grid_gap": null,
            "grid_row": null,
            "grid_template_areas": null,
            "grid_template_columns": null,
            "grid_template_rows": null,
            "height": null,
            "justify_content": null,
            "justify_items": null,
            "left": null,
            "margin": null,
            "max_height": null,
            "max_width": null,
            "min_height": null,
            "min_width": null,
            "object_fit": null,
            "object_position": null,
            "order": null,
            "overflow": null,
            "overflow_x": null,
            "overflow_y": null,
            "padding": null,
            "right": null,
            "top": null,
            "visibility": null,
            "width": null
          }
        },
        "216f933a7d9441bebec1e26fbd3bff51": {
          "model_module": "@jupyter-widgets/controls",
          "model_name": "DescriptionStyleModel",
          "model_module_version": "1.5.0",
          "state": {
            "_model_module": "@jupyter-widgets/controls",
            "_model_module_version": "1.5.0",
            "_model_name": "DescriptionStyleModel",
            "_view_count": null,
            "_view_module": "@jupyter-widgets/base",
            "_view_module_version": "1.2.0",
            "_view_name": "StyleView",
            "description_width": ""
          }
        },
        "20ac8f8c2e0c4961ae2802bd9258aa66": {
          "model_module": "@jupyter-widgets/controls",
          "model_name": "HBoxModel",
          "model_module_version": "1.5.0",
          "state": {
            "_dom_classes": [],
            "_model_module": "@jupyter-widgets/controls",
            "_model_module_version": "1.5.0",
            "_model_name": "HBoxModel",
            "_view_count": null,
            "_view_module": "@jupyter-widgets/controls",
            "_view_module_version": "1.5.0",
            "_view_name": "HBoxView",
            "box_style": "",
            "children": [
              "IPY_MODEL_34307c845b1c4806a863f7e3aaea2b3c",
              "IPY_MODEL_620d607be3314d4287f3e66d1dcaad8c",
              "IPY_MODEL_e439b8e614f54da7a7b5cf9ef419c7a3"
            ],
            "layout": "IPY_MODEL_30d0c93cb5764ae78451f8ffa7a2f3e3"
          }
        },
        "34307c845b1c4806a863f7e3aaea2b3c": {
          "model_module": "@jupyter-widgets/controls",
          "model_name": "HTMLModel",
          "model_module_version": "1.5.0",
          "state": {
            "_dom_classes": [],
            "_model_module": "@jupyter-widgets/controls",
            "_model_module_version": "1.5.0",
            "_model_name": "HTMLModel",
            "_view_count": null,
            "_view_module": "@jupyter-widgets/controls",
            "_view_module_version": "1.5.0",
            "_view_name": "HTMLView",
            "description": "",
            "description_tooltip": null,
            "layout": "IPY_MODEL_0167d59bb2be498488e017af6a26eb9b",
            "placeholder": "​",
            "style": "IPY_MODEL_1e55d6bad2d54f1a8c67756ecabc8c2c",
            "value": "Processing:  92%"
          }
        },
        "620d607be3314d4287f3e66d1dcaad8c": {
          "model_module": "@jupyter-widgets/controls",
          "model_name": "FloatProgressModel",
          "model_module_version": "1.5.0",
          "state": {
            "_dom_classes": [],
            "_model_module": "@jupyter-widgets/controls",
            "_model_module_version": "1.5.0",
            "_model_name": "FloatProgressModel",
            "_view_count": null,
            "_view_module": "@jupyter-widgets/controls",
            "_view_module_version": "1.5.0",
            "_view_name": "ProgressView",
            "bar_style": "",
            "description": "",
            "description_tooltip": null,
            "layout": "IPY_MODEL_9935b84f11e94f40aced7bd0e9c0e9f6",
            "max": 1519,
            "min": 0,
            "orientation": "horizontal",
            "style": "IPY_MODEL_dbd9408af21f4e0eaeced3ea382a90c3",
            "value": 1519
          }
        },
        "e439b8e614f54da7a7b5cf9ef419c7a3": {
          "model_module": "@jupyter-widgets/controls",
          "model_name": "HTMLModel",
          "model_module_version": "1.5.0",
          "state": {
            "_dom_classes": [],
            "_model_module": "@jupyter-widgets/controls",
            "_model_module_version": "1.5.0",
            "_model_name": "HTMLModel",
            "_view_count": null,
            "_view_module": "@jupyter-widgets/controls",
            "_view_module_version": "1.5.0",
            "_view_name": "HTMLView",
            "description": "",
            "description_tooltip": null,
            "layout": "IPY_MODEL_1dd5c27ea5a4472197eae4fd01312d60",
            "placeholder": "​",
            "style": "IPY_MODEL_a6e05c1eade04f319f7d09082ef43348",
            "value": " 1396/1519 [00:01&lt;00:00, 1442.68it/s]"
          }
        },
        "30d0c93cb5764ae78451f8ffa7a2f3e3": {
          "model_module": "@jupyter-widgets/base",
          "model_name": "LayoutModel",
          "model_module_version": "1.2.0",
          "state": {
            "_model_module": "@jupyter-widgets/base",
            "_model_module_version": "1.2.0",
            "_model_name": "LayoutModel",
            "_view_count": null,
            "_view_module": "@jupyter-widgets/base",
            "_view_module_version": "1.2.0",
            "_view_name": "LayoutView",
            "align_content": null,
            "align_items": null,
            "align_self": null,
            "border": null,
            "bottom": null,
            "display": null,
            "flex": null,
            "flex_flow": null,
            "grid_area": null,
            "grid_auto_columns": null,
            "grid_auto_flow": null,
            "grid_auto_rows": null,
            "grid_column": null,
            "grid_gap": null,
            "grid_row": null,
            "grid_template_areas": null,
            "grid_template_columns": null,
            "grid_template_rows": null,
            "height": null,
            "justify_content": null,
            "justify_items": null,
            "left": null,
            "margin": null,
            "max_height": null,
            "max_width": null,
            "min_height": null,
            "min_width": null,
            "object_fit": null,
            "object_position": null,
            "order": null,
            "overflow": null,
            "overflow_x": null,
            "overflow_y": null,
            "padding": null,
            "right": null,
            "top": null,
            "visibility": "hidden",
            "width": null
          }
        },
        "0167d59bb2be498488e017af6a26eb9b": {
          "model_module": "@jupyter-widgets/base",
          "model_name": "LayoutModel",
          "model_module_version": "1.2.0",
          "state": {
            "_model_module": "@jupyter-widgets/base",
            "_model_module_version": "1.2.0",
            "_model_name": "LayoutModel",
            "_view_count": null,
            "_view_module": "@jupyter-widgets/base",
            "_view_module_version": "1.2.0",
            "_view_name": "LayoutView",
            "align_content": null,
            "align_items": null,
            "align_self": null,
            "border": null,
            "bottom": null,
            "display": null,
            "flex": null,
            "flex_flow": null,
            "grid_area": null,
            "grid_auto_columns": null,
            "grid_auto_flow": null,
            "grid_auto_rows": null,
            "grid_column": null,
            "grid_gap": null,
            "grid_row": null,
            "grid_template_areas": null,
            "grid_template_columns": null,
            "grid_template_rows": null,
            "height": null,
            "justify_content": null,
            "justify_items": null,
            "left": null,
            "margin": null,
            "max_height": null,
            "max_width": null,
            "min_height": null,
            "min_width": null,
            "object_fit": null,
            "object_position": null,
            "order": null,
            "overflow": null,
            "overflow_x": null,
            "overflow_y": null,
            "padding": null,
            "right": null,
            "top": null,
            "visibility": null,
            "width": null
          }
        },
        "1e55d6bad2d54f1a8c67756ecabc8c2c": {
          "model_module": "@jupyter-widgets/controls",
          "model_name": "DescriptionStyleModel",
          "model_module_version": "1.5.0",
          "state": {
            "_model_module": "@jupyter-widgets/controls",
            "_model_module_version": "1.5.0",
            "_model_name": "DescriptionStyleModel",
            "_view_count": null,
            "_view_module": "@jupyter-widgets/base",
            "_view_module_version": "1.2.0",
            "_view_name": "StyleView",
            "description_width": ""
          }
        },
        "9935b84f11e94f40aced7bd0e9c0e9f6": {
          "model_module": "@jupyter-widgets/base",
          "model_name": "LayoutModel",
          "model_module_version": "1.2.0",
          "state": {
            "_model_module": "@jupyter-widgets/base",
            "_model_module_version": "1.2.0",
            "_model_name": "LayoutModel",
            "_view_count": null,
            "_view_module": "@jupyter-widgets/base",
            "_view_module_version": "1.2.0",
            "_view_name": "LayoutView",
            "align_content": null,
            "align_items": null,
            "align_self": null,
            "border": null,
            "bottom": null,
            "display": null,
            "flex": null,
            "flex_flow": null,
            "grid_area": null,
            "grid_auto_columns": null,
            "grid_auto_flow": null,
            "grid_auto_rows": null,
            "grid_column": null,
            "grid_gap": null,
            "grid_row": null,
            "grid_template_areas": null,
            "grid_template_columns": null,
            "grid_template_rows": null,
            "height": null,
            "justify_content": null,
            "justify_items": null,
            "left": null,
            "margin": null,
            "max_height": null,
            "max_width": null,
            "min_height": null,
            "min_width": null,
            "object_fit": null,
            "object_position": null,
            "order": null,
            "overflow": null,
            "overflow_x": null,
            "overflow_y": null,
            "padding": null,
            "right": null,
            "top": null,
            "visibility": null,
            "width": null
          }
        },
        "dbd9408af21f4e0eaeced3ea382a90c3": {
          "model_module": "@jupyter-widgets/controls",
          "model_name": "ProgressStyleModel",
          "model_module_version": "1.5.0",
          "state": {
            "_model_module": "@jupyter-widgets/controls",
            "_model_module_version": "1.5.0",
            "_model_name": "ProgressStyleModel",
            "_view_count": null,
            "_view_module": "@jupyter-widgets/base",
            "_view_module_version": "1.2.0",
            "_view_name": "StyleView",
            "bar_color": null,
            "description_width": ""
          }
        },
        "1dd5c27ea5a4472197eae4fd01312d60": {
          "model_module": "@jupyter-widgets/base",
          "model_name": "LayoutModel",
          "model_module_version": "1.2.0",
          "state": {
            "_model_module": "@jupyter-widgets/base",
            "_model_module_version": "1.2.0",
            "_model_name": "LayoutModel",
            "_view_count": null,
            "_view_module": "@jupyter-widgets/base",
            "_view_module_version": "1.2.0",
            "_view_name": "LayoutView",
            "align_content": null,
            "align_items": null,
            "align_self": null,
            "border": null,
            "bottom": null,
            "display": null,
            "flex": null,
            "flex_flow": null,
            "grid_area": null,
            "grid_auto_columns": null,
            "grid_auto_flow": null,
            "grid_auto_rows": null,
            "grid_column": null,
            "grid_gap": null,
            "grid_row": null,
            "grid_template_areas": null,
            "grid_template_columns": null,
            "grid_template_rows": null,
            "height": null,
            "justify_content": null,
            "justify_items": null,
            "left": null,
            "margin": null,
            "max_height": null,
            "max_width": null,
            "min_height": null,
            "min_width": null,
            "object_fit": null,
            "object_position": null,
            "order": null,
            "overflow": null,
            "overflow_x": null,
            "overflow_y": null,
            "padding": null,
            "right": null,
            "top": null,
            "visibility": null,
            "width": null
          }
        },
        "a6e05c1eade04f319f7d09082ef43348": {
          "model_module": "@jupyter-widgets/controls",
          "model_name": "DescriptionStyleModel",
          "model_module_version": "1.5.0",
          "state": {
            "_model_module": "@jupyter-widgets/controls",
            "_model_module_version": "1.5.0",
            "_model_name": "DescriptionStyleModel",
            "_view_count": null,
            "_view_module": "@jupyter-widgets/base",
            "_view_module_version": "1.2.0",
            "_view_name": "StyleView",
            "description_width": ""
          }
        }
      }
    }
  },
  "cells": [
    {
      "cell_type": "markdown",
      "metadata": {
        "id": "view-in-github",
        "colab_type": "text"
      },
      "source": [
        "<a href=\"https://colab.research.google.com/github/fauxneticien/lnl-examples/blob/main/notebooks/01_mwe.ipynb\" target=\"_parent\"><img src=\"https://colab.research.google.com/assets/colab-badge.svg\" alt=\"Open In Colab\"/></a>"
      ]
    },
    {
      "cell_type": "markdown",
      "source": [
        "**Note**: Use Colab to view this notebook! Some text involving right-angle brackets such as '&lt;pre&gt;' do not display properly on the GitHub ipynb viewer."
      ],
      "metadata": {
        "id": "qVOm1MYIRN8M"
      }
    },
    {
      "cell_type": "markdown",
      "source": [
        "# Using PyTorch Lightning and Lhotse for speech processing research\n",
        "\n",
        "<p align=\"center\"><img width=\"500\" src=\"https://user-images.githubusercontent.com/9938298/244146091-1e3cf317-910a-4fcf-a0e2-6e755a4935c0.png\"></p>\n",
        "\n",
        "This tutorial builds up to a minimal working example (MWE) of using [PyTorch Lightning](https://github.com/Lightning-AI/lightning) and [Lhotse](https://github.com/lhotse-speech/lhotse), two Python libraries that help with a lot of the necessary plumbing that can otherwise be tricky/time-consuming to take care of yourself (e.g. automatic mixed precision, dynamic batching, etc.).\n",
        "\n",
        "We'll assume some basic level of familiarity of Python, deep learning, and speech processing and the main aim of the tutorial is to introduce how to get Lightning and Lhotse to play nice together. This notebook provides a component-by-component introduction with lots of prose and links that provide context for various choices in the accompanying [`train_mwe.py`](https://github.com/fauxneticien/lnl-examples/blob/main/train_mwe.py) file."
      ],
      "metadata": {
        "id": "cmC_4Q0Jq1dc"
      }
    },
    {
      "cell_type": "markdown",
      "source": [
        "## Setup\n",
        "\n",
        "We'll assume the latest versions of `torch(audio)`, `lightning`, and `lhotse` as of early June 2023."
      ],
      "metadata": {
        "id": "fbS1GBFguhP1"
      }
    },
    {
      "cell_type": "code",
      "source": [
        "%%capture\n",
        "\n",
        "!pip install --quiet torch==2.0.1 torchaudio==2.0.2 lightning==2.0.2 lhotse==1.14.0 gdown"
      ],
      "metadata": {
        "id": "nl7nUcipugNZ"
      },
      "execution_count": null,
      "outputs": []
    },
    {
      "cell_type": "markdown",
      "source": [
        "## Model: DeepSpeech (Hannun et al., 2014)\n",
        "\n",
        "For this introduction, we'll assume a very small, simple model, [DeepSpeech](https://arxiv.org/pdf/1412.5567.pdf), that is provided in `torchaudio`. For this tutorial, we'll just treat the model as a black box, and all we need to know is a) what kinds of inputs it wants and b) what kinds of outputs it gives back."
      ],
      "metadata": {
        "id": "-xoQoBYtwHXI"
      }
    },
    {
      "cell_type": "code",
      "execution_count": null,
      "metadata": {
        "id": "eRNoOyL0qzfM"
      },
      "outputs": [],
      "source": [
        "import torchaudio\n",
        "\n",
        "# Hard-code for now (we'll see later how Lhotse can help derive this from the dataset)\n",
        "labels=\"<pad>,<unk>,<bos>,<eos>, ,',A,B,C,D,E,F,G,H,I,J,K,L,M,N,O,P,Q,R,S,T,U,V,W,X,Y,Z\"\n",
        "\n",
        "model = torchaudio.models.DeepSpeech(\n",
        "    n_feature=80,\n",
        "    n_class=len(labels.split(\",\"))  # 32\n",
        "  )"
      ]
    },
    {
      "cell_type": "markdown",
      "source": [
        "### Inputs (B, T, F)\n",
        "\n",
        "Given the configuration above, the model will expect tensors of shape (B, T, F=80), where B is batch size, T is the number of time steps, and F is the number of features, which we'll obtain from using 80 Mel filterbanks to process the raw audio.\n",
        "\n",
        "To make this clear and concrete, let's have a look at a single utterance 'cat'."
      ],
      "metadata": {
        "id": "JpZEDKXnwF3A"
      }
    },
    {
      "cell_type": "markdown",
      "source": [
        "#### Download and load audio"
      ],
      "metadata": {
        "id": "t2fDBbIE-9iF"
      }
    },
    {
      "cell_type": "code",
      "source": [
        "!gdown 15HIXKBA_0AeZOnaV9h0lciYs_I8VOaem"
      ],
      "metadata": {
        "colab": {
          "base_uri": "https://localhost:8080/"
        },
        "id": "Xxl14Hpf56iO",
        "outputId": "80280af4-df86-4167-e401-f3ccceb62642"
      },
      "execution_count": null,
      "outputs": [
        {
          "output_type": "stream",
          "name": "stdout",
          "text": [
            "Downloading...\n",
            "From: https://drive.google.com/uc?id=15HIXKBA_0AeZOnaV9h0lciYs_I8VOaem\n",
            "To: /content/En-us-cat_16000.wav\n",
            "\r  0% 0.00/16.8k [00:00<?, ?B/s]\r100% 16.8k/16.8k [00:00<00:00, 53.9MB/s]\n"
          ]
        }
      ]
    },
    {
      "cell_type": "code",
      "source": [
        "import IPython.display as ipd\n",
        "\n",
        "samples, sample_rate = torchaudio.load(\"En-us-cat_16000.wav\")\n",
        "\n",
        "ipd.Audio(samples, rate=sample_rate)"
      ],
      "metadata": {
        "colab": {
          "base_uri": "https://localhost:8080/",
          "height": 75
        },
        "id": "yHMwHUlO8sB_",
        "outputId": "d7380da1-4e5e-4fb7-ed77-35306facb8b3"
      },
      "execution_count": null,
      "outputs": [
        {
          "output_type": "execute_result",
          "data": {
            "text/plain": [
              "<IPython.lib.display.Audio object>"
            ],
            "text/html": [
              "\n",
              "                <audio  controls=\"controls\" >\n",
              "                    <source src=\"data:audio/wav;base64,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\" type=\"audio/wav\" />\n",
              "                    Your browser does not support the audio element.\n",
              "                </audio>\n",
              "              "
            ]
          },
          "metadata": {},
          "execution_count": 4
        }
      ]
    },
    {
      "cell_type": "code",
      "source": [
        "print(f\"Time in seconds: {samples.size(1)/sample_rate}\")"
      ],
      "metadata": {
        "colab": {
          "base_uri": "https://localhost:8080/"
        },
        "id": "Cx89nublNloz",
        "outputId": "505fba20-718e-4cc3-a0cc-3ea196d1b204"
      },
      "execution_count": null,
      "outputs": [
        {
          "output_type": "stream",
          "name": "stdout",
          "text": [
            "Time in seconds: 0.5224375\n"
          ]
        }
      ]
    },
    {
      "cell_type": "markdown",
      "source": [
        "#### Configure feature extractor"
      ],
      "metadata": {
        "id": "sAm-jApH_A3r"
      }
    },
    {
      "cell_type": "code",
      "source": [
        "from lhotse import Fbank, FbankConfig\n",
        "\n",
        "extractor = Fbank(FbankConfig(num_mel_bins=80))"
      ],
      "metadata": {
        "id": "UdKGBUth8uoA"
      },
      "execution_count": null,
      "outputs": []
    },
    {
      "cell_type": "markdown",
      "source": [
        "#### Extract and view features"
      ],
      "metadata": {
        "id": "tg_yns0__DmB"
      }
    },
    {
      "cell_type": "code",
      "source": [
        "input_features = extractor.extract(samples, sampling_rate=sample_rate)\n",
        "\n",
        "input_features"
      ],
      "metadata": {
        "colab": {
          "base_uri": "https://localhost:8080/"
        },
        "id": "obozphHT9nkE",
        "outputId": "4a3df0aa-d30b-4d40-8de9-1a71ab12389b"
      },
      "execution_count": null,
      "outputs": [
        {
          "output_type": "execute_result",
          "data": {
            "text/plain": [
              "tensor([[-11.8135, -11.2680, -12.1239,  ...,  -7.6719,  -8.3827,  -8.1540],\n",
              "        [-13.2961, -12.5913, -11.5908,  ...,  -7.5160,  -8.0119,  -7.8620],\n",
              "        [-10.1926, -10.6146, -10.9565,  ...,  -4.2319,  -4.4798,  -5.3810],\n",
              "        ...,\n",
              "        [ -8.7502,  -8.8339, -11.2467,  ...,  -7.9184,  -7.5725,  -7.6966],\n",
              "        [-10.8201,  -9.9903, -11.2561,  ...,  -8.0878,  -7.6657,  -7.4947],\n",
              "        [-11.1634, -11.3071, -12.4587,  ...,  -8.3202,  -7.5953,  -7.1707]])"
            ]
          },
          "metadata": {},
          "execution_count": 6
        }
      ]
    },
    {
      "cell_type": "markdown",
      "source": [
        "Note that our utterance 'cat' is 0.52 seconds. By default, the Lhotse [Fbank](https://lhotse.readthedocs.io/en/latest/_modules/lhotse/features/fbank.html) feature extractor will slide a 25 ms window with a shift of 10 ms (or 0.01 s) along the audio, so we end up with a time dimension of 0.52/0.01 = 52 time steps."
      ],
      "metadata": {
        "id": "JU2mwKw9O-Gw"
      }
    },
    {
      "cell_type": "code",
      "source": [
        "input_features.shape"
      ],
      "metadata": {
        "colab": {
          "base_uri": "https://localhost:8080/"
        },
        "id": "l5Vx6Pyp_IgE",
        "outputId": "79f17b4a-a8fc-4933-e4d2-7aebd7224af8"
      },
      "execution_count": null,
      "outputs": [
        {
          "output_type": "execute_result",
          "data": {
            "text/plain": [
              "torch.Size([52, 80])"
            ]
          },
          "metadata": {},
          "execution_count": 7
        }
      ]
    },
    {
      "cell_type": "code",
      "source": [
        "import matplotlib.pyplot as plt\n",
        "import seaborn as sns\n",
        "\n",
        "plt.figure(figsize=(8,6))\n",
        "plt.suptitle(\"Mel filter-bank representation of 'cat'\")\n",
        "\n",
        "ax = sns.heatmap(input_features)\n",
        "ax.set(xlabel='Mel bin', ylabel='Time step')\n",
        "\n",
        "plt.show()"
      ],
      "metadata": {
        "colab": {
          "base_uri": "https://localhost:8080/",
          "height": 602
        },
        "id": "vc1zJ6DU9sI4",
        "outputId": "1380527e-74f7-4ac6-b7f9-7516e7fc8f2c"
      },
      "execution_count": null,
      "outputs": [
        {
          "output_type": "display_data",
          "data": {
            "text/plain": [
              "<Figure size 800x600 with 2 Axes>"
            ],
            "image/png": "[encoded data removed]"
          },
          "metadata": {}
        }
      ]
    },
    {
      "cell_type": "markdown",
      "source": [
        "### Outputs (B, T, C)\n",
        "\n",
        "We can have a look at the sequence of steps in the DeepSpeech class's [`forward()`](https://pytorch.org/audio/2.0.1/_modules/torchaudio/models/deepspeech.html#DeepSpeech.forward) function to get a sense of what's returned:\n",
        "\n",
        "```python\n",
        "    def forward(self, x: torch.Tensor) -> torch.Tensor:\n",
        "        \"\"\"\n",
        "        Args:\n",
        "            x (torch.Tensor): Tensor of dimension (batch, channel, time, feature).\n",
        "        Returns:\n",
        "            Tensor: Predictor tensor of dimension (batch, time, class).\n",
        "        \"\"\"\n",
        "        # N x C x T x F\n",
        "        x = self.fc1(x)\n",
        "        # N x C x T x H\n",
        "        x = self.fc2(x)\n",
        "        # N x C x T x H\n",
        "        x = self.fc3(x)\n",
        "        # N x C x T x H\n",
        "        x = x.squeeze(1)\n",
        "        # N x T x H\n",
        "        x = x.transpose(0, 1)\n",
        "        # T x N x H\n",
        "        x, _ = self.bi_rnn(x)\n",
        "        # The fifth (non-recurrent) layer takes both the forward and backward units as inputs\n",
        "        x = x[:, :, : self.n_hidden] + x[:, :, self.n_hidden :]\n",
        "        # T x N x H\n",
        "        x = self.fc4(x)\n",
        "        # T x N x H\n",
        "        x = self.out(x)\n",
        "        # T x N x n_class\n",
        "        x = x.permute(1, 0, 2)\n",
        "        # N x T x n_class\n",
        "        x = torch.nn.functional.log_softmax(x, dim=2)\n",
        "        # N x T x n_class\n",
        "        return x\n",
        "```\n",
        "\n",
        "We can see the last operation before `return x` is the `torch.nn.functional.log_softmax(x, dim=2)`, so what's returned by the model are log probabilities."
      ],
      "metadata": {
        "id": "LE_F6dvn_rmm"
      }
    },
    {
      "cell_type": "markdown",
      "source": [
        "#### Batch input and pass through model\n",
        "\n",
        "Now that we know what we'll get out from passing in our filterbank input, let's do exactly that:"
      ],
      "metadata": {
        "id": "o9HQgg19_RgH"
      }
    },
    {
      "cell_type": "code",
      "source": [
        "# Make into shape [1, 52, 80] since we only have a single example\n",
        "batch = input_features.unsqueeze(0)\n",
        "\n",
        "log_probs = model(batch)\n",
        "\n",
        "log_probs"
      ],
      "metadata": {
        "colab": {
          "base_uri": "https://localhost:8080/"
        },
        "id": "-fMOrGi3-CNk",
        "outputId": "a10c1c55-448d-497b-81b5-6fa0d040f2c5"
      },
      "execution_count": null,
      "outputs": [
        {
          "output_type": "execute_result",
          "data": {
            "text/plain": [
              "tensor([[[-3.4465, -3.3746, -3.3627,  ..., -3.4786, -3.5600, -3.4306],\n",
              "         [-3.4431, -3.3295, -3.3621,  ..., -3.4552, -3.6127, -3.4332],\n",
              "         [-3.4424, -3.3732, -3.3856,  ..., -3.4765, -3.5509, -3.4481],\n",
              "         ...,\n",
              "         [-3.4210, -3.3553, -3.3477,  ..., -3.4749, -3.5819, -3.4196],\n",
              "         [-3.4400, -3.3507, -3.3476,  ..., -3.4728, -3.5987, -3.4006],\n",
              "         [-3.4593, -3.3078, -3.3895,  ..., -3.4073, -3.6441, -3.4085]]],\n",
              "       grad_fn=<LogSoftmaxBackward0>)"
            ]
          },
          "metadata": {},
          "execution_count": 9
        }
      ]
    },
    {
      "cell_type": "code",
      "source": [
        "# Recall from above (n_class=32) for labels:\n",
        "# labels=\"<pad>,<unk>,<bos>,<eos>, ,',A,B,C,D,E,F,G,H,I,J,K,L,M,N,O,P,Q,R,S,T,U,V,W,X,Y,Z\"\n",
        "\n",
        "log_probs.shape"
      ],
      "metadata": {
        "colab": {
          "base_uri": "https://localhost:8080/"
        },
        "id": "3GnYMLsR_cMG",
        "outputId": "0792e2c1-0b45-49d2-fbd2-8cbeab0207ee"
      },
      "execution_count": null,
      "outputs": [
        {
          "output_type": "execute_result",
          "data": {
            "text/plain": [
              "torch.Size([1, 52, 32])"
            ]
          },
          "metadata": {},
          "execution_count": 10
        }
      ]
    },
    {
      "cell_type": "markdown",
      "source": [
        "#### Outputs from randomly initialized model\n",
        "\n",
        "The shape of the output that we get back is `[B, T, C]`, where `B` is batch size, `T` is the number of time steps, and `C` is the number of labels we configured the model with.\n",
        "\n",
        "We can also see that there's a relatively flat distribution over the label classes at each timestep (Note: 1/32 = 0.031)."
      ],
      "metadata": {
        "id": "2qPMEs7WC60u"
      }
    },
    {
      "cell_type": "code",
      "source": [
        "import torch\n",
        "import torch.nn.functional as F\n",
        "\n",
        "# Exponentiate to get raw probabilities\n",
        "probs = torch.exp(log_probs)\n",
        "\n",
        "probs"
      ],
      "metadata": {
        "id": "DndcKAfL_lmb",
        "colab": {
          "base_uri": "https://localhost:8080/"
        },
        "outputId": "942bc37c-8018-4ea0-c71f-72cc2b3d1b39"
      },
      "execution_count": null,
      "outputs": [
        {
          "output_type": "execute_result",
          "data": {
            "text/plain": [
              "tensor([[[0.0319, 0.0342, 0.0346,  ..., 0.0309, 0.0284, 0.0324],\n",
              "         [0.0320, 0.0358, 0.0347,  ..., 0.0316, 0.0270, 0.0323],\n",
              "         [0.0320, 0.0343, 0.0339,  ..., 0.0309, 0.0287, 0.0318],\n",
              "         ...,\n",
              "         [0.0327, 0.0349, 0.0352,  ..., 0.0310, 0.0278, 0.0327],\n",
              "         [0.0321, 0.0351, 0.0352,  ..., 0.0310, 0.0274, 0.0334],\n",
              "         [0.0315, 0.0366, 0.0337,  ..., 0.0331, 0.0261, 0.0331]]],\n",
              "       grad_fn=<ExpBackward0>)"
            ]
          },
          "metadata": {},
          "execution_count": 11
        }
      ]
    },
    {
      "cell_type": "code",
      "source": [
        "plt.figure(figsize=(8,6))\n",
        "plt.suptitle(\"Outputs of randomly initialized model\")\n",
        "\n",
        "ax = sns.heatmap(\n",
        "  probs.squeeze().detach().numpy(),\n",
        "  xticklabels=labels.split(\",\")\n",
        ")\n",
        "ax.set(xlabel='Label class', ylabel='Time step')\n",
        "\n",
        "plt.show()"
      ],
      "metadata": {
        "colab": {
          "base_uri": "https://localhost:8080/",
          "height": 637
        },
        "id": "KSQgfcjmCVOE",
        "outputId": "c81e0a65-03c3-4564-a6bc-56cc4e5a82db"
      },
      "execution_count": null,
      "outputs": [
        {
          "output_type": "display_data",
          "data": {
            "text/plain": [
              "<Figure size 800x600 with 2 Axes>"
            ],
            "image/png": "[encoded data removed]"
          },
          "metadata": {}
        }
      ]
    },
    {
      "cell_type": "markdown",
      "source": [
        "#### Ideal output (for 'cat')\n",
        "\n",
        "Ideally after training what we'd want the model to output is `C`, `A` and `T` around the time regions that correspond to those sounds in the input."
      ],
      "metadata": {
        "id": "6aA2YNVuDcxt"
      }
    },
    {
      "cell_type": "code",
      "source": [
        "plt.figure(figsize=(8,6))\n",
        "plt.suptitle(\"Expected outputs of ideal model\")\n",
        "\n",
        "ideal_outputs = torch.full((52, 32), (1-0.99)/31)           # Distribute remaining prob mass equally across other labels\n",
        "ideal_outputs[10:20, labels.split(\",\").index(\"C\")] = 0.99   # Some time steps are 'C'\n",
        "ideal_outputs[20:30, labels.split(\",\").index(\"A\")] = 0.99   # Some time steps are 'A'\n",
        "ideal_outputs[30:35, labels.split(\",\").index(\"T\")] = 0.99   # Some time steps are 'T'\n",
        "ideal_outputs[1:10, 0] = 0.99                               # Fill rest with <pad>\n",
        "ideal_outputs[35:51, 0] = 0.99                              # Fill rest with <pad>\n",
        "ideal_outputs[0, labels.split(\",\").index(\"<bos>\")] = 0.99\n",
        "ideal_outputs[-1, labels.split(\",\").index(\"<eos>\")] = 0.99\n",
        "\n",
        "ax = sns.heatmap(\n",
        "  ideal_outputs,\n",
        "  xticklabels=labels.split(\",\")\n",
        ")\n",
        "ax.set(xlabel='Label class', ylabel='Time step')\n",
        "\n",
        "plt.show()"
      ],
      "metadata": {
        "colab": {
          "base_uri": "https://localhost:8080/",
          "height": 637
        },
        "id": "cGfdsKw2CiUS",
        "outputId": "7968d65e-9ac0-40f0-ad2e-c365060c544b"
      },
      "execution_count": null,
      "outputs": [
        {
          "output_type": "display_data",
          "data": {
            "text/plain": [
              "<Figure size 800x600 with 2 Axes>"
            ],
            "image/png": "[encoded data removed]"
          },
          "metadata": {}
        }
      ]
    },
    {
      "cell_type": "markdown",
      "source": [
        "## Loss function: CTC Loss, expects (T, B, C)\n",
        "\n",
        "We'll use the [CTCLoss](https://pytorch.org/docs/stable/generated/torch.nn.CTCLoss.html) from PyTorch to iteratively adjust the model weights so that it eventually outputs something closer to the ideal output.\n",
        "\n",
        "As far as I can tell the default options in `CTCLoss` for `reduction=\"mean\"` and `zero_infinity=False` is probably retained for backwards compatability. In terms of reduction, the default behaviour is to normalize the losses by the lengths of the targets, however, the [more common practice](https://github.com/NVIDIA/NeMo/issues/68) these days is to divide the number of examples in the batch (so we set `reduction=\"sum\"`). We also set `zero_infinity=True` to zero out any Inf losses."
      ],
      "metadata": {
        "id": "_hggE0pbHdGp"
      }
    },
    {
      "cell_type": "code",
      "source": [
        "ctc_loss = torch.nn.CTCLoss(\n",
        "    blank=labels.split(\",\").index('<pad>'),\n",
        "    reduction=\"sum\",\n",
        "    zero_infinity=True\n",
        "  )"
      ],
      "metadata": {
        "id": "PXNiVk2REq93"
      },
      "execution_count": null,
      "outputs": []
    },
    {
      "cell_type": "markdown",
      "source": [
        "### Usage"
      ],
      "metadata": {
        "id": "v8GbIjLIR1vA"
      }
    },
    {
      "cell_type": "code",
      "source": [
        "# Shape [1, 52, 80]\n",
        "batch = input_features.unsqueeze(0)\n",
        "\n",
        "# Shape [1, 52, 32]\n",
        "log_probs = model(batch)\n",
        "\n",
        "loss = ctc_loss(\n",
        "    # Reshape inputs to [52, 1, 32]\n",
        "    log_probs.transpose(0, 1),\n",
        "    # Targets are: [\"<bos>\", \"C\", \"A\", \"T\", \"<eos>\"]\n",
        "    torch.tensor([[2, 8, 6, 25, 3]]),\n",
        "    # Input lengths\n",
        "    torch.tensor([52]),\n",
        "    # Target lengths\n",
        "    torch.tensor([5])\n",
        "  )\n",
        "\n",
        "# Normalize by number of examples in batch\n",
        "loss *= 1 / batch.size(0)"
      ],
      "metadata": {
        "id": "YG6Eb7ITGPIP"
      },
      "execution_count": null,
      "outputs": []
    },
    {
      "cell_type": "markdown",
      "source": [
        "## Dataset: Mini-LibriSpeech\n",
        "\n",
        "Handily, Lhotse provides a 'Mini LibriSpeech', which consists of a subset of `train-clean` and `dev-clean`, for demos such as this. "
      ],
      "metadata": {
        "id": "sjAg3-E_VkvO"
      }
    },
    {
      "cell_type": "code",
      "source": [
        "from lhotse.recipes import download_librispeech, prepare_librispeech\n",
        "\n",
        "download_librispeech(dataset_parts=\"mini_librispeech\")\n",
        "libri = prepare_librispeech(corpus_dir=\"LibriSpeech\", output_dir=\"data/\")"
      ],
      "metadata": {
        "colab": {
          "base_uri": "https://localhost:8080/",
          "height": 81,
          "referenced_widgets": [
            "2b9a36bbfe024588aa6abfd8a4073416",
            "145bb116d34f45ce9da5f32526797758",
            "35b6254c944443c3a2b189d85fe8b989",
            "6d8301bd5da04533b633a7516db2904e",
            "fee9b614e17f4ff1b94382f0c4a3bf9c",
            "93146dfbb2094ebeb8e8c7bd54793e81",
            "fa950983328b4b0da54096f8f3dcd8fe",
            "21d84f3f2ca14a8097b8ecdb45de4100",
            "67011214ae1e440cb4730778e93b6c18",
            "c1a19f3363ef4a279cfa4542af22b697",
            "e42973631a7745c49565e57834831e8a",
            "c89fe478dae44d95a5480fe505d346e7",
            "b1e8768647e14887ba522a29f0944cce",
            "d83eef266a38478f8747c5d9458b7c6c",
            "ded39340e32d4822951a95bd9853dec8",
            "18c71ef10bc047aaa8ddedcedec5f52a",
            "269b0084ffd84664809e1480c47f27d0",
            "892bcefd964b409398c9b2700d64fa52",
            "3716c7d0ee014bbdbd0bc89ccb24c991",
            "b2c1b7e6d10b41b6a5b4612f2882718b",
            "9968e1637e7340b7892318fd35d0a575",
            "ba0aec3811fd41dc8d6430f735221b67",
            "06065cbd79ce421a964b52366c3ec8c3",
            "6095e1f894684d7abeb1b1aedefb1b5f",
            "69995a31fae74071aa34b0d5860b6c72",
            "50bb3a76886f4b13ac9815f856902c29",
            "cd90d4d09d8246b485ec15ae3ec71e2c",
            "728f9efbe25545c2a7dc6fa9a555bf3d",
            "a5fbb6a48d8c4d30a3a054d6c29d82a7",
            "a57e987ea3a54ac8b4826311d182cde6",
            "7d6fa18846ca47b29f4dea17e63dce17",
            "8485586f1a1b4f1eacad0638dcaa879d",
            "bfa79963570e4f5eaf60397fab7e45d5",
            "9e258aafb40f4c5587409f7a6a74b4fd",
            "9c9842ab99dc4534a3177368f396bcb6",
            "b7f681b5f3ed4a83b80b119472d003de",
            "665da0de472448e7893868c2329915da",
            "032b9a6a9262483c82617603d763038b",
            "ba4e220f14214076b3b79a0d5b452a67",
            "d18973af646e40faa98a21a6b246cd58",
            "25e09aaa14e64e2c9e4ef04862ab7c65",
            "c15d5de12b1541bf990510913622c227",
            "0470a954f7bb42448a9386d6688aabe6",
            "4b9daa31939c4d99a4f2fb77f53ab558",
            "7dfe16db6b9d4a298d6d5a7f074ba192",
            "9a515fa36e4e457ebebf0fe7e79336a6",
            "530daa24c1624caab174b542f835f73f",
            "01e93a0859974b40962f367a8776feea",
            "cc7da58e84a248d18e404ad06ea65e32",
            "b1a9378f7ce742cb9395fea38bfc5dc3",
            "bac178bca88240fca7018212ea7a1df2",
            "c9d46fea90c84ec8b008bf5eff02ea7f",
            "a2f48953963b4634a43dfbcc1912bfce",
            "cba59eb2357c41bd8300a60e8a856fe6",
            "216f933a7d9441bebec1e26fbd3bff51",
            "20ac8f8c2e0c4961ae2802bd9258aa66",
            "34307c845b1c4806a863f7e3aaea2b3c",
            "620d607be3314d4287f3e66d1dcaad8c",
            "e439b8e614f54da7a7b5cf9ef419c7a3",
            "30d0c93cb5764ae78451f8ffa7a2f3e3",
            "0167d59bb2be498488e017af6a26eb9b",
            "1e55d6bad2d54f1a8c67756ecabc8c2c",
            "9935b84f11e94f40aced7bd0e9c0e9f6",
            "dbd9408af21f4e0eaeced3ea382a90c3",
            "1dd5c27ea5a4472197eae4fd01312d60",
            "a6e05c1eade04f319f7d09082ef43348"
          ]
        },
        "id": "NJQok3JERJ9K",
        "outputId": "828a2633-4a84-4102-abaf-34451f188dd9"
      },
      "execution_count": null,
      "outputs": [
        {
          "output_type": "display_data",
          "data": {
            "text/plain": [
              "Downloading LibriSpeech parts:   0%|          | 0/2 [00:00<?, ?it/s]"
            ],
            "application/vnd.jupyter.widget-view+json": {
              "version_major": 2,
              "version_minor": 0,
              "model_id": "2b9a36bbfe024588aa6abfd8a4073416"
            }
          },
          "metadata": {}
        },
        {
          "output_type": "display_data",
          "data": {
            "text/plain": [
              "Dataset parts:   0%|          | 0/2 [00:00<?, ?it/s]"
            ],
            "application/vnd.jupyter.widget-view+json": {
              "version_major": 2,
              "version_minor": 0,
              "model_id": "c89fe478dae44d95a5480fe505d346e7"
            }
          },
          "metadata": {}
        },
        {
          "output_type": "display_data",
          "data": {
            "text/plain": [
              "Distributing tasks: 0it [00:00, ?it/s]"
            ],
            "application/vnd.jupyter.widget-view+json": {
              "version_major": 2,
              "version_minor": 0,
              "model_id": "06065cbd79ce421a964b52366c3ec8c3"
            }
          },
          "metadata": {}
        },
        {
          "output_type": "display_data",
          "data": {
            "text/plain": [
              "Processing:   0%|          | 0/1089 [00:00<?, ?it/s]"
            ],
            "application/vnd.jupyter.widget-view+json": {
              "version_major": 2,
              "version_minor": 0,
              "model_id": "9e258aafb40f4c5587409f7a6a74b4fd"
            }
          },
          "metadata": {}
        },
        {
          "output_type": "display_data",
          "data": {
            "text/plain": [
              "Distributing tasks: 0it [00:00, ?it/s]"
            ],
            "application/vnd.jupyter.widget-view+json": {
              "version_major": 2,
              "version_minor": 0,
              "model_id": "7dfe16db6b9d4a298d6d5a7f074ba192"
            }
          },
          "metadata": {}
        },
        {
          "output_type": "display_data",
          "data": {
            "text/plain": [
              "Processing:   0%|          | 0/1519 [00:00<?, ?it/s]"
            ],
            "application/vnd.jupyter.widget-view+json": {
              "version_major": 2,
              "version_minor": 0,
              "model_id": "20ac8f8c2e0c4961ae2802bd9258aa66"
            }
          },
          "metadata": {}
        }
      ]
    },
    {
      "cell_type": "markdown",
      "source": [
        "Within the `train-clean-5` subset of `mini_librispeech`, we can see that Lhotse organizes the data into what they term 'Recordings' (e.g. audio) and 'Supervisions' (e.g. labels), as we can see from retrieving the first item from each set."
      ],
      "metadata": {
        "id": "iOEpo397YL5f"
      }
    },
    {
      "cell_type": "code",
      "source": [
        "libri['train-clean-5']"
      ],
      "metadata": {
        "colab": {
          "base_uri": "https://localhost:8080/"
        },
        "id": "fptgGkjTYF-3",
        "outputId": "48ee94ff-4192-4bf6-e835-bcedc6931ecb"
      },
      "execution_count": null,
      "outputs": [
        {
          "output_type": "execute_result",
          "data": {
            "text/plain": [
              "{'recordings': RecordingSet(len=1519),\n",
              " 'supervisions': SupervisionSet(len=1519)}"
            ]
          },
          "metadata": {},
          "execution_count": 17
        }
      ]
    },
    {
      "cell_type": "code",
      "source": [
        "libri['train-clean-5']['recordings'][0]"
      ],
      "metadata": {
        "colab": {
          "base_uri": "https://localhost:8080/"
        },
        "id": "gqRXw6LyTSN0",
        "outputId": "ef78872a-0448-4a74-af8c-47a77f523a7b"
      },
      "execution_count": null,
      "outputs": [
        {
          "output_type": "execute_result",
          "data": {
            "text/plain": [
              "Recording(id='460-172359-0000', sources=[AudioSource(type='file', channels=[0], source='LibriSpeech/train-clean-5/460/172359/460-172359-0000.flac')], sampling_rate=16000, num_samples=126640, duration=7.915, channel_ids=[0], transforms=None)"
            ]
          },
          "metadata": {},
          "execution_count": 18
        }
      ]
    },
    {
      "cell_type": "code",
      "source": [
        "libri['train-clean-5']['supervisions'][0]"
      ],
      "metadata": {
        "colab": {
          "base_uri": "https://localhost:8080/"
        },
        "id": "eY_uA95PTX0w",
        "outputId": "476a3542-5660-43c9-c2fc-447fe0e389cf"
      },
      "execution_count": null,
      "outputs": [
        {
          "output_type": "execute_result",
          "data": {
            "text/plain": [
              "SupervisionSegment(id='460-172359-0000', recording_id='460-172359-0000', start=0.0, duration=7.915, channel=0, text='IT WAS NOT UNTIL THE MINING BOOM AT THE TIME WHEN EVERYBODY WENT SIMPLY CRAZY OVER THE COBALT AND PORCUPINE MINES OF THE NEW SILVER COUNTRY NEAR THE HUDSON BAY', language='English', speaker='460', gender=None, custom=None, alignment=None)"
            ]
          },
          "metadata": {},
          "execution_count": 19
        }
      ]
    },
    {
      "cell_type": "markdown",
      "source": [
        "These Recordings and Supervisions are combined into 'Cuts'. For an introduction to Lhotse's terms such as 'Cuts', 'Supervisions', etc., see their [documentation](https://lhotse.readthedocs.io/en/latest/) and examples on the [GitHub repo](https://github.com/lhotse-speech/lhotse/tree/master/examples)."
      ],
      "metadata": {
        "id": "mLUdSCSOZYqE"
      }
    },
    {
      "cell_type": "code",
      "source": [
        "from lhotse import CutSet\n",
        "\n",
        "cuts_train = CutSet.from_manifests(**libri[\"train-clean-5\"])\n",
        "cuts_test = CutSet.from_manifests(**libri[\"dev-clean-2\"])"
      ],
      "metadata": {
        "id": "ETZ2rT7GZZnd"
      },
      "execution_count": null,
      "outputs": []
    },
    {
      "cell_type": "code",
      "source": [
        "# Use list() to force Colab to display cuts\n",
        "list(cuts_train.subset(first=2))"
      ],
      "metadata": {
        "colab": {
          "base_uri": "https://localhost:8080/"
        },
        "id": "wn4XMjXaZf9l",
        "outputId": "f6cc4a30-82df-4e2b-f783-5ed660bb66ed"
      },
      "execution_count": null,
      "outputs": [
        {
          "output_type": "execute_result",
          "data": {
            "text/plain": [
              "[MonoCut(id='460-172359-0000-0', start=0, duration=7.915, channel=0, supervisions=[SupervisionSegment(id='460-172359-0000', recording_id='460-172359-0000', start=0.0, duration=7.915, channel=0, text='IT WAS NOT UNTIL THE MINING BOOM AT THE TIME WHEN EVERYBODY WENT SIMPLY CRAZY OVER THE COBALT AND PORCUPINE MINES OF THE NEW SILVER COUNTRY NEAR THE HUDSON BAY', language='English', speaker='460', gender=None, custom=None, alignment=None)], features=None, recording=Recording(id='460-172359-0000', sources=[AudioSource(type='file', channels=[0], source='LibriSpeech/train-clean-5/460/172359/460-172359-0000.flac')], sampling_rate=16000, num_samples=126640, duration=7.915, channel_ids=[0], transforms=None), custom=None),\n",
              " MonoCut(id='460-172359-0001-1', start=0, duration=14.93, channel=0, supervisions=[SupervisionSegment(id='460-172359-0001', recording_id='460-172359-0001', start=0.0, duration=14.93, channel=0, text='THERE WERE ALWAYS PEOPLE GOING IN AND OUT OF THE BARBER SHOP MULLINS THE MANAGER OF THE EXCHANGE BANK TOOK HIS MORNING SHAVE FROM JEFF AS A FORM OF RESUSCITATION WITH ENOUGH WET TOWELS LAID ON HIS FACE TO STEW HIM AND WITH JEFF MOVING ABOUT IN THE STEAM RAZOR IN HAND', language='English', speaker='460', gender=None, custom=None, alignment=None)], features=None, recording=Recording(id='460-172359-0001', sources=[AudioSource(type='file', channels=[0], source='LibriSpeech/train-clean-5/460/172359/460-172359-0001.flac')], sampling_rate=16000, num_samples=238880, duration=14.93, channel_ids=[0], transforms=None), custom=None)]"
            ]
          },
          "metadata": {},
          "execution_count": 21
        }
      ]
    },
    {
      "cell_type": "markdown",
      "source": [
        "### Derive label set\n",
        "\n",
        "So far we had hard-coded the labels, but now we can make use of Lhotse to help derive the label set from the training data and also a tokenizer to convert to and from text and integer representations of the labels."
      ],
      "metadata": {
        "id": "C-svuwPnZAFQ"
      }
    },
    {
      "cell_type": "code",
      "source": [
        "from lhotse.dataset.collation import TokenCollater\n",
        "\n",
        "tokenizer = TokenCollater(cuts_train)"
      ],
      "metadata": {
        "id": "qfFK8MReXtkU"
      },
      "execution_count": null,
      "outputs": []
    },
    {
      "cell_type": "markdown",
      "source": [
        "We can access the list of the collated tokens as:"
      ],
      "metadata": {
        "id": "ImR3oSuca06L"
      }
    },
    {
      "cell_type": "code",
      "source": [
        "list(tokenizer.idx2token)"
      ],
      "metadata": {
        "colab": {
          "base_uri": "https://localhost:8080/"
        },
        "id": "Qc3xyXVxaa__",
        "outputId": "12ed969d-7295-46eb-99f6-c5821c5a4e29"
      },
      "execution_count": null,
      "outputs": [
        {
          "output_type": "execute_result",
          "data": {
            "text/plain": [
              "['<pad>',\n",
              " '<unk>',\n",
              " '<bos>',\n",
              " '<eos>',\n",
              " ' ',\n",
              " \"'\",\n",
              " 'A',\n",
              " 'B',\n",
              " 'C',\n",
              " 'D',\n",
              " 'E',\n",
              " 'F',\n",
              " 'G',\n",
              " 'H',\n",
              " 'I',\n",
              " 'J',\n",
              " 'K',\n",
              " 'L',\n",
              " 'M',\n",
              " 'N',\n",
              " 'O',\n",
              " 'P',\n",
              " 'Q',\n",
              " 'R',\n",
              " 'S',\n",
              " 'T',\n",
              " 'U',\n",
              " 'V',\n",
              " 'W',\n",
              " 'X',\n",
              " 'Y',\n",
              " 'Z']"
            ]
          },
          "metadata": {},
          "execution_count": 23
        }
      ]
    },
    {
      "cell_type": "markdown",
      "source": [
        "Additionally, we can use the tokenizer to map text to integers. Note also that the tokens the first, shorter utterance is 0-padded (since 0 = `<pad>`) so the returned tensor is rectangular."
      ],
      "metadata": {
        "id": "gWDsWnf3a97H"
      }
    },
    {
      "cell_type": "code",
      "source": [
        "tokens, token_lens = tokenizer(cuts_train.subset(first=2))"
      ],
      "metadata": {
        "id": "mgYZJbQXalvL"
      },
      "execution_count": null,
      "outputs": []
    },
    {
      "cell_type": "code",
      "source": [
        "tokens"
      ],
      "metadata": {
        "colab": {
          "base_uri": "https://localhost:8080/"
        },
        "id": "2m-k8FmFbFHv",
        "outputId": "d1b56510-97ed-4e5f-f2b5-6de70fbdd8b7"
      },
      "execution_count": null,
      "outputs": [
        {
          "output_type": "execute_result",
          "data": {
            "text/plain": [
              "tensor([[ 2, 14, 25,  4, 28,  6, 24,  4, 19, 20, 25,  4, 26, 19, 25, 14, 17,  4,\n",
              "         25, 13, 10,  4, 18, 14, 19, 14, 19, 12,  4,  7, 20, 20, 18,  4,  6, 25,\n",
              "          4, 25, 13, 10,  4, 25, 14, 18, 10,  4, 28, 13, 10, 19,  4, 10, 27, 10,\n",
              "         23, 30,  7, 20,  9, 30,  4, 28, 10, 19, 25,  4, 24, 14, 18, 21, 17, 30,\n",
              "          4,  8, 23,  6, 31, 30,  4, 20, 27, 10, 23,  4, 25, 13, 10,  4,  8, 20,\n",
              "          7,  6, 17, 25,  4,  6, 19,  9,  4, 21, 20, 23,  8, 26, 21, 14, 19, 10,\n",
              "          4, 18, 14, 19, 10, 24,  4, 20, 11,  4, 25, 13, 10,  4, 19, 10, 28,  4,\n",
              "         24, 14, 17, 27, 10, 23,  4,  8, 20, 26, 19, 25, 23, 30,  4, 19, 10,  6,\n",
              "         23,  4, 25, 13, 10,  4, 13, 26,  9, 24, 20, 19,  4,  7,  6, 30,  3,  0,\n",
              "          0,  0,  0,  0,  0,  0,  0,  0,  0,  0,  0,  0,  0,  0,  0,  0,  0,  0,\n",
              "          0,  0,  0,  0,  0,  0,  0,  0,  0,  0,  0,  0,  0,  0,  0,  0,  0,  0,\n",
              "          0,  0,  0,  0,  0,  0,  0,  0,  0,  0,  0,  0,  0,  0,  0,  0,  0,  0,\n",
              "          0,  0,  0,  0,  0,  0,  0,  0,  0,  0,  0,  0,  0,  0,  0,  0,  0,  0,\n",
              "          0,  0,  0,  0,  0,  0,  0,  0,  0,  0,  0,  0,  0,  0,  0,  0,  0,  0,\n",
              "          0,  0,  0,  0,  0,  0,  0,  0,  0,  0,  0,  0,  0,  0,  0,  0,  0],\n",
              "        [ 2, 25, 13, 10, 23, 10,  4, 28, 10, 23, 10,  4,  6, 17, 28,  6, 30, 24,\n",
              "          4, 21, 10, 20, 21, 17, 10,  4, 12, 20, 14, 19, 12,  4, 14, 19,  4,  6,\n",
              "         19,  9,  4, 20, 26, 25,  4, 20, 11,  4, 25, 13, 10,  4,  7,  6, 23,  7,\n",
              "         10, 23,  4, 24, 13, 20, 21,  4, 18, 26, 17, 17, 14, 19, 24,  4, 25, 13,\n",
              "         10,  4, 18,  6, 19,  6, 12, 10, 23,  4, 20, 11,  4, 25, 13, 10,  4, 10,\n",
              "         29,  8, 13,  6, 19, 12, 10,  4,  7,  6, 19, 16,  4, 25, 20, 20, 16,  4,\n",
              "         13, 14, 24,  4, 18, 20, 23, 19, 14, 19, 12,  4, 24, 13,  6, 27, 10,  4,\n",
              "         11, 23, 20, 18,  4, 15, 10, 11, 11,  4,  6, 24,  4,  6,  4, 11, 20, 23,\n",
              "         18,  4, 20, 11,  4, 23, 10, 24, 26, 24,  8, 14, 25,  6, 25, 14, 20, 19,\n",
              "          4, 28, 14, 25, 13,  4, 10, 19, 20, 26, 12, 13,  4, 28, 10, 25,  4, 25,\n",
              "         20, 28, 10, 17, 24,  4, 17,  6, 14,  9,  4, 20, 19,  4, 13, 14, 24,  4,\n",
              "         11,  6,  8, 10,  4, 25, 20,  4, 24, 25, 10, 28,  4, 13, 14, 18,  4,  6,\n",
              "         19,  9,  4, 28, 14, 25, 13,  4, 15, 10, 11, 11,  4, 18, 20, 27, 14, 19,\n",
              "         12,  4,  6,  7, 20, 26, 25,  4, 14, 19,  4, 25, 13, 10,  4, 24, 25, 10,\n",
              "          6, 18,  4, 23,  6, 31, 20, 23,  4, 14, 19,  4, 13,  6, 19,  9,  3]])"
            ]
          },
          "metadata": {},
          "execution_count": 25
        }
      ]
    },
    {
      "cell_type": "code",
      "source": [
        "token_lens"
      ],
      "metadata": {
        "colab": {
          "base_uri": "https://localhost:8080/"
        },
        "id": "WmdUUNOIctCw",
        "outputId": "408d38d9-1a83-4ffe-8455-b6d06fe0e0fe"
      },
      "execution_count": null,
      "outputs": [
        {
          "output_type": "execute_result",
          "data": {
            "text/plain": [
              "tensor([161, 269], dtype=torch.int32)"
            ]
          },
          "metadata": {},
          "execution_count": 26
        }
      ]
    },
    {
      "cell_type": "markdown",
      "source": [
        "The tokenizer can also help inverse-map the integers back to characters:"
      ],
      "metadata": {
        "id": "Cklc_57pcyk1"
      }
    },
    {
      "cell_type": "code",
      "source": [
        "tokenizer.inverse(tokens, token_lens)"
      ],
      "metadata": {
        "colab": {
          "base_uri": "https://localhost:8080/"
        },
        "id": "xVMKWCLjct9J",
        "outputId": "2369ea1b-4f04-4f65-d0d4-dedc33c2bbb6"
      },
      "execution_count": null,
      "outputs": [
        {
          "output_type": "execute_result",
          "data": {
            "text/plain": [
              "['IT WAS NOT UNTIL THE MINING BOOM AT THE TIME WHEN EVERYBODY WENT SIMPLY CRAZY OVER THE COBALT AND PORCUPINE MINES OF THE NEW SILVER COUNTRY NEAR THE HUDSON BAY',\n",
              " 'THERE WERE ALWAYS PEOPLE GOING IN AND OUT OF THE BARBER SHOP MULLINS THE MANAGER OF THE EXCHANGE BANK TOOK HIS MORNING SHAVE FROM JEFF AS A FORM OF RESUSCITATION WITH ENOUGH WET TOWELS LAID ON HIS FACE TO STEW HIM AND WITH JEFF MOVING ABOUT IN THE STEAM RAZOR IN HAND']"
            ]
          },
          "metadata": {},
          "execution_count": 27
        }
      ]
    },
    {
      "cell_type": "markdown",
      "source": [
        "### Derive features\n",
        "\n",
        "Similary, we can use Lhotse to pre-process, pad and collate the input audio and return the inputs tensor as well as the lengths of each input prior to padding (the latter of which is needed for CTCLoss)."
      ],
      "metadata": {
        "id": "_bWvl687d3Zg"
      }
    },
    {
      "cell_type": "code",
      "source": [
        "from lhotse.dataset import OnTheFlyFeatures\n",
        "from lhotse import Fbank, FbankConfig\n",
        "\n",
        "extractor = OnTheFlyFeatures(Fbank(FbankConfig(num_mel_bins=80)))\n",
        "\n",
        "feats, feat_lens = extractor(cuts_train.subset(first=2))"
      ],
      "metadata": {
        "id": "0eF94Fapc5j3"
      },
      "execution_count": null,
      "outputs": []
    },
    {
      "cell_type": "code",
      "source": [
        "feats"
      ],
      "metadata": {
        "colab": {
          "base_uri": "https://localhost:8080/"
        },
        "id": "sh1_bTC-eFg5",
        "outputId": "789e1e29-4e51-4a39-be19-7e9e5386f196"
      },
      "execution_count": null,
      "outputs": [
        {
          "output_type": "execute_result",
          "data": {
            "text/plain": [
              "tensor([[[-13.7213, -12.5876, -11.6976,  ..., -10.3892, -10.3867, -10.8986],\n",
              "         [-13.6527, -12.4900, -13.6331,  ..., -10.4951, -10.8136, -10.9899],\n",
              "         [-14.6484, -15.3210, -14.0398,  ..., -10.7447, -11.3133, -12.5056],\n",
              "         ...,\n",
              "         [-23.0259, -23.0259, -23.0259,  ..., -23.0259, -23.0259, -23.0259],\n",
              "         [-23.0259, -23.0259, -23.0259,  ..., -23.0259, -23.0259, -23.0259],\n",
              "         [-23.0259, -23.0259, -23.0259,  ..., -23.0259, -23.0259, -23.0259]],\n",
              "\n",
              "        [[-12.5258, -11.3058, -11.6622,  ...,  -8.4588,  -8.5523, -10.2883],\n",
              "         [-13.4630, -12.4195, -12.9221,  ..., -11.0054, -10.2561, -10.2611],\n",
              "         [-13.4196, -12.1019, -13.1397,  ..., -10.0933, -10.1816,  -9.8647],\n",
              "         ...,\n",
              "         [-13.8840, -12.8094, -12.9430,  ..., -10.4994, -10.5442, -11.0158],\n",
              "         [-14.4212, -12.6333, -12.9837,  ..., -10.6514, -10.5152, -11.0241],\n",
              "         [-15.1833, -14.0472, -13.4979,  ...,  -9.9933, -10.3847, -11.0630]]])"
            ]
          },
          "metadata": {},
          "execution_count": 29
        }
      ]
    },
    {
      "cell_type": "code",
      "source": [
        "feats.shape"
      ],
      "metadata": {
        "colab": {
          "base_uri": "https://localhost:8080/"
        },
        "id": "XjgOmeTEeN7l",
        "outputId": "f128ed6a-f16d-4dd9-c445-678d61a190fa"
      },
      "execution_count": null,
      "outputs": [
        {
          "output_type": "execute_result",
          "data": {
            "text/plain": [
              "torch.Size([2, 1493, 80])"
            ]
          },
          "metadata": {},
          "execution_count": 30
        }
      ]
    },
    {
      "cell_type": "code",
      "source": [
        "feat_lens"
      ],
      "metadata": {
        "colab": {
          "base_uri": "https://localhost:8080/"
        },
        "id": "eFuSr1kUeRca",
        "outputId": "1039552d-0d40-47fc-869c-e377aa289378"
      },
      "execution_count": null,
      "outputs": [
        {
          "output_type": "execute_result",
          "data": {
            "text/plain": [
              "tensor([ 792, 1493])"
            ]
          },
          "metadata": {},
          "execution_count": 31
        }
      ]
    },
    {
      "cell_type": "markdown",
      "source": [
        "## Configure data loaders\n",
        "\n",
        "We'll be leveraging the fact that both PyTorch Lightning and Lhotse are intended to play nice with PyTorch, in particular how PyTorch expects data loaders and samplers to behave.\n",
        "\n",
        "For an in-depth discussion of how Lightning and (distributed) PyTorch data samplers and data loaders work, see [this Colab](https://colab.research.google.com/drive/1OFLZnX9y5QUFNONuvFsxOizq4M-tFvk-) written by [Adrian Wälchli](https://github.com/awaelchli), one of the engineers at Lightning. Similarly, the for how Lhotse extends the same base PyTorch classes for use with speech data, see [their documentation](https://lhotse.readthedocs.io/en/latest/datasets.html)."
      ],
      "metadata": {
        "id": "UjbBvyMifGF0"
      }
    },
    {
      "cell_type": "markdown",
      "source": [
        "### Create dataset template\n",
        "\n",
        "To avoid repeating ourselves for both the `train` and `test` datasets, we'll create a simple `MinimalASRDataset` for both splits."
      ],
      "metadata": {
        "id": "ElLqieOAfg42"
      }
    },
    {
      "cell_type": "code",
      "source": [
        "class MinimalASRDataset(torch.utils.data.Dataset):\n",
        "    def __init__(self):\n",
        "        self.extractor = OnTheFlyFeatures(Fbank(FbankConfig(num_mel_bins=80)))\n",
        "        self.tokenizer = tokenizer\n",
        "\n",
        "    def __getitem__(self, cuts: CutSet) -> dict:\n",
        "        cuts = cuts.sort_by_duration()\n",
        "        feats, feat_lens = self.extractor(cuts)\n",
        "        tokens, token_lens = self.tokenizer(cuts)\n",
        "        return {\"inputs_padded\": feats, \"input_lengths\": feat_lens, \"labels_padded\": tokens, \"label_lengths\": token_lens}"
      ],
      "metadata": {
        "id": "cQbW8NO_eUQw"
      },
      "execution_count": null,
      "outputs": []
    },
    {
      "cell_type": "markdown",
      "source": [
        "### Configure samplers with Lhotse's `BucketingSampler`\n",
        "\n",
        "One of the big reasons to let Lhotse handle the data sampling is that it provides many ways to configure samplers and datasets that are common in speech processing, including `BucketingSampler`, where inputs of similar durations are grouped together into batches, which help reduce the amount of padding used.\n",
        "\n",
        "**Important**\n",
        "- That these batches are defined by a maximum duration (`max_duration`, in seconds) and so each batch can contain different numbers of examples.\n",
        "- We use `drop_last=True` so that in distributed training with multiple GPUs the last batch can be dropped if not enough examples are left (Lightning's training loop can get stuck without this flag)"
      ],
      "metadata": {
        "id": "hroKeyMAiLK_"
      }
    },
    {
      "cell_type": "code",
      "source": [
        "from lhotse.dataset import BucketingSampler\n",
        "\n",
        "train_sampler = BucketingSampler(cuts_train, max_duration=300, shuffle=True, drop_last=True)\n",
        "test_sampler  = BucketingSampler(cuts_test,  max_duration=300, shuffle=False, drop_last=True)"
      ],
      "metadata": {
        "id": "jb3bDLA1iHlc"
      },
      "execution_count": null,
      "outputs": []
    },
    {
      "cell_type": "markdown",
      "source": [
        "### Configure data loaders"
      ],
      "metadata": {
        "id": "Iq0ZsocIkHrv"
      }
    },
    {
      "cell_type": "code",
      "source": [
        "from torch.utils.data import DataLoader\n",
        "\n",
        "train_loader = DataLoader(\n",
        "    MinimalASRDataset(),\n",
        "    sampler=train_sampler,\n",
        "    batch_size=None,\n",
        "    num_workers=1\n",
        ")\n",
        "\n",
        "test_loader = DataLoader(\n",
        "    MinimalASRDataset(),\n",
        "    sampler=test_sampler,\n",
        "    batch_size=None,\n",
        "    num_workers=1\n",
        ")"
      ],
      "metadata": {
        "id": "CTQv5jj5kC6c"
      },
      "execution_count": null,
      "outputs": []
    },
    {
      "cell_type": "markdown",
      "source": [
        "At the end of the day, we can see that the data loader (with various bells and whistles) is still just a PyTorch DataLoader:"
      ],
      "metadata": {
        "id": "fyrHH2H4lJE7"
      }
    },
    {
      "cell_type": "code",
      "source": [
        "type(train_loader)"
      ],
      "metadata": {
        "colab": {
          "base_uri": "https://localhost:8080/"
        },
        "id": "Vzq0WJR9lFZt",
        "outputId": "02289bd8-5693-4bef-b51e-8347cf3854cc"
      },
      "execution_count": null,
      "outputs": [
        {
          "output_type": "execute_result",
          "data": {
            "text/plain": [
              "torch.utils.data.dataloader.DataLoader"
            ]
          },
          "metadata": {},
          "execution_count": 35
        }
      ]
    },
    {
      "cell_type": "markdown",
      "source": [
        "As such we can ask for a batch. Note that it contains everything we need to pass into `model` and `ctc_loss` thereafter."
      ],
      "metadata": {
        "id": "ZC-A2BztlEOW"
      }
    },
    {
      "cell_type": "code",
      "source": [
        "batch = next(iter(train_loader))\n",
        "\n",
        "batch"
      ],
      "metadata": {
        "colab": {
          "base_uri": "https://localhost:8080/"
        },
        "id": "2GYP4WsDlZge",
        "outputId": "c0128081-a0b7-40e5-dfa7-35ffc15e6f20"
      },
      "execution_count": null,
      "outputs": [
        {
          "output_type": "execute_result",
          "data": {
            "text/plain": [
              "{'inputs_padded': tensor([[[-13.6520, -12.8849, -13.5853,  ...,  -8.4916,  -7.8846,  -7.8230],\n",
              "          [-15.9424, -14.6505, -13.5119,  ...,  -8.3050,  -8.0824,  -7.9967],\n",
              "          [-15.9424, -14.2764, -13.9530,  ...,  -8.6135,  -8.6646,  -7.9449],\n",
              "          ...,\n",
              "          [-14.5076, -13.3598, -13.0216,  ...,  -8.7958,  -8.6594,  -8.6596],\n",
              "          [-14.8988, -14.9634, -14.3505,  ...,  -8.6626,  -7.9074,  -8.0763],\n",
              "          [-14.9495, -15.2543, -14.3214,  ...,  -8.5264,  -7.7452,  -8.5002]],\n",
              " \n",
              "         [[-12.4055, -12.2716, -13.8663,  ...,  -8.6725,  -9.2966,  -9.5031],\n",
              "          [-12.6852, -11.3921, -11.2947,  ...,  -9.5668,  -9.4694,  -8.0842],\n",
              "          [-11.2774, -10.2223,  -9.9931,  ...,  -9.1784,  -8.8316,  -9.0008],\n",
              "          ...,\n",
              "          [-11.8495, -11.1182, -10.4742,  ...,  -7.4367,  -7.9385,  -8.4386],\n",
              "          [-23.0259, -23.0259, -23.0259,  ..., -23.0259, -23.0259, -23.0259],\n",
              "          [-23.0259, -23.0259, -23.0259,  ..., -23.0259, -23.0259, -23.0259]],\n",
              " \n",
              "         [[-13.2710, -12.4868, -12.3315,  ...,  -9.5377,  -9.2981, -10.0582],\n",
              "          [-14.0964, -14.5776, -14.3654,  ...,  -9.4705,  -9.4937, -10.0015],\n",
              "          [-14.8864, -13.4770, -14.4435,  ...,  -9.9128,  -9.5932,  -9.2597],\n",
              "          ...,\n",
              "          [-23.0259, -23.0259, -23.0259,  ..., -23.0259, -23.0259, -23.0259],\n",
              "          [-23.0259, -23.0259, -23.0259,  ..., -23.0259, -23.0259, -23.0259],\n",
              "          [-23.0259, -23.0259, -23.0259,  ..., -23.0259, -23.0259, -23.0259]],\n",
              " \n",
              "         ...,\n",
              " \n",
              "         [[-14.8435, -13.2527, -13.0758,  ..., -11.0540, -11.0761, -11.3294],\n",
              "          [-15.1276, -15.3337, -14.7738,  ..., -11.3441, -11.4759, -12.0501],\n",
              "          [-14.1107, -13.7938, -14.9286,  ..., -12.2066, -12.1965, -12.0022],\n",
              "          ...,\n",
              "          [-23.0259, -23.0259, -23.0259,  ..., -23.0259, -23.0259, -23.0259],\n",
              "          [-23.0259, -23.0259, -23.0259,  ..., -23.0259, -23.0259, -23.0259],\n",
              "          [-23.0259, -23.0259, -23.0259,  ..., -23.0259, -23.0259, -23.0259]],\n",
              " \n",
              "         [[-11.9239, -11.4591, -12.1068,  ...,  -9.2374,  -9.0813,  -9.2334],\n",
              "          [-12.8710, -12.2527, -13.1288,  ...,  -8.1039,  -9.6412,  -9.5960],\n",
              "          [-12.9163, -11.9454, -12.5584,  ...,  -8.5631,  -9.6109,  -9.7990],\n",
              "          ...,\n",
              "          [-23.0259, -23.0259, -23.0259,  ..., -23.0259, -23.0259, -23.0259],\n",
              "          [-23.0259, -23.0259, -23.0259,  ..., -23.0259, -23.0259, -23.0259],\n",
              "          [-23.0259, -23.0259, -23.0259,  ..., -23.0259, -23.0259, -23.0259]],\n",
              " \n",
              "         [[-13.2617, -12.3145, -13.1409,  ...,  -9.9265, -10.0313, -10.9578],\n",
              "          [-12.8029, -12.4079, -14.9129,  ..., -10.7636, -10.2385, -10.1604],\n",
              "          [-12.8562, -12.1597, -13.1627,  ...,  -9.3724,  -9.4794, -10.4826],\n",
              "          ...,\n",
              "          [-23.0259, -23.0259, -23.0259,  ..., -23.0259, -23.0259, -23.0259],\n",
              "          [-23.0259, -23.0259, -23.0259,  ..., -23.0259, -23.0259, -23.0259],\n",
              "          [-23.0259, -23.0259, -23.0259,  ..., -23.0259, -23.0259, -23.0259]]]),\n",
              " 'input_lengths': tensor([1521, 1519, 1518, 1516, 1515, 1512, 1512, 1512, 1507, 1504, 1499, 1497,\n",
              "         1493, 1492, 1492, 1490, 1490, 1488, 1484]),\n",
              " 'labels_padded': tensor([[ 2, 13, 10,  ...,  0,  0,  0],\n",
              "         [ 2,  6, 19,  ...,  0,  0,  0],\n",
              "         [ 2, 28, 13,  ...,  0,  0,  0],\n",
              "         ...,\n",
              "         [ 2,  7, 30,  ...,  0,  0,  0],\n",
              "         [ 2, 28, 13,  ...,  0,  0,  0],\n",
              "         [ 2, 24,  6,  ...,  0,  0,  0]]),\n",
              " 'label_lengths': tensor([190, 202, 244, 203, 260, 150, 202, 186, 253, 203, 215, 217, 269, 237,\n",
              "         207, 234, 232, 242, 221], dtype=torch.int32)}"
            ]
          },
          "metadata": {},
          "execution_count": 36
        }
      ]
    },
    {
      "cell_type": "markdown",
      "source": [
        "## Configure PyTorch Lightning  (MWE)\n",
        "\n",
        "We're just about ready to train our model. We can more or less follow the template from [Lightning in 15 minutes](https://lightning.ai/docs/pytorch/2.0.2/starter/introduction.html), with some slight adjustments for our speech use case.\n",
        "\n",
        "For the time being, we'll also hard-code some hyperparameters (e.g. learning rate) before we add on fancier ways of adjusting things by command-line input."
      ],
      "metadata": {
        "id": "_TV_fJwIkF3g"
      }
    },
    {
      "cell_type": "markdown",
      "source": [
        "### Configure `LightningModule`"
      ],
      "metadata": {
        "id": "_hGBtDFNpWl2"
      }
    },
    {
      "cell_type": "code",
      "source": [
        "import lightning.pytorch as pl\n",
        "\n",
        "MAX_STEPS=10_000\n",
        "LEARNING_RATE=1e-4\n",
        "\n",
        "class DeepSpeechLightningModule(pl.LightningModule):\n",
        "    def __init__(self, n_feature, tokenizer):\n",
        "        super().__init__()\n",
        "        # See Model section for details\n",
        "        self.model    = torchaudio.models.DeepSpeech(n_feature=n_feature, n_class=len(list(tokenizer.idx2token)))\n",
        "        # See Loss section for details\n",
        "        self.ctc_loss = torch.nn.CTCLoss(blank=list(tokenizer.idx2token).index('<pad>'), reduction=\"sum\", zero_infinity=True)\n",
        "\n",
        "    def training_step(self, batch, batch_idx):\n",
        "        # See loss usage section for details\n",
        "        log_probs   = self.model(batch['inputs_padded'])\n",
        "\n",
        "        loss = self.ctc_loss(log_probs.transpose(0, 1), batch[\"labels_padded\"], batch[\"input_lengths\"], batch[\"label_lengths\"])\n",
        "\n",
        "        # Future-proof for multi-GPU training: normalize the loss based on the sum of batch_size across all GPUs\n",
        "        batch_size = batch['inputs_padded'].size(0)\n",
        "        # Get batch sizes from all GPUs\n",
        "        batch_sizes = self.all_gather(batch_size)\n",
        "        # Normalize by world size / batch size\n",
        "        loss *= batch_sizes.size(0) / batch_sizes.sum()\n",
        "\n",
        "        return loss\n",
        "\n",
        "    def configure_optimizers(self):\n",
        "        optimizer = torch.optim.AdamW(self.model.parameters(), lr=LEARNING_RATE)\n",
        "        scheduler = torch.optim.lr_scheduler.OneCycleLR(optimizer, max_lr=LEARNING_RATE, total_steps=MAX_STEPS, anneal_strategy='linear')\n",
        "\n",
        "        return {\n",
        "            \"optimizer\": optimizer,\n",
        "            \"lr_scheduler\": {\"scheduler\": scheduler, \"interval\": \"step\", 'frequency': 1 }\n",
        "        }"
      ],
      "metadata": {
        "id": "eG8W35-dlYRr"
      },
      "execution_count": null,
      "outputs": []
    },
    {
      "cell_type": "markdown",
      "source": [
        "### Configure `Trainer`\n"
      ],
      "metadata": {
        "id": "9l_yBbEKpcCO"
      }
    },
    {
      "cell_type": "code",
      "source": [
        "# Skip cell in Colab\n",
        "%%script echo \"\"\n",
        "\n",
        "trainer = pl.Trainer(\n",
        "    max_steps=MAX_STEPS,\n",
        "    max_epochs=-1,\n",
        "    strategy=\"ddp\",\n",
        "    use_distributed_sampler=False,\n",
        "    # Disabled for this minimal working example\n",
        "    enable_checkpointing=False,\n",
        "    enable_model_summary=False,\n",
        "    logger=None,\n",
        "    limit_val_batches=0\n",
        ")"
      ],
      "metadata": {
        "colab": {
          "base_uri": "https://localhost:8080/"
        },
        "id": "XlntwthTpJ-n",
        "outputId": "66674e4f-f873-4c64-f9e4-a1a1c3f3f4d4"
      },
      "execution_count": null,
      "outputs": [
        {
          "output_type": "stream",
          "name": "stdout",
          "text": [
            "\n"
          ]
        }
      ]
    },
    {
      "cell_type": "markdown",
      "source": [
        "### Run training"
      ],
      "metadata": {
        "id": "2Qwq09soqlgz"
      }
    },
    {
      "cell_type": "code",
      "source": [
        "# Skip cell in Colab\n",
        "%%script echo \"\"\n",
        "\n",
        "trainer.fit(\n",
        "  DeepSpeechLightningModule(80, tokenizer),\n",
        "  train_dataloaders=train_loader\n",
        ")"
      ],
      "metadata": {
        "colab": {
          "base_uri": "https://localhost:8080/"
        },
        "id": "Og0aRlZ-p_ob",
        "outputId": "d5eedd83-5c04-466a-a1fa-478fcbb9d847"
      },
      "execution_count": null,
      "outputs": [
        {
          "output_type": "stream",
          "name": "stdout",
          "text": [
            "\n"
          ]
        }
      ]
    },
    {
      "cell_type": "code",
      "source": [],
      "metadata": {
        "id": "2E5vRxm0Mvr3"
      },
      "execution_count": null,
      "outputs": []
    }
  ]
}